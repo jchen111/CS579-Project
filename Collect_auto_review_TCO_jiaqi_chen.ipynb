{
 "metadata": {
  "name": "",
  "signature": "sha256:c104ee7078fc0a5d403b33cb5d30682eca184dd9344bb0b6fd1d91d9533687d9"
 },
 "nbformat": 3,
 "nbformat_minor": 0,
 "worksheets": [
  {
   "cells": [
    {
     "cell_type": "code",
     "collapsed": false,
     "input": [
      "from edmunds.edmunds import Edmunds\n",
      "import os\n",
      "import time\n",
      "api = Edmunds('k7nhme5yf7xem53u43wrcuhp')\n",
      "filename = 'compact_suv' # content of the automobiles you want to collect is here\n",
      "\n",
      "def read_automobiles(filename):\n",
      "    \"\"\" Read a list of automobiles.\n",
      "    Args:\n",
      "      filename: The name of the text file containing automobiles make model year.\n",
      "    Returns:\n",
      "      A list of automobile make model year\n",
      "    \"\"\"\n",
      "    automobiles = []\n",
      "    with open(filename) as f:\n",
      "        lines = f.read().splitlines()\n",
      "        for item in lines:\n",
      "            automobiles.append(item)  \n",
      "    return automobiles\n",
      "\n",
      "# get all the styles of a given (make/model/year)\n",
      "def get_styleId(automobiles):\n",
      "    stylesId = []\n",
      "    response_styleid = api.make_call('/api/vehicle/v2/'+automobiles.split()[0]+'/'+automobiles.split()[1]+'/'+automobiles.split()[2]+'/styles')\n",
      "    print 'There are %d styles for %s'%(len(response_styleid['styles']),automobiles)\n",
      "    print '--------------------------------------------------------------------------------------------'\n",
      "    for i in range(0,len(response_styleid['styles'])):\n",
      "        #just for hybrid identification\n",
      "        #if response_styleid['styles'][i]['submodel']['niceName'].encode('UTF-8') == 'hybrid':\n",
      "        stylesId.append(response_styleid['styles'][i]['id'])\n",
      "    \n",
      "    return stylesId\n",
      "\n",
      "# get the text review of a given style\n",
      "def get_textreview(stylesId,auto):\n",
      "    for item in stylesId:\n",
      "        response_review = api.make_call('/api/vehiclereviews/v2/styles/'+str(item))\n",
      "        time.sleep(1) # make sure we do not request over the requests rate. which is 2 req/s\n",
      "        response_TCO = api.make_call('/v1/api/tco/newtruecosttoownbystyleidandzip/'+str(item)+'/60616')\n",
      "        time.sleep(2) # make sure we do not request over the requests rate. which is 2 req/s\n",
      "        if response_review.keys()[2].encode('UTF-8') != 'errorType':\n",
      "            print 'There are %d reviews for styleid %s'%(len(response_review['reviews']),str(item))\n",
      "            print '--------------------------------------------------------------------------------------------'\n",
      "            textreview = []\n",
      "            for i in range(0,len(response_review['reviews'])):\n",
      "                print response_review['reviews'][i]['text']\n",
      "                print '--------------------------------------------------------------------------------------------'\n",
      "                textreview.append(response_review['reviews'][i]['text'].encode('UTF-8'))\n",
      "                textreview.append('\\n------------------------------------------------------------------------------------------\\n')\n",
      "            with open('/Users/jiaqichen/Project/'+filename+'_review/'+auto+'/'+str(item)+'_'+auto+'.txt','a') as f1:\n",
      "                line = f1.writelines(textreview)\n",
      "            if response_TCO.keys()[0].encode('UTF-8') != 'error':\n",
      "                time.sleep(2)\n",
      "                with open('/Users/jiaqichen/Project/'+filename+'_TCO/'+filename+'_TCO'+'.txt','a') as f2:\n",
      "                    line = f2.writelines(auto+' '+str(item)+' '+str(response_TCO['value'])+'\\n')\n",
      "            else:\n",
      "                print 'There is no TCO available for %s\\n'%str(item)\n",
      "        else:\n",
      "            print 'There are no reviews for styleid %s'%(str(item))\n",
      "\n",
      "autos = read_automobiles(filename+'.txt')# read the automobiles we want to collect\n",
      "for auto in autos:\n",
      "    if not os.path.exists('/Users/jiaqichen/Project/'+filename+'_review/'+auto):\n",
      "        os.makedirs('/Users/jiaqichen/Project/'+filename+'_review/'+auto)\n",
      "    if not os.path.exists('/Users/jiaqichen/Project/'+filename+'_TCO/'):\n",
      "        os.makedirs('/Users/jiaqichen/Project/'+filename+'_TCO/')\n",
      "    print '------------------------------------------'+auto+'--------------------------------------------------\\n'\n",
      "    stylesId = get_styleId(auto)\n",
      "    get_textreview(stylesId,auto)"
     ],
     "language": "python",
     "metadata": {},
     "outputs": [
      {
       "output_type": "stream",
       "stream": "stdout",
       "text": [
        "------------------------------------------bmw x6 2014--------------------------------------------------\n",
        "\n",
        "There are 2 styles for bmw x6 2014"
       ]
      },
      {
       "output_type": "stream",
       "stream": "stdout",
       "text": [
        "\n",
        "--------------------------------------------------------------------------------------------\n",
        "There are no reviews for styleid 200471384"
       ]
      },
      {
       "output_type": "stream",
       "stream": "stdout",
       "text": [
        "\n",
        "There are no reviews for styleid 200471385"
       ]
      },
      {
       "output_type": "stream",
       "stream": "stdout",
       "text": [
        "\n",
        "------------------------------------------hyundai equus 2014--------------------------------------------------\n",
        "\n",
        "There are 2 styles for hyundai equus 2014"
       ]
      },
      {
       "output_type": "stream",
       "stream": "stdout",
       "text": [
        "\n",
        "--------------------------------------------------------------------------------------------\n",
        "There are 3 reviews for styleid 200481968"
       ]
      },
      {
       "output_type": "stream",
       "stream": "stdout",
       "text": [
        "\n",
        "--------------------------------------------------------------------------------------------\n",
        "After looking at luxury sedans for about a year, I traded my Bimmer for the Equus without a second thought.  The Equus was the first car I got into for a test ride that I felt was more comfortable than the 745.  \r\n",
        "\r\n",
        "It uses regular gas, gets comparable mileage, is as quiet, comfortable and well equipped as the 745i - for 10s of thousands less. Add the superior warranty and valet service (I haven't been to the dealer for service in nearly 4 years!)  \r\n",
        "\r\n",
        "Only two demerits: less than stellar iPod implementation (on an otherwise outstanding audio system) and handling that's more boat like than Bimmerish.  I'll keep the 2011 until Hyundai delivers an AWD Equus.\n",
        "--------------------------------------------------------------------------------------------\n",
        "If you have owned a Lexus, I don't think you'll be satisfied with the Equus.\n",
        "I am at 4 months of ownership, 2800 miles, and there are quite a few paint chips on the rocker panels due to stepping in and out of the car.\n",
        "It's obviously not just me, because they are on both sides.\n",
        "Lexus has a metal plate where Equus has a piece of painted plastic. That's an engineering flaw in my book.\n",
        "I'm being told this isn't warrantable because it was caused by the user.\n",
        "I also have a small tear on the leather on the drivers's side door. i don't have the space to discuss the buying \"experience\" but it's not one I will repeat...with bait and switch by 1 dealer and addition of BS charges by another. \n",
        "--------------------------------------------------------------------------------------------\n",
        "I bought the 2014 Equus Signature, black with tan interior, just a great car. I shopped the Mercedes S550, BMW 750 and the Lexus 460 before making my decision on this purchase. Realistically there is no comparison, this car rocks the competition. The interior of the Equus is awesome, the seats are exceptionally comfortable, the controls are nicely positioned and the stereo is tremendous. The interior amenities are as they should be in a car of this class. The fit and finish is comparable to the cars costing $40K more. The performance is similar to both the S550 and the BMW 750 in acceleration, the ride is more closely related to the S550. I would highly recommend to anyone looking for a car \n",
        "--------------------------------------------------------------------------------------------\n",
        "There are 2 reviews for styleid 200481969"
       ]
      },
      {
       "output_type": "stream",
       "stream": "stdout",
       "text": [
        "\n",
        "--------------------------------------------------------------------------------------------\n",
        "After looking and wondering why any one would spend 80,000 to 120,000 on a German or Japanese\r\n",
        "luxury car I have come to the conclusion the world is full of idiots. My 2014 equus is so close in all categories that the thought of spending big bucks on  the German or Japanese luxury cars makes me laugh. They are all just cars and nothing more . I drove them all then looked at the window sticker and just laughed. The only one that made sense was the equus.   \n",
        "--------------------------------------------------------------------------------------------\n",
        "After owning 14 Equus about 10month, I feel like I havebeen scammed by Germans more than 15years.\n",
        "--------------------------------------------------------------------------------------------\n",
        "------------------------------------------infiniti qx 2013--------------------------------------------------\n"
       ]
      },
      {
       "output_type": "stream",
       "stream": "stdout",
       "text": [
        "\n",
        "There are 2 styles for infiniti qx 2013"
       ]
      },
      {
       "output_type": "stream",
       "stream": "stdout",
       "text": [
        "\n",
        "--------------------------------------------------------------------------------------------\n",
        "There are 2 reviews for styleid 200443083"
       ]
      },
      {
       "output_type": "stream",
       "stream": "stdout",
       "text": [
        "\n",
        "--------------------------------------------------------------------------------------------\n",
        "The entire value proposition of this vehicle is way off. The costs of ownership are just ridiculous for all infinitis, especially the SUVs. First they are noisy. On the inside. Very much so on the outside. Second, infiniti and Nissan have terrible brakes. They're just bad. You will end up replacing them faster with the SUV. In 20,000 or less. Third, it guzzles gas. Maybe it gets 70% of its low estimate. Four, cost of ownership. Lose a key fob? $500. One of the door locks broke, they want $2,000. The front seat motor breaks, $1500. This is on a car with 54,000 miles on it. None of it is covered. I wouldn't take another one of these cars if it was free. The cost of ownership is ridiculous. \n",
        "--------------------------------------------------------------------------------------------\n",
        "I absolutely love my brand new 2013 QX56 BUT it did not come equipped with Infiniti Connection.\n",
        "The website shows that it is standard equipment but it did not come on my vehicle.\n",
        "I contacted consumer affairs, for a week we went back and forth with them, they kept saying it was on the vehicle, I was not pushing the right buttons.\n",
        "Then, they finally said that it was added later in the year.\n",
        "My only problem is that when you look at the main website and it shows STANDARD then it should be on every 2013 QX56.\n",
        "I would love to know how many other people this has happened to.\n",
        "--------------------------------------------------------------------------------------------\n",
        "There are no reviews for styleid 200443084"
       ]
      },
      {
       "output_type": "stream",
       "stream": "stdout",
       "text": [
        "\n",
        "------------------------------------------bmw activehybrid-5 2014--------------------------------------------------\n",
        "\n",
        "There are 1 styles for bmw activehybrid-5 2014"
       ]
      },
      {
       "output_type": "stream",
       "stream": "stdout",
       "text": [
        "\n",
        "--------------------------------------------------------------------------------------------\n",
        "There are no reviews for styleid 200492997"
       ]
      },
      {
       "output_type": "stream",
       "stream": "stdout",
       "text": [
        "\n",
        "------------------------------------------infiniti qx80 2014--------------------------------------------------\n",
        "\n",
        "There are 2 styles for infiniti qx80 2014"
       ]
      },
      {
       "output_type": "stream",
       "stream": "stdout",
       "text": [
        "\n",
        "--------------------------------------------------------------------------------------------\n",
        "There are no reviews for styleid 200483978"
       ]
      },
      {
       "output_type": "stream",
       "stream": "stdout",
       "text": [
        "\n",
        "There are no reviews for styleid 200483977"
       ]
      },
      {
       "output_type": "stream",
       "stream": "stdout",
       "text": [
        "\n",
        "------------------------------------------cadillac escalade-ext 2013--------------------------------------------------\n",
        "\n",
        "There are 3 styles for cadillac escalade-ext 2013"
       ]
      },
      {
       "output_type": "stream",
       "stream": "stdout",
       "text": [
        "\n",
        "--------------------------------------------------------------------------------------------\n",
        "There are no reviews for styleid 200428855"
       ]
      },
      {
       "output_type": "stream",
       "stream": "stdout",
       "text": [
        "\n",
        "There are no reviews for styleid 200428856"
       ]
      },
      {
       "output_type": "stream",
       "stream": "stdout",
       "text": [
        "\n",
        "There are no reviews for styleid 200428854"
       ]
      },
      {
       "output_type": "stream",
       "stream": "stdout",
       "text": [
        "\n",
        "------------------------------------------cadillac cts-v 2013--------------------------------------------------\n",
        "\n",
        "There are 1 styles for cadillac cts-v 2013"
       ]
      },
      {
       "output_type": "stream",
       "stream": "stdout",
       "text": [
        "\n",
        "--------------------------------------------------------------------------------------------\n",
        "There are no reviews for styleid 200427171"
       ]
      },
      {
       "output_type": "stream",
       "stream": "stdout",
       "text": [
        "\n",
        "------------------------------------------cadillac cts-v 2014--------------------------------------------------\n",
        "\n",
        "There are 1 styles for cadillac cts-v 2014"
       ]
      },
      {
       "output_type": "stream",
       "stream": "stdout",
       "text": [
        "\n",
        "--------------------------------------------------------------------------------------------\n",
        "There are no reviews for styleid 200479621"
       ]
      },
      {
       "output_type": "stream",
       "stream": "stdout",
       "text": [
        "\n",
        "------------------------------------------cadillac escalade 2013--------------------------------------------------\n",
        "\n",
        "There are 8 styles for cadillac escalade 2013"
       ]
      },
      {
       "output_type": "stream",
       "stream": "stdout",
       "text": [
        "\n",
        "--------------------------------------------------------------------------------------------\n",
        "There are no reviews for styleid 200428112"
       ]
      },
      {
       "output_type": "stream",
       "stream": "stdout",
       "text": [
        "\n",
        "There are no reviews for styleid 200428119"
       ]
      },
      {
       "output_type": "stream",
       "stream": "stdout",
       "text": [
        "\n",
        "There are no reviews for styleid 200428117"
       ]
      },
      {
       "output_type": "stream",
       "stream": "stdout",
       "text": [
        "\n",
        "There are no reviews for styleid 200428118"
       ]
      },
      {
       "output_type": "stream",
       "stream": "stdout",
       "text": [
        "\n",
        "There are no reviews for styleid 200428115"
       ]
      },
      {
       "output_type": "stream",
       "stream": "stdout",
       "text": [
        "\n",
        "There are no reviews for styleid 200428116"
       ]
      },
      {
       "output_type": "stream",
       "stream": "stdout",
       "text": [
        "\n",
        "There are no reviews for styleid 200428113"
       ]
      },
      {
       "output_type": "stream",
       "stream": "stdout",
       "text": [
        "\n",
        "There are no reviews for styleid 200428114"
       ]
      },
      {
       "output_type": "stream",
       "stream": "stdout",
       "text": [
        "\n",
        "------------------------------------------cadillac escalade 2014--------------------------------------------------\n",
        "\n",
        "There are 8 styles for cadillac escalade 2014"
       ]
      },
      {
       "output_type": "stream",
       "stream": "stdout",
       "text": [
        "\n",
        "--------------------------------------------------------------------------------------------\n",
        "There are no reviews for styleid 200476403"
       ]
      },
      {
       "output_type": "stream",
       "stream": "stdout",
       "text": [
        "\n",
        "There are no reviews for styleid 200476402"
       ]
      },
      {
       "output_type": "stream",
       "stream": "stdout",
       "text": [
        "\n",
        "There are no reviews for styleid 200476399"
       ]
      },
      {
       "output_type": "stream",
       "stream": "stdout",
       "text": [
        "\n",
        "There are no reviews for styleid 200476397"
       ]
      },
      {
       "output_type": "stream",
       "stream": "stdout",
       "text": [
        "\n",
        "There are no reviews for styleid 200476398"
       ]
      },
      {
       "output_type": "stream",
       "stream": "stdout",
       "text": [
        "\n",
        "There are no reviews for styleid 200492471"
       ]
      },
      {
       "output_type": "stream",
       "stream": "stdout",
       "text": [
        "\n",
        "There are no reviews for styleid 200476396"
       ]
      },
      {
       "output_type": "stream",
       "stream": "stdout",
       "text": [
        "\n",
        "There are no reviews for styleid 200492470"
       ]
      },
      {
       "output_type": "stream",
       "stream": "stdout",
       "text": [
        "\n",
        "------------------------------------------audi a7 2014--------------------------------------------------\n",
        "\n",
        "There are 2 styles for audi a7 2014"
       ]
      },
      {
       "output_type": "stream",
       "stream": "stdout",
       "text": [
        "\n",
        "--------------------------------------------------------------------------------------------\n",
        "There are no reviews for styleid 200479591"
       ]
      },
      {
       "output_type": "stream",
       "stream": "stdout",
       "text": [
        "\n",
        "There are no reviews for styleid 200479588"
       ]
      },
      {
       "output_type": "stream",
       "stream": "stdout",
       "text": [
        "\n",
        "------------------------------------------cadillac escalade-esv 2013--------------------------------------------------\n",
        "\n",
        "There are 8 styles for cadillac escalade-esv 2013"
       ]
      },
      {
       "output_type": "stream",
       "stream": "stdout",
       "text": [
        "\n",
        "--------------------------------------------------------------------------------------------\n",
        "There are no reviews for styleid 200428283"
       ]
      },
      {
       "output_type": "stream",
       "stream": "stdout",
       "text": [
        "\n",
        "There are no reviews for styleid 200428284"
       ]
      },
      {
       "output_type": "stream",
       "stream": "stdout",
       "text": [
        "\n",
        "There are no reviews for styleid 200428287"
       ]
      },
      {
       "output_type": "stream",
       "stream": "stdout",
       "text": [
        "\n",
        "There are no reviews for styleid 200428288"
       ]
      },
      {
       "output_type": "stream",
       "stream": "stdout",
       "text": [
        "\n",
        "There are no reviews for styleid 200428285"
       ]
      },
      {
       "output_type": "stream",
       "stream": "stdout",
       "text": [
        "\n",
        "There are no reviews for styleid 200428286"
       ]
      },
      {
       "output_type": "stream",
       "stream": "stdout",
       "text": [
        "\n",
        "There are no reviews for styleid 200428290"
       ]
      },
      {
       "output_type": "stream",
       "stream": "stdout",
       "text": [
        "\n",
        "There are no reviews for styleid 200428289"
       ]
      },
      {
       "output_type": "stream",
       "stream": "stdout",
       "text": [
        "\n",
        "------------------------------------------bmw m3 2013--------------------------------------------------\n",
        "\n",
        "There are 2 styles for bmw m3 2013"
       ]
      },
      {
       "output_type": "stream",
       "stream": "stdout",
       "text": [
        "\n",
        "--------------------------------------------------------------------------------------------\n",
        "There are no reviews for styleid 200429367"
       ]
      },
      {
       "output_type": "stream",
       "stream": "stdout",
       "text": [
        "\n",
        "There are 1 reviews for styleid 200429368"
       ]
      },
      {
       "output_type": "stream",
       "stream": "stdout",
       "text": [
        "\n",
        "--------------------------------------------------------------------------------------------\n",
        "I have owned the 2013 M3 Coupe with Competition Package and DCT for about 6 months now. The 2013 M3 Coupe is a fantastic machine. The fit and finish is fantastic and the power delivery is excellent. Keep in mind that the M3 does not have a lot of low end torque (compared to other cars) and the power is delivered around 8000 RPM. I love that you can program custom settings to the M button. You can drive the car in \"normal\" mode and be very comfortable and easy going and at the touch of a button you have a race car. It is instantaneous and you feel like you are suddenly driving a race car. I added laser shifters and a built in GPS enabled radar system as you can be doing 110 in no time flat.\n",
        "--------------------------------------------------------------------------------------------\n",
        "------------------------------------------audi rs-5 2013--------------------------------------------------\n"
       ]
      },
      {
       "output_type": "stream",
       "stream": "stdout",
       "text": [
        "\n",
        "There are 2 styles for audi rs-5 2013"
       ]
      },
      {
       "output_type": "stream",
       "stream": "stdout",
       "text": [
        "\n",
        "--------------------------------------------------------------------------------------------\n",
        "There are 2 reviews for styleid 101286075"
       ]
      },
      {
       "output_type": "stream",
       "stream": "stdout",
       "text": [
        "\n",
        "--------------------------------------------------------------------------------------------\n",
        "Fun to drive, yet with drive select, you can make it as aggressive a ride as you want. \n",
        "\n",
        "Custom your modes into 16 combinations\n",
        "\n",
        "DRL LEDs.\n",
        "\n",
        "Transmission = VERY smooth gear changing.\n",
        "\n",
        "Exhaust sound = loud downshifts, great sounding upshifts and acceleration sounds.\n",
        "\n",
        "Exterior design = subjective.\n",
        "To me, it was aggressive in a very good way.\n",
        "\n",
        "Uniqueness = only 1,500 to be sold and made for the North American market for 2013 and 2014 (check NA Audi President Scott Keogh's video interview).\n",
        "\n",
        "Performance = Based on caranddriver's lightning lap times, it beats the M3, M5, M6, and V8 R8 by a slim margin.\n",
        "\n",
        "\n",
        "Mileage = just enough efficiency to omit the Green tax.\n",
        "--------------------------------------------------------------------------------------------\n",
        "I replaced my 2010 S5 with a 2013 RS5 in December.\n",
        "The S5 was great; the RS5 is an order of magnitude beyond that.\n",
        "It handles beautifully (I never considered raving about steering but the way it steers had to be experienced to be believed: whoever thought turning a corner could be so much fun), the controls are well-placed and intuitive.\n",
        "The Google GPS is a treat.\n",
        "Let's face it, no one needs 450 horsepower, but my, my it sure is nice to have it.\n",
        "Do yourself a favor and spring for the sports exhaust, 'cause if you ever feel depressed all you have to do is sit in your driveway and rev the engine; why take a pill?\n",
        "If that doesn't work, just get it on the road and shift to sports mode.\n",
        "--------------------------------------------------------------------------------------------\n",
        "There are no reviews for styleid 200465684"
       ]
      },
      {
       "output_type": "stream",
       "stream": "stdout",
       "text": [
        "\n",
        "------------------------------------------audi s6 2013--------------------------------------------------\n",
        "\n",
        "There are 1 styles for audi s6 2013"
       ]
      },
      {
       "output_type": "stream",
       "stream": "stdout",
       "text": [
        "\n",
        "--------------------------------------------------------------------------------------------\n",
        "There are 1 reviews for styleid 101412863"
       ]
      },
      {
       "output_type": "stream",
       "stream": "stdout",
       "text": [
        "\n",
        "--------------------------------------------------------------------------------------------\n",
        "I traded my 2011 Audi S4 Prestige with drive Select on a 2013 S6 with the invovation package. Although the S6 was 30% more expensive than the S4, I consider it a bargain. It rides better, handles better, is faster, and is techincally much more advanced than the S4. It also gets just as good gas mileage. I have been driving Audi Quattros since 1987 and This is my eleventh one, so I do have considerable experience with the brand and know what I am saying when I say the 2013 Audi S6 is one awesome car. \n",
        "--------------------------------------------------------------------------------------------\n",
        "------------------------------------------bmw 7-series 2013--------------------------------------------------\n"
       ]
      },
      {
       "output_type": "stream",
       "stream": "stdout",
       "text": [
        "\n",
        "There are 8 styles for bmw 7-series 2013"
       ]
      },
      {
       "output_type": "stream",
       "stream": "stdout",
       "text": [
        "\n",
        "--------------------------------------------------------------------------------------------\n",
        "There are no reviews for styleid 200429884"
       ]
      },
      {
       "output_type": "stream",
       "stream": "stdout",
       "text": [
        "\n",
        "There are no reviews for styleid 200429764"
       ]
      },
      {
       "output_type": "stream",
       "stream": "stdout",
       "text": [
        "\n",
        "There are no reviews for styleid 200429763"
       ]
      },
      {
       "output_type": "stream",
       "stream": "stdout",
       "text": [
        "\n",
        "There are no reviews for styleid 200429762"
       ]
      },
      {
       "output_type": "stream",
       "stream": "stdout",
       "text": [
        "\n",
        "There are no reviews for styleid 200429768"
       ]
      },
      {
       "output_type": "stream",
       "stream": "stdout",
       "text": [
        "\n",
        "There are no reviews for styleid 200429767"
       ]
      },
      {
       "output_type": "stream",
       "stream": "stdout",
       "text": [
        "\n",
        "There are 1 reviews for styleid 200429766"
       ]
      },
      {
       "output_type": "stream",
       "stream": "stdout",
       "text": [
        "\n",
        "--------------------------------------------------------------------------------------------\n",
        "Woooow, what an improvement over the 2012 model. The 2013 750i has not only BMW's new larger twin turbo V8 (which is also more fuel efficient), but also the next gen iDrive. The new iDrive is much quicker to respond, better screen quality, and easier to use. The ride is amazing (as it should be for $100K). I test drove the 2012 last year and liked it, but didn't buy. I told myself I was going to wait, and I am soooo glad I did. This car is also very comfortable for 4 6 footers on a long trip.\n",
        "\n",
        "--------------------------------------------------------------------------------------------\n",
        "There are no reviews for styleid 200429765"
       ]
      },
      {
       "output_type": "stream",
       "stream": "stdout",
       "text": [
        "\n",
        "------------------------------------------bmw 6-series 2013--------------------------------------------------\n",
        "\n",
        "There are 6 styles for bmw 6-series 2013"
       ]
      },
      {
       "output_type": "stream",
       "stream": "stdout",
       "text": [
        "\n",
        "--------------------------------------------------------------------------------------------\n",
        "There are no reviews for styleid 200429534"
       ]
      },
      {
       "output_type": "stream",
       "stream": "stdout",
       "text": [
        "\n",
        "There are no reviews for styleid 200429533"
       ]
      },
      {
       "output_type": "stream",
       "stream": "stdout",
       "text": [
        "\n",
        "There are no reviews for styleid 200429536"
       ]
      },
      {
       "output_type": "stream",
       "stream": "stdout",
       "text": [
        "\n",
        "There are no reviews for styleid 200429535"
       ]
      },
      {
       "output_type": "stream",
       "stream": "stdout",
       "text": [
        "\n",
        "There are no reviews for styleid 200429537"
       ]
      },
      {
       "output_type": "stream",
       "stream": "stdout",
       "text": [
        "\n",
        "There are no reviews for styleid 200429538"
       ]
      },
      {
       "output_type": "stream",
       "stream": "stdout",
       "text": [
        "\n",
        "------------------------------------------cadillac elr 2014--------------------------------------------------\n",
        "\n",
        "There are 1 styles for cadillac elr 2014"
       ]
      },
      {
       "output_type": "stream",
       "stream": "stdout",
       "text": [
        "\n",
        "--------------------------------------------------------------------------------------------\n",
        "There are 2 reviews for styleid 200459103"
       ]
      },
      {
       "output_type": "stream",
       "stream": "stdout",
       "text": [
        "\n",
        "--------------------------------------------------------------------------------------------\n",
        "The ELR makes my commute so much nicer.  It is quiet, it is smooth, it has an amazing sound system, and it's economical.  Without too much effort, I can make my 40 mile round trip on electric only.   This isn't a fun car you want to rip up mountain roads in; that's not what it's designed to do.  It's designed to cart you around town in a quiet, luxurious cocoon that is still responsive and fun to drive.  \r\n",
        "Having the engine backup is vital.  There's no way I could do an EV with less than 100 miles of range without being constantly paranoid that I'd run out of juice.  The ELR solves that problem.  You can milk the batteries for all they've got, then the motor kicks in to keep you going.  \n",
        "--------------------------------------------------------------------------------------------\n",
        "I wanted a luxury electric car and thought Tesla was the way to go UNTIL I saw the CADILLAC ELR.\n",
        "This car is the way to go if you are looking for a high end electric car that is fun to drive and practical.\n",
        "The all electric cars concerned me since you HAD to plan a long distance trip around charging.\n",
        "The ELS, however has a 9 gallon gas tank there to power the generator to make more electricity- how awesome is that!!! (It is NOT a hybrid with a gasoline engine).\n",
        " My only fault is with the rear seat size - but lets face it, the population that drives an ELR is not running kids to dance lessons - you are way past that! (or have a mini van for the \"family car\".) \n",
        "--------------------------------------------------------------------------------------------\n",
        "------------------------------------------audi a8 2014--------------------------------------------------\n"
       ]
      },
      {
       "output_type": "stream",
       "stream": "stdout",
       "text": [
        "\n",
        "There are 6 styles for audi a8 2014"
       ]
      },
      {
       "output_type": "stream",
       "stream": "stdout",
       "text": [
        "\n",
        "--------------------------------------------------------------------------------------------\n",
        "There are no reviews for styleid 200480476"
       ]
      },
      {
       "output_type": "stream",
       "stream": "stdout",
       "text": [
        "\n",
        "There are no reviews for styleid 200480475"
       ]
      },
      {
       "output_type": "stream",
       "stream": "stdout",
       "text": [
        "\n",
        "There are no reviews for styleid 200480474"
       ]
      },
      {
       "output_type": "stream",
       "stream": "stdout",
       "text": [
        "\n",
        "There are no reviews for styleid 200480473"
       ]
      },
      {
       "output_type": "stream",
       "stream": "stdout",
       "text": [
        "\n",
        "There are 1 reviews for styleid 200465835"
       ]
      },
      {
       "output_type": "stream",
       "stream": "stdout",
       "text": [
        "\n",
        "--------------------------------------------------------------------------------------------\n",
        "I have owned Audi A8 sedans previously but switched to Mercedes S Class a few years ago - all of these high tech sedans can be problematic due to the complexity of their electronic systems - so be prepared to buy only from a dealer with 5 star service - recently, I was intrigued by the 2014 A8L TDI diesel sedan's specs and options so I acquired one - it does everything right, especially fuel mileage which surpasses my expectations - the A8L is \"sized right\" as compared to the lumbering S550 - the diesel performance is outstanding - the electronic gizmos are entertaining but most are not necessary for daily use - cons - lots of road noise from stiff tires, mediocre stereo, electronic failures\n",
        "--------------------------------------------------------------------------------------------\n",
        "There are no reviews for styleid 200480472"
       ]
      },
      {
       "output_type": "stream",
       "stream": "stdout",
       "text": [
        "\n",
        "------------------------------------------chevrolet corvette 2013--------------------------------------------------\n",
        "\n",
        "There are 7 styles for chevrolet corvette 2013"
       ]
      },
      {
       "output_type": "stream",
       "stream": "stdout",
       "text": [
        "\n",
        "--------------------------------------------------------------------------------------------\n",
        "There are no reviews for styleid 200422754"
       ]
      },
      {
       "output_type": "stream",
       "stream": "stdout",
       "text": [
        "\n",
        "There are no reviews for styleid 200422752"
       ]
      },
      {
       "output_type": "stream",
       "stream": "stdout",
       "text": [
        "\n",
        "There are no reviews for styleid 200422753"
       ]
      },
      {
       "output_type": "stream",
       "stream": "stdout",
       "text": [
        "\n",
        "There are no reviews for styleid 200422751"
       ]
      },
      {
       "output_type": "stream",
       "stream": "stdout",
       "text": [
        "\n",
        "There are no reviews for styleid 200422756"
       ]
      },
      {
       "output_type": "stream",
       "stream": "stdout",
       "text": [
        "\n",
        "There are no reviews for styleid 200422750"
       ]
      },
      {
       "output_type": "stream",
       "stream": "stdout",
       "text": [
        "\n",
        "There are 1 reviews for styleid 200422758"
       ]
      },
      {
       "output_type": "stream",
       "stream": "stdout",
       "text": [
        "\n",
        "--------------------------------------------------------------------------------------------\n",
        "well, well. i bit the bait!!! i bought a corvette 427. boy it is gorgeous,really fast. i wish to keep on talking up but that is as far as i can go. the car came with a defect on the steering column. the dealer replaced the 3 components responsable for the steering of the corvette. did not fix the problem. i got inform that GM was in a hurry redesingning a new steering column for the vehicle. finally the steering column was fixed,took more than 21 days). the car was opened and put on the surgery table at least 5 times. whats the result of it:\n",
        " 1) car leaks, my driveway ruined\n",
        " 2)a friction noise when you take off. got told that is a normal noise for gm 6 speed transmition.the only problem is \n",
        "--------------------------------------------------------------------------------------------\n",
        "------------------------------------------dodge srt-viper 2014--------------------------------------------------\n"
       ]
      },
      {
       "output_type": "stream",
       "stream": "stdout",
       "text": [
        "\n",
        "There are 2 styles for dodge srt-viper 2014"
       ]
      },
      {
       "output_type": "stream",
       "stream": "stdout",
       "text": [
        "\n",
        "--------------------------------------------------------------------------------------------\n",
        "There are no reviews for styleid 200480305"
       ]
      },
      {
       "output_type": "stream",
       "stream": "stdout",
       "text": [
        "\n",
        "There are 1 reviews for styleid 200465692"
       ]
      },
      {
       "output_type": "stream",
       "stream": "stdout",
       "text": [
        "\n",
        "--------------------------------------------------------------------------------------------\n",
        "The 2014 SRT Viper is a blast to drive. No need to downshift if you need to pass on the freeway. Steering is very sensitive while driving. Negotiating turns in a parking lot requires a little more strength, probably be due to the front tires being larger (295) in width than the rear tires of most cars. Clutch is very stiff when starting out in first gear so driving shoes or hard soled shoes are recommended. Suspension is very stiff. Cabin can get warm. You definitely get an exotic super-car without spending half a million dollars. The Viper is more than a handful so a healthy respect for it is a must for enjoyment. If you're looking to have a unique American-muscle super-car, this is it.\n",
        "--------------------------------------------------------------------------------------------\n",
        "------------------------------------------audi s8 2013--------------------------------------------------\n"
       ]
      },
      {
       "output_type": "stream",
       "stream": "stdout",
       "text": [
        "\n",
        "There are 1 styles for audi s8 2013"
       ]
      },
      {
       "output_type": "stream",
       "stream": "stdout",
       "text": [
        "\n",
        "--------------------------------------------------------------------------------------------\n",
        "There are 1 reviews for styleid 101269268"
       ]
      },
      {
       "output_type": "stream",
       "stream": "stdout",
       "text": [
        "\n",
        "--------------------------------------------------------------------------------------------\n",
        "The 2013 Audi S8 felt like quality just rolling out of the dealership. Driving it home, it just got better. Solid, fast and quality everywhere you look. It's difficult not to smile every time you're behind the wheel and look for excuses to run and errand.\n",
        "--------------------------------------------------------------------------------------------\n",
        "------------------------------------------bmw m6 2013--------------------------------------------------\n"
       ]
      },
      {
       "output_type": "stream",
       "stream": "stdout",
       "text": [
        "\n",
        "There are 2 styles for bmw m6 2013"
       ]
      },
      {
       "output_type": "stream",
       "stream": "stdout",
       "text": [
        "\n",
        "--------------------------------------------------------------------------------------------\n",
        "There are no reviews for styleid 101385914"
       ]
      },
      {
       "output_type": "stream",
       "stream": "stdout",
       "text": [
        "\n",
        "There are 1 reviews for styleid 200429285"
       ]
      },
      {
       "output_type": "stream",
       "stream": "stdout",
       "text": [
        "\n",
        "--------------------------------------------------------------------------------------------\n",
        "Prevously I owned a 2009 M3. The new M6 convertible is light years ahead. Nothing on the market compares to the M6 for the cost of this vehicle. Comfort, styling, options and power, it has it all. This car will be hard to top in 7 years when it's re designed again, but I will be there to get it! If you can afford it BUY IT, if you can't afford it test drive it.\n",
        "--------------------------------------------------------------------------------------------\n",
        "------------------------------------------audi r8 2014--------------------------------------------------\n"
       ]
      },
      {
       "output_type": "stream",
       "stream": "stdout",
       "text": [
        "\n",
        "There are 10 styles for audi r8 2014"
       ]
      },
      {
       "output_type": "stream",
       "stream": "stdout",
       "text": [
        "\n",
        "--------------------------------------------------------------------------------------------\n",
        "There are no reviews for styleid 200468016"
       ]
      },
      {
       "output_type": "stream",
       "stream": "stdout",
       "text": [
        "\n",
        "There are no reviews for styleid 200468015"
       ]
      },
      {
       "output_type": "stream",
       "stream": "stdout",
       "text": [
        "\n",
        "There are no reviews for styleid 200468014"
       ]
      },
      {
       "output_type": "stream",
       "stream": "stdout",
       "text": [
        "\n",
        "There are no reviews for styleid 200468025"
       ]
      },
      {
       "output_type": "stream",
       "stream": "stdout",
       "text": [
        "\n",
        "There are no reviews for styleid 200468021"
       ]
      },
      {
       "output_type": "stream",
       "stream": "stdout",
       "text": [
        "\n",
        "There are no reviews for styleid 200468019"
       ]
      },
      {
       "output_type": "stream",
       "stream": "stdout",
       "text": [
        "\n",
        "There are no reviews for styleid 200468020"
       ]
      },
      {
       "output_type": "stream",
       "stream": "stdout",
       "text": [
        "\n",
        "There are no reviews for styleid 200468017"
       ]
      },
      {
       "output_type": "stream",
       "stream": "stdout",
       "text": [
        "\n",
        "There are no reviews for styleid 200468018"
       ]
      },
      {
       "output_type": "stream",
       "stream": "stdout",
       "text": [
        "\n",
        "There are 1 reviews for styleid 200444175"
       ]
      },
      {
       "output_type": "stream",
       "stream": "stdout",
       "text": [
        "\n",
        "--------------------------------------------------------------------------------------------\n",
        "This is the 4th R8 I have owned & it is by far the best . Dumped my 012 V10 R-Tronic\n",
        "black optic edition for a 2014 V8 w/ S -Tronic . I love this car , smooth , powerful & sounds great . Comfortable for longer drives it is like they say.. an every day sports car .\n",
        "Gets a lot of attention when I park it , people love the car . \n",
        "--------------------------------------------------------------------------------------------\n",
        "------------------------------------------aston-martin v8-vantage 2013--------------------------------------------------\n"
       ]
      },
      {
       "output_type": "stream",
       "stream": "stdout",
       "text": [
        "\n",
        "There are 8 styles for aston-martin v8-vantage 2013"
       ]
      },
      {
       "output_type": "stream",
       "stream": "stdout",
       "text": [
        "\n",
        "--------------------------------------------------------------------------------------------\n",
        "There are no reviews for styleid 200472164"
       ]
      },
      {
       "output_type": "stream",
       "stream": "stdout",
       "text": [
        "\n",
        "There are no reviews for styleid 200472004"
       ]
      },
      {
       "output_type": "stream",
       "stream": "stdout",
       "text": [
        "\n",
        "There are no reviews for styleid 200472163"
       ]
      },
      {
       "output_type": "stream",
       "stream": "stdout",
       "text": [
        "\n",
        "There are no reviews for styleid 200472008"
       ]
      },
      {
       "output_type": "stream",
       "stream": "stdout",
       "text": [
        "\n",
        "There are no reviews for styleid 200472007"
       ]
      },
      {
       "output_type": "stream",
       "stream": "stdout",
       "text": [
        "\n",
        "There are no reviews for styleid 200472006"
       ]
      },
      {
       "output_type": "stream",
       "stream": "stdout",
       "text": [
        "\n",
        "There are no reviews for styleid 200472005"
       ]
      },
      {
       "output_type": "stream",
       "stream": "stdout",
       "text": [
        "\n",
        "There are no reviews for styleid 200472013"
       ]
      },
      {
       "output_type": "stream",
       "stream": "stdout",
       "text": [
        "\n",
        "------------------------------------------bmw alpina-b7 2014--------------------------------------------------\n",
        "\n",
        "There are 4 styles for bmw alpina-b7 2014"
       ]
      },
      {
       "output_type": "stream",
       "stream": "stdout",
       "text": [
        "\n",
        "--------------------------------------------------------------------------------------------\n",
        "There are no reviews for styleid 200491672"
       ]
      },
      {
       "output_type": "stream",
       "stream": "stdout",
       "text": [
        "\n",
        "There are no reviews for styleid 200491675"
       ]
      },
      {
       "output_type": "stream",
       "stream": "stdout",
       "text": [
        "\n",
        "There are 1 reviews for styleid 200491673"
       ]
      },
      {
       "output_type": "stream",
       "stream": "stdout",
       "text": [
        "\n",
        "--------------------------------------------------------------------------------------------\n",
        "great car with excellent pick up & effortless driving. comfortable and luxurious. \n",
        "however horrible set of oem tires. they are high performance summer tires totally unsuitable for cold city roads. they will burst on any pot hole contact. pot holes are almost standard in new york city after any snow storm. \n",
        "the tires are not available at any bmw dealer or tire shop and have to be ordered. bmw does not give a spare tire. \n",
        "beware! this makes the car extremely unreliable as there is no solution or help available\n",
        "\n",
        "--------------------------------------------------------------------------------------------\n",
        "There are no reviews for styleid 200491674"
       ]
      },
      {
       "output_type": "stream",
       "stream": "stdout",
       "text": [
        "\n"
       ]
      }
     ],
     "prompt_number": 3
    },
    {
     "cell_type": "code",
     "collapsed": false,
     "input": [],
     "language": "python",
     "metadata": {},
     "outputs": []
    }
   ],
   "metadata": {}
  }
 ]
}