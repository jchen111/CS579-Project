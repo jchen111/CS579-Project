{
 "metadata": {
  "name": "",
  "signature": "sha256:86b5dccdb2e5b3fd56f3ad7afec12f979f2f97895d87e2cca363724d59633ed6"
 },
 "nbformat": 3,
 "nbformat_minor": 0,
 "worksheets": [
  {
   "cells": [
    {
     "cell_type": "code",
     "collapsed": false,
     "input": [
      "from edmunds.edmunds import Edmunds\n",
      "import os\n",
      "import time\n",
      "api = Edmunds('frmb8hjd56feu68p7n7s4djb')\n",
      "filename = 'sports_cars'\n",
      "\n",
      "def read_automobiles(filename):\n",
      "    \"\"\" Read a list of automobiles.\n",
      "    Args:\n",
      "      filename: The name of the text file containing automobiles make model year.\n",
      "    Returns:\n",
      "      A list of automobile make model year\n",
      "    \"\"\"\n",
      "    automobiles = []\n",
      "    with open(filename) as f:\n",
      "        lines = f.read().splitlines()\n",
      "        for item in lines:\n",
      "            automobiles.append(item)  \n",
      "    return automobiles\n",
      "\n",
      "def get_styleId(automobiles):\n",
      "    stylesId = []\n",
      "    response_styleid = api.make_call('/api/vehicle/v2/'+automobiles.split()[0]+'/'+automobiles.split()[1]+'/'+automobiles.split()[2]+'/styles')\n",
      "    print 'There are %d styles for %s'%(len(response_styleid['styles']),automobiles)\n",
      "    print '--------------------------------------------------------------------------------------------'\n",
      "    for i in range(0,len(response_styleid['styles'])):\n",
      "        stylesId.append(response_styleid['styles'][i]['id'])\n",
      "    \n",
      "    return stylesId\n",
      "\n",
      "def get_textreview(stylesId,auto):\n",
      "    for item in stylesId:\n",
      "        response_review = api.make_call('/api/vehiclereviews/v2/styles/'+str(item))\n",
      "        time.sleep(1)\n",
      "        response_TCO = api.make_call('/v1/api/tco/newtruecosttoownbystyleidandzip/'+str(item)+'/60616')\n",
      "        time.sleep(2)\n",
      "        if response_review.keys()[2].encode('UTF-8') != 'errorType':\n",
      "            print 'There are %d reviews for styleid %s'%(len(response_review['reviews']),str(item))\n",
      "            print '--------------------------------------------------------------------------------------------'\n",
      "            textreview = []\n",
      "            for i in range(0,len(response_review['reviews'])):\n",
      "                print response_review['reviews'][i]['text']\n",
      "                print '--------------------------------------------------------------------------------------------'\n",
      "                textreview.append(response_review['reviews'][i]['text'].encode('UTF-8'))\n",
      "                textreview.append('\\n------------------------------------------------------------------------------------------\\n')\n",
      "            with open('/Users/WayneHu/Desktop/Edmunds/'+filename+'_review/'+auto+'/'+str(item)+'_'+auto+'.txt','a') as f1:\n",
      "                line = f1.writelines(textreview)\n",
      "            if response_TCO.keys()[0].encode('UTF-8') != 'error':\n",
      "                time.sleep(2)\n",
      "                with open('/Users/WayneHu/Desktop/Edmunds/'+filename+'_TCO/'+filename+'_TCO'+'.txt','a') as f2:\n",
      "                    line = f2.writelines(auto+' '+str(item)+' '+str(response_TCO['value'])+'\\n')\n",
      "            else:\n",
      "                print 'There is no TCO available for %s\\n'%str(item)\n",
      "        else:\n",
      "            print 'There are no reviews for styleid %s'%(str(item))\n",
      "\n",
      "autos = read_automobiles(filename+'.txt')\n",
      "for auto in autos:\n",
      "    if not os.path.exists('/Users/WayneHu/Desktop/Edmunds/'+filename+'_review/'+auto):\n",
      "        os.makedirs('/Users/WayneHu/Desktop/Edmunds/'+filename+'_review/'+auto)\n",
      "    if not os.path.exists('/Users/WayneHu/Desktop/Edmunds/'+filename+'_TCO/'):\n",
      "        os.makedirs('/Users/WayneHu/Desktop/Edmunds/'+filename+'_TCO/')\n",
      "    print '------------------------------------------'+auto+'--------------------------------------------------\\n'\n",
      "    stylesId = get_styleId(auto)\n",
      "    get_textreview(stylesId,auto)"
     ],
     "language": "python",
     "metadata": {},
     "outputs": [
      {
       "output_type": "stream",
       "stream": "stdout",
       "text": [
        "------------------------------------------Mazda MX-5-Miata 2014--------------------------------------------------\n",
        "\n",
        "There are 10 styles for Mazda MX-5-Miata 2014"
       ]
      },
      {
       "output_type": "stream",
       "stream": "stdout",
       "text": [
        "\n",
        "--------------------------------------------------------------------------------------------\n",
        "There are no reviews for styleid 200484577"
       ]
      },
      {
       "output_type": "stream",
       "stream": "stdout",
       "text": [
        "\n",
        "There are no reviews for styleid 200484576"
       ]
      },
      {
       "output_type": "stream",
       "stream": "stdout",
       "text": [
        "\n",
        "There are no reviews for styleid 200484585"
       ]
      },
      {
       "output_type": "stream",
       "stream": "stdout",
       "text": [
        "\n",
        "There are no reviews for styleid 200484581"
       ]
      },
      {
       "output_type": "stream",
       "stream": "stdout",
       "text": [
        "\n",
        "There are no reviews for styleid 200484584"
       ]
      },
      {
       "output_type": "stream",
       "stream": "stdout",
       "text": [
        "\n",
        "There are no reviews for styleid 200484578"
       ]
      },
      {
       "output_type": "stream",
       "stream": "stdout",
       "text": [
        "\n",
        "There are no reviews for styleid 200484580"
       ]
      },
      {
       "output_type": "stream",
       "stream": "stdout",
       "text": [
        "\n",
        "There are no reviews for styleid 200484579"
       ]
      },
      {
       "output_type": "stream",
       "stream": "stdout",
       "text": [
        "\n",
        "There are 1 reviews for styleid 200484583"
       ]
      },
      {
       "output_type": "stream",
       "stream": "stdout",
       "text": [
        "\n",
        "--------------------------------------------------------------------------------------------\n",
        "Fun to drive! Had to re-learn shift points for a 6-speed. Haven't had the top down yet (rain and snow are not conducive). Interior climate control works well. Seats are fairly comfortable. Needed to fiddle with height, depth, and back angle to comfortable.\n",
        "I went for a Mazda 3 hatchback to this and it is definitely a step up in the fun category!\n",
        "--------------------------------------------------------------------------------------------\n"
       ]
      },
      {
       "ename": "IOError",
       "evalue": "[Errno 13] Permission denied: '/Users/WayneHu/Desktop/Edmunds/sports_cars_review/Mazda MX-5-Miata 2014/200484583_Mazda MX-5-Miata 2014.txt'",
       "output_type": "pyerr",
       "traceback": [
        "\u001b[0;31m---------------------------------------------------------------------------\u001b[0m\n\u001b[0;31mIOError\u001b[0m                                   Traceback (most recent call last)",
        "\u001b[0;32m<ipython-input-1-df6ca33986de>\u001b[0m in \u001b[0;36m<module>\u001b[0;34m()\u001b[0m\n\u001b[1;32m     63\u001b[0m     \u001b[0;32mprint\u001b[0m \u001b[0;34m'------------------------------------------'\u001b[0m\u001b[0;34m+\u001b[0m\u001b[0mauto\u001b[0m\u001b[0;34m+\u001b[0m\u001b[0;34m'--------------------------------------------------\\n'\u001b[0m\u001b[0;34m\u001b[0m\u001b[0m\n\u001b[1;32m     64\u001b[0m     \u001b[0mstylesId\u001b[0m \u001b[0;34m=\u001b[0m \u001b[0mget_styleId\u001b[0m\u001b[0;34m(\u001b[0m\u001b[0mauto\u001b[0m\u001b[0;34m)\u001b[0m\u001b[0;34m\u001b[0m\u001b[0m\n\u001b[0;32m---> 65\u001b[0;31m     \u001b[0mget_textreview\u001b[0m\u001b[0;34m(\u001b[0m\u001b[0mstylesId\u001b[0m\u001b[0;34m,\u001b[0m\u001b[0mauto\u001b[0m\u001b[0;34m)\u001b[0m\u001b[0;34m\u001b[0m\u001b[0m\n\u001b[0m",
        "\u001b[0;32m<ipython-input-1-df6ca33986de>\u001b[0m in \u001b[0;36mget_textreview\u001b[0;34m(stylesId, auto)\u001b[0m\n\u001b[1;32m     44\u001b[0m                 \u001b[0mtextreview\u001b[0m\u001b[0;34m.\u001b[0m\u001b[0mappend\u001b[0m\u001b[0;34m(\u001b[0m\u001b[0mresponse_review\u001b[0m\u001b[0;34m[\u001b[0m\u001b[0;34m'reviews'\u001b[0m\u001b[0;34m]\u001b[0m\u001b[0;34m[\u001b[0m\u001b[0mi\u001b[0m\u001b[0;34m]\u001b[0m\u001b[0;34m[\u001b[0m\u001b[0;34m'text'\u001b[0m\u001b[0;34m]\u001b[0m\u001b[0;34m.\u001b[0m\u001b[0mencode\u001b[0m\u001b[0;34m(\u001b[0m\u001b[0;34m'UTF-8'\u001b[0m\u001b[0;34m)\u001b[0m\u001b[0;34m)\u001b[0m\u001b[0;34m\u001b[0m\u001b[0m\n\u001b[1;32m     45\u001b[0m                 \u001b[0mtextreview\u001b[0m\u001b[0;34m.\u001b[0m\u001b[0mappend\u001b[0m\u001b[0;34m(\u001b[0m\u001b[0;34m'\\n------------------------------------------------------------------------------------------\\n'\u001b[0m\u001b[0;34m)\u001b[0m\u001b[0;34m\u001b[0m\u001b[0m\n\u001b[0;32m---> 46\u001b[0;31m             \u001b[0;32mwith\u001b[0m \u001b[0mopen\u001b[0m\u001b[0;34m(\u001b[0m\u001b[0;34m'/Users/WayneHu/Desktop/Edmunds/'\u001b[0m\u001b[0;34m+\u001b[0m\u001b[0mfilename\u001b[0m\u001b[0;34m+\u001b[0m\u001b[0;34m'_review/'\u001b[0m\u001b[0;34m+\u001b[0m\u001b[0mauto\u001b[0m\u001b[0;34m+\u001b[0m\u001b[0;34m'/'\u001b[0m\u001b[0;34m+\u001b[0m\u001b[0mstr\u001b[0m\u001b[0;34m(\u001b[0m\u001b[0mitem\u001b[0m\u001b[0;34m)\u001b[0m\u001b[0;34m+\u001b[0m\u001b[0;34m'_'\u001b[0m\u001b[0;34m+\u001b[0m\u001b[0mauto\u001b[0m\u001b[0;34m+\u001b[0m\u001b[0;34m'.txt'\u001b[0m\u001b[0;34m,\u001b[0m\u001b[0;34m'a'\u001b[0m\u001b[0;34m)\u001b[0m \u001b[0;32mas\u001b[0m \u001b[0mf1\u001b[0m\u001b[0;34m:\u001b[0m\u001b[0;34m\u001b[0m\u001b[0m\n\u001b[0m\u001b[1;32m     47\u001b[0m                 \u001b[0mline\u001b[0m \u001b[0;34m=\u001b[0m \u001b[0mf1\u001b[0m\u001b[0;34m.\u001b[0m\u001b[0mwritelines\u001b[0m\u001b[0;34m(\u001b[0m\u001b[0mtextreview\u001b[0m\u001b[0;34m)\u001b[0m\u001b[0;34m\u001b[0m\u001b[0m\n\u001b[1;32m     48\u001b[0m             \u001b[0;32mif\u001b[0m \u001b[0mresponse_TCO\u001b[0m\u001b[0;34m.\u001b[0m\u001b[0mkeys\u001b[0m\u001b[0;34m(\u001b[0m\u001b[0;34m)\u001b[0m\u001b[0;34m[\u001b[0m\u001b[0;36m0\u001b[0m\u001b[0;34m]\u001b[0m\u001b[0;34m.\u001b[0m\u001b[0mencode\u001b[0m\u001b[0;34m(\u001b[0m\u001b[0;34m'UTF-8'\u001b[0m\u001b[0;34m)\u001b[0m \u001b[0;34m!=\u001b[0m \u001b[0;34m'error'\u001b[0m\u001b[0;34m:\u001b[0m\u001b[0;34m\u001b[0m\u001b[0m\n",
        "\u001b[0;31mIOError\u001b[0m: [Errno 13] Permission denied: '/Users/WayneHu/Desktop/Edmunds/sports_cars_review/Mazda MX-5-Miata 2014/200484583_Mazda MX-5-Miata 2014.txt'"
       ]
      }
     ],
     "prompt_number": 1
    },
    {
     "cell_type": "code",
     "collapsed": false,
     "input": [],
     "language": "python",
     "metadata": {},
     "outputs": [],
     "prompt_number": 3
    },
    {
     "cell_type": "code",
     "collapsed": false,
     "input": [],
     "language": "python",
     "metadata": {},
     "outputs": []
    }
   ],
   "metadata": {}
  }
 ]
}