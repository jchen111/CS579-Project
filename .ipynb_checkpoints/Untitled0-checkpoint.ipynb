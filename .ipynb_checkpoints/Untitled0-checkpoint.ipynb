{
 "metadata": {
  "name": "",
  "signature": "sha256:4fbacfe0551a255134edbb505b97857a31a248b6ff31a3f7959142022cdcd8dc"
 },
 "nbformat": 3,
 "nbformat_minor": 0,
 "worksheets": []
}