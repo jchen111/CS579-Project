{
 "metadata": {
  "name": "",
  "signature": "sha256:2b9b1aacf12eb59fb8d4e6ac745fd1d56b0fedfc1d2b8d8e856b5cd423fdcca7"
 },
 "nbformat": 3,
 "nbformat_minor": 0,
 "worksheets": [
  {
   "cells": [
    {
     "cell_type": "code",
     "collapsed": false,
     "input": [
      "from sklearn.feature_extraction.text import TfidfVectorizer\n",
      "from sklearn.feature_extraction.text import CountVectorizer\n",
      "from sklearn.cross_validation import cross_val_score\n",
      "from sklearn.cross_validation import KFold\n",
      "from sklearn.linear_model import LogisticRegression\n",
      "from sklearn.naive_bayes import BernoulliNB\n",
      "from sklearn.naive_bayes import GaussianNB\n",
      "from collections import Counter\n",
      "import matplotlib.pyplot as plt\n",
      "import numpy as np\n",
      "import math\n",
      "import glob\n",
      "import re\n",
      "import time\n",
      "\n",
      "start_time = time.time()# mark code start running time\n",
      "\n",
      "filename = \"total_cars\"# Integrate all models in old_cars folder\n",
      "\n",
      "def read_automobiles(filename):\n",
      "    \"\"\" Read a list of automobiles.\n",
      "    Args:\n",
      "      filename: The name of the text file containing automobiles make model year.\n",
      "    Returns:\n",
      "      A list of automobile make model year\n",
      "    \"\"\"\n",
      "    automobiles = []\n",
      "    with open(filename) as f:\n",
      "        lines = f.read().splitlines()\n",
      "        for item in lines:\n",
      "            automobiles.append(item)  \n",
      "    return automobiles\n",
      "\n",
      "autos = read_automobiles(filename+'.txt')\n",
      "review_data = [] # all the reviews collected from edmunds.com\n",
      "price_data = [] # vector of labels of the data\n",
      "\n",
      "#collect data\n",
      "for auto in autos:\n",
      "    filelist = []\n",
      "    filelist = glob.glob(filename + \"_review/\"+auto+\"/*.txt\")\n",
      "    tcofile = glob.glob(filename + \"_TCO/\" + filename + \"_TCO.txt\")\n",
      "    for fil in filelist:\n",
      "        with open(tcofile[0],'r') as file2:\n",
      "            with open(fil,'r') as file1:\n",
      "                price = ''\n",
      "                for line in file2:\n",
      "                    if line.split()[3] == fil.split(\"/\")[2][:9]:\n",
      "                        # label the data with the TCO range, according to price ranges from edmunds.com\n",
      "                        if float(line.split()[4]) >= 0 and float(line.split()[4])<15000:\n",
      "                            price = \"0-15000\"\n",
      "                        if float(line.split()[4]) >= 15000 and float(line.split()[4])<25000:\n",
      "                            price = \"15000-25000\"\n",
      "                        if float(line.split()[4]) >= 25000 and float(line.split()[4])<35000:\n",
      "                            price = \"25000-35000\"\n",
      "                        if float(line.split()[4]) >= 35000 and float(line.split()[4])<45000:\n",
      "                            price = \"35000-45000\"\n",
      "                        if float(line.split()[4]) >= 45000 and float(line.split()[4])<55000:\n",
      "                            price = \"45000-55000\"\n",
      "                        if float(line.split()[4]) >= 55000 and float(line.split()[4])<85000:\n",
      "                            price = \"55000-85000\"\n",
      "                        if float(line.split()[4]) >= 85000:\n",
      "                            price = \">85000\"\n",
      "                      \n",
      "                        reviews = file1.read().split('\\n------------------------------------------------------------------------------------------\\n')\n",
      "                        reviews = filter(None,reviews)\n",
      "                        for i in range(0,len(reviews)):\n",
      "                            review_data.append(reviews[i].replace(\"\\n\",\"\").decode('UTF-8'))\n",
      "                            price_data.append(price)\n",
      "                            \n",
      "print 'price labels:', Counter(price_data).items()\n",
      "\n",
      "#tokenize all reviews,use sklearn's built in tokenization\n",
      "def tokenize(reviews,vectorizer):\n",
      "    X = vectorizer.fit_transform(reviews)\n",
      "    print 'X dimensions=', X.shape\n",
      "    return X\n",
      "stopwords = ['the','The','a','A','i','I','with','is','in','to','of','it','my','and','that','for','have','this','My','And']\n",
      "X = tokenize(review_data, TfidfVectorizer(stop_words=stopwords))\n",
      "\n",
      "print 'vector y dimensions:%d'%len(price_data)\n",
      "\n",
      "# do cross validation with a logistic regression classifier\n",
      "def do_cv_logistic(X, y, nfolds=10):\n",
      "    cv = KFold(len(y), nfolds)\n",
      "    return np.mean(cross_val_score(LogisticRegression(), X, y, cv=cv))\n",
      "\n",
      "# do cross validation with a Navie Bayes multivariate Bernoulli classifier\n",
      "def do_cv_Bernoulli(X, y, nfolds=10):\n",
      "    cv = KFold(len(y), nfolds)\n",
      "    return np.mean(cross_val_score(BernoulliNB(), X, y, cv=cv))\n",
      "\n",
      "# do cross validation with a Navie Bayes GaussianNB classifier\n",
      "def do_cv_GaussianNB(X, y, nfolds=10):\n",
      "    cv = KFold(len(y), nfolds)\n",
      "    return np.mean(cross_val_score(GaussianNB(), X.toarray(), y, cv=cv))\n",
      "\n",
      "print 'cross validation accuarcy(Logistic Regression):%.10f'%do_cv_logistic(X, price_data)\n",
      "print 'cross validation accuarcy(Naive Bayes classifier for multivariate Bernoulli models):%.10f'%do_cv_Bernoulli(X, price_data)\n",
      "print 'cross validation accuarcy(GaussianNB classifier):%.10f'%do_cv_GaussianNB(X,price_data)\n",
      "\n",
      "print 'Logistic regression: compare different preprocessing decisions(ngrams)'\n",
      "def logistic_compare_ngrams(reviews, y):\n",
      "    accuracies = []\n",
      "    ngrams = [(1,1), (1,2), (2,2), (1,3), (2,3), (3,3),(1,4)]\n",
      "    for ngram in ngrams:\n",
      "        print ngram\n",
      "        accuracies.append(do_cv_logistic(tokenize(reviews, TfidfVectorizer(min_df=2, ngram_range=ngram)), y))\n",
      "    plt.figure()\n",
      "    plt.plot(accuracies, 'bo-')\n",
      "    plt.xticks(range(len(ngrams)), ngrams)\n",
      "    plt.xlabel('ngrams')\n",
      "    plt.ylabel('accuracy')\n",
      "    plt.show()   \n",
      "logistic_compare_ngrams(review_data, price_data)\n",
      "\n",
      "print 'multivariate Bernoulli models: compare different preprocessing decisions(ngrams)'\n",
      "def bernoulli_compare_ngrams(reviews, y):\n",
      "    accuracies = []\n",
      "    ngrams = [(1,1), (1,2), (2,2), (1,3), (2,3), (3,3),(1,4)]\n",
      "    for ngram in ngrams:\n",
      "        print ngram\n",
      "        accuracies.append(do_cv_Bernoulli(tokenize(reviews, TfidfVectorizer(stop_words=stopwords,min_df=2, ngram_range=ngram)), y))\n",
      "    plt.figure()\n",
      "    plt.plot(accuracies, 'bo-')\n",
      "    plt.xticks(range(len(ngrams)), ngrams)\n",
      "    plt.xlabel('ngrams')\n",
      "    plt.ylabel('accuracy')\n",
      "    plt.show()   \n",
      "bernoulli_compare_ngrams(review_data, price_data)\n",
      "\n",
      "print 'GaussianNB classifier: compare different preprocessing decisions(ngrams)'\n",
      "def gaussian_compare_ngrams(reviews, y):\n",
      "    accuracies = []\n",
      "    ngrams = [(1,1), (1,2), (2,2), (1,3), (2,3), (3,3),(1,4)]\n",
      "    for ngram in ngrams:\n",
      "        print ngram\n",
      "        accuracies.append(do_cv_GaussianNB(tokenize(reviews, TfidfVectorizer(stop_words=stopwords,min_df=2, ngram_range=ngram)), y))\n",
      "    plt.figure()\n",
      "    plt.plot(accuracies, 'bo-')\n",
      "    plt.xticks(range(len(ngrams)), ngrams)\n",
      "    plt.xlabel('ngrams')\n",
      "    plt.ylabel('accuracy')\n",
      "    plt.show()   \n",
      "gaussian_compare_ngrams(review_data, price_data)\n",
      "\n",
      "print 'Logistic regression: compare how filtering rare words(mindf) affect accuracy'\n",
      "def logistic_compare_mindf(reviews, y):\n",
      "    accuracies = []\n",
      "    for freq in range(20):\n",
      "        accuracies.append(do_cv_logistic(tokenize(reviews, TfidfVectorizer(stop_words=stopwords,min_df=freq)), y))\n",
      "    plt.figure()\n",
      "    plt.plot(accuracies, 'bo-')\n",
      "    plt.xlabel('mindf')\n",
      "    plt.ylabel('accuracy')\n",
      "    plt.show()  \n",
      "logistic_compare_mindf(review_data,price_data)\n",
      "\n",
      "print 'multivariate Bernoulli models: compare how filtering rare words(mindf) affect accuracy'\n",
      "def bernoulli_compare_mindf(reviews, y):\n",
      "    accuracies = []\n",
      "    for freq in range(20):\n",
      "        accuracies.append(do_cv_Bernoulli(tokenize(reviews, TfidfVectorizer(stop_words=stopwords, min_df=freq)), y))\n",
      "    plt.figure()\n",
      "    plt.plot(accuracies, 'bo-')\n",
      "    plt.xlabel('mindf')\n",
      "    plt.ylabel('accuracy')\n",
      "    plt.show()  \n",
      "bernoulli_compare_mindf(review_data,price_data)\n",
      "\n",
      "print 'GaussianNB classifier: compare how filtering rare words(mindf) affect accuracy'\n",
      "def gussian_compare_mindf(reviews, y):\n",
      "    accuracies = []\n",
      "    for freq in range(20):\n",
      "        accuracies.append(do_cv_GaussianNB(tokenize(reviews, TfidfVectorizer(stop_words=stopwords, min_df=freq)), y))\n",
      "    plt.figure()\n",
      "    plt.plot(accuracies, 'bo-')\n",
      "    plt.xlabel('mindf')\n",
      "    plt.ylabel('accuracy')\n",
      "    plt.show()  \n",
      "gussian_compare_mindf(review_data,price_data)\n",
      "\n",
      "print 'compare C in logistic regression model:'\n",
      "def compare_C(review_data, y):\n",
      "    accuracies = []\n",
      "    cs = [.01, .1, .5, 1, 2, 5, 10, 20, 50, 100]\n",
      "    X = tokenize(review_data, TfidfVectorizer(stop_words=stopwords, min_df=2, ngram_range=(1,3)))\n",
      "    cv = KFold(len(y), 10)\n",
      "    for c in cs:\n",
      "        clf = LogisticRegression(C=c)\n",
      "        accuracies.append(np.mean(cross_val_score(clf, X, y, cv=cv)))\n",
      "    plt.figure()\n",
      "    plt.plot(cs, accuracies, 'bo-')\n",
      "    plt.xlabel('C')\n",
      "    plt.ylabel('accuracy')\n",
      "    plt.show()\n",
      "    print '\\n'.join('%g %g' % (c, a) for c, a in zip(cs, accuracies))\n",
      "        \n",
      "compare_C(review_data, price_data)\n",
      "    \n",
      "print \"\\nRunning time is %s seconds\"%(time.time()-start_time)"
     ],
     "language": "python",
     "metadata": {},
     "outputs": [
      {
       "output_type": "stream",
       "stream": "stdout",
       "text": [
        "price labels: [('25000-35000', 90), ('0-15000', 46), ('55000-85000', 420), ('15000-25000', 19), ('45000-55000', 1054), ('>85000', 1), ('35000-45000', 1510)]\n",
        "X dimensions="
       ]
      },
      {
       "output_type": "stream",
       "stream": "stdout",
       "text": [
        " (3140, 11442)\n",
        "vector y dimensions:3140\n",
        "cross validation accuarcy(Logistic Regression):0.5436305732"
       ]
      },
      {
       "output_type": "stream",
       "stream": "stdout",
       "text": [
        "\n",
        "cross validation accuarcy(Naive Bayes classifier for multivariate Bernoulli models):0.5598726115"
       ]
      },
      {
       "output_type": "stream",
       "stream": "stdout",
       "text": [
        "\n",
        "cross validation accuarcy(GaussianNB classifier):0.5184713376"
       ]
      },
      {
       "output_type": "stream",
       "stream": "stdout",
       "text": [
        "\n",
        "Logistic regression: compare different preprocessing decisions(ngrams)\n",
        "(1, 1)\n",
        "X dimensions="
       ]
      },
      {
       "output_type": "stream",
       "stream": "stdout",
       "text": [
        " (3140, 6925)\n",
        "(1, 2)"
       ]
      },
      {
       "output_type": "stream",
       "stream": "stdout",
       "text": [
        "\n",
        "X dimensions="
       ]
      },
      {
       "output_type": "stream",
       "stream": "stdout",
       "text": [
        " (3140, 46984)\n",
        "(2, 2)"
       ]
      },
      {
       "output_type": "stream",
       "stream": "stdout",
       "text": [
        "\n",
        "X dimensions="
       ]
      },
      {
       "output_type": "stream",
       "stream": "stdout",
       "text": [
        " (3140, 40059)\n",
        "(1, 3)"
       ]
      },
      {
       "output_type": "stream",
       "stream": "stdout",
       "text": [
        "\n",
        "X dimensions="
       ]
      },
      {
       "output_type": "stream",
       "stream": "stdout",
       "text": [
        " (3140, 94421)\n",
        "(2, 3)"
       ]
      },
      {
       "output_type": "stream",
       "stream": "stdout",
       "text": [
        "\n",
        "X dimensions="
       ]
      },
      {
       "output_type": "stream",
       "stream": "stdout",
       "text": [
        " (3140, 87496)\n",
        "(3, 3)"
       ]
      },
      {
       "output_type": "stream",
       "stream": "stdout",
       "text": [
        "\n",
        "X dimensions="
       ]
      },
      {
       "output_type": "stream",
       "stream": "stdout",
       "text": [
        " (3140, 47437)\n",
        "(1, 4)"
       ]
      },
      {
       "output_type": "stream",
       "stream": "stdout",
       "text": [
        "\n",
        "X dimensions="
       ]
      },
      {
       "output_type": "stream",
       "stream": "stdout",
       "text": [
        " (3140, 136180)\n"
       ]
      },
      {
       "metadata": {},
       "output_type": "display_data",
       "png": "[encoded data removed]",
       "text": [
        "<matplotlib.figure.Figure at 0x10a971a50>"
       ]
      },
      {
       "output_type": "stream",
       "stream": "stdout",
       "text": [
        "multivariate Bernoulli models: compare different preprocessing decisions(ngrams)\n",
        "(1, 1)\n",
        "X dimensions="
       ]
      },
      {
       "output_type": "stream",
       "stream": "stdout",
       "text": [
        " (3140, 6912)\n",
        "(1, 2)"
       ]
      },
      {
       "output_type": "stream",
       "stream": "stdout",
       "text": [
        "\n",
        "X dimensions="
       ]
      },
      {
       "output_type": "stream",
       "stream": "stdout",
       "text": [
        " (3140, 43748)\n",
        "(2, 2)"
       ]
      },
      {
       "output_type": "stream",
       "stream": "stdout",
       "text": [
        "\n",
        "X dimensions="
       ]
      },
      {
       "output_type": "stream",
       "stream": "stdout",
       "text": [
        " (3140, 36836)\n",
        "(1, 3)"
       ]
      },
      {
       "output_type": "stream",
       "stream": "stdout",
       "text": [
        "\n",
        "X dimensions="
       ]
      },
      {
       "output_type": "stream",
       "stream": "stdout",
       "text": [
        " (3140, 76666)\n",
        "(2, 3)"
       ]
      },
      {
       "output_type": "stream",
       "stream": "stdout",
       "text": [
        "\n",
        "X dimensions="
       ]
      },
      {
       "output_type": "stream",
       "stream": "stdout",
       "text": [
        " (3140, 69754)\n",
        "(3, 3)"
       ]
      },
      {
       "output_type": "stream",
       "stream": "stdout",
       "text": [
        "\n",
        "X dimensions="
       ]
      },
      {
       "output_type": "stream",
       "stream": "stdout",
       "text": [
        " (3140, 32918)\n",
        "(1, 4)"
       ]
      },
      {
       "output_type": "stream",
       "stream": "stdout",
       "text": [
        "\n",
        "X dimensions="
       ]
      },
      {
       "output_type": "stream",
       "stream": "stdout",
       "text": [
        " (3140, 105840)\n"
       ]
      },
      {
       "metadata": {},
       "output_type": "display_data",
       "png": "[encoded data removed]",
       "text": [
        "<matplotlib.figure.Figure at 0x109506510>"
       ]
      },
      {
       "output_type": "stream",
       "stream": "stdout",
       "text": [
        "GaussianNB classifier: compare different preprocessing decisions(ngrams)\n",
        "(1, 1)\n",
        "X dimensions="
       ]
      },
      {
       "output_type": "stream",
       "stream": "stdout",
       "text": [
        " (3140, 6912)\n",
        "(1, 2)"
       ]
      },
      {
       "output_type": "stream",
       "stream": "stdout",
       "text": [
        "\n",
        "X dimensions="
       ]
      },
      {
       "output_type": "stream",
       "stream": "stdout",
       "text": [
        " (3140, 43748)\n",
        "(2, 2)"
       ]
      },
      {
       "output_type": "stream",
       "stream": "stdout",
       "text": [
        "\n",
        "X dimensions="
       ]
      },
      {
       "output_type": "stream",
       "stream": "stdout",
       "text": [
        " (3140, 36836)\n",
        "(1, 3)"
       ]
      },
      {
       "output_type": "stream",
       "stream": "stdout",
       "text": [
        "\n",
        "X dimensions="
       ]
      },
      {
       "output_type": "stream",
       "stream": "stdout",
       "text": [
        " (3140, 76666)\n",
        "(2, 3)"
       ]
      },
      {
       "output_type": "stream",
       "stream": "stdout",
       "text": [
        "\n",
        "X dimensions="
       ]
      },
      {
       "output_type": "stream",
       "stream": "stdout",
       "text": [
        " (3140, 69754)\n",
        "(3, 3)"
       ]
      },
      {
       "output_type": "stream",
       "stream": "stdout",
       "text": [
        "\n",
        "X dimensions="
       ]
      },
      {
       "output_type": "stream",
       "stream": "stdout",
       "text": [
        " (3140, 32918)\n",
        "(1, 4)"
       ]
      },
      {
       "output_type": "stream",
       "stream": "stdout",
       "text": [
        "\n",
        "X dimensions="
       ]
      },
      {
       "output_type": "stream",
       "stream": "stdout",
       "text": [
        " (3140, 105840)\n"
       ]
      },
      {
       "metadata": {},
       "output_type": "display_data",
       "png": "[encoded data removed]",
       "text": [
        "<matplotlib.figure.Figure at 0x1054d2810>"
       ]
      },
      {
       "output_type": "stream",
       "stream": "stdout",
       "text": [
        "Logistic regression: compare how filtering rare words(mindf) affect accuracy\n",
        "X dimensions="
       ]
      },
      {
       "output_type": "stream",
       "stream": "stdout",
       "text": [
        " (3140, 11442)\n",
        "X dimensions="
       ]
      },
      {
       "output_type": "stream",
       "stream": "stdout",
       "text": [
        " (3140, 11442)\n",
        "X dimensions="
       ]
      },
      {
       "output_type": "stream",
       "stream": "stdout",
       "text": [
        " (3140, 6912)\n",
        "X dimensions="
       ]
      },
      {
       "output_type": "stream",
       "stream": "stdout",
       "text": [
        " (3140, 5186)\n",
        "X dimensions="
       ]
      },
      {
       "output_type": "stream",
       "stream": "stdout",
       "text": [
        " (3140, 4369)\n",
        "X dimensions="
       ]
      },
      {
       "output_type": "stream",
       "stream": "stdout",
       "text": [
        " (3140, 3767)\n",
        "X dimensions="
       ]
      },
      {
       "output_type": "stream",
       "stream": "stdout",
       "text": [
        " (3140, 3331)\n",
        "X dimensions="
       ]
      },
      {
       "output_type": "stream",
       "stream": "stdout",
       "text": [
        " (3140, 3009)\n",
        "X dimensions="
       ]
      },
      {
       "output_type": "stream",
       "stream": "stdout",
       "text": [
        " (3140, 2760)\n",
        "X dimensions="
       ]
      },
      {
       "output_type": "stream",
       "stream": "stdout",
       "text": [
        " (3140, 2570)\n",
        "X dimensions="
       ]
      },
      {
       "output_type": "stream",
       "stream": "stdout",
       "text": [
        " (3140, 2401)\n",
        "X dimensions="
       ]
      },
      {
       "output_type": "stream",
       "stream": "stdout",
       "text": [
        " (3140, 2258)\n",
        "X dimensions="
       ]
      },
      {
       "output_type": "stream",
       "stream": "stdout",
       "text": [
        " (3140, 2138)\n",
        "X dimensions="
       ]
      },
      {
       "output_type": "stream",
       "stream": "stdout",
       "text": [
        " (3140, 2037)\n",
        "X dimensions="
       ]
      },
      {
       "output_type": "stream",
       "stream": "stdout",
       "text": [
        " (3140, 1923)\n",
        "X dimensions="
       ]
      },
      {
       "output_type": "stream",
       "stream": "stdout",
       "text": [
        " (3140, 1848)\n",
        "X dimensions="
       ]
      },
      {
       "output_type": "stream",
       "stream": "stdout",
       "text": [
        " (3140, 1777)\n",
        "X dimensions="
       ]
      },
      {
       "output_type": "stream",
       "stream": "stdout",
       "text": [
        " (3140, 1699)\n",
        "X dimensions="
       ]
      },
      {
       "output_type": "stream",
       "stream": "stdout",
       "text": [
        " (3140, 1632)\n",
        "X dimensions="
       ]
      },
      {
       "output_type": "stream",
       "stream": "stdout",
       "text": [
        " (3140, 1571)\n"
       ]
      },
      {
       "metadata": {},
       "output_type": "display_data",
       "png": "[encoded data removed]",
       "text": [
        "<matplotlib.figure.Figure at 0x1096e3e10>"
       ]
      },
      {
       "output_type": "stream",
       "stream": "stdout",
       "text": [
        "multivariate Bernoulli models: compare how filtering rare words(mindf) affect accuracy\n",
        "X dimensions="
       ]
      },
      {
       "output_type": "stream",
       "stream": "stdout",
       "text": [
        " (3140, 11442)\n",
        "X dimensions="
       ]
      },
      {
       "output_type": "stream",
       "stream": "stdout",
       "text": [
        " (3140, 11442)\n",
        "X dimensions="
       ]
      },
      {
       "output_type": "stream",
       "stream": "stdout",
       "text": [
        " (3140, 6912)\n",
        "X dimensions="
       ]
      },
      {
       "output_type": "stream",
       "stream": "stdout",
       "text": [
        " (3140, 5186)\n",
        "X dimensions="
       ]
      },
      {
       "output_type": "stream",
       "stream": "stdout",
       "text": [
        " (3140, 4369)\n",
        "X dimensions="
       ]
      },
      {
       "output_type": "stream",
       "stream": "stdout",
       "text": [
        " (3140, 3767)\n",
        "X dimensions="
       ]
      },
      {
       "output_type": "stream",
       "stream": "stdout",
       "text": [
        " (3140, 3331)\n",
        "X dimensions="
       ]
      },
      {
       "output_type": "stream",
       "stream": "stdout",
       "text": [
        " (3140, 3009)\n",
        "X dimensions="
       ]
      },
      {
       "output_type": "stream",
       "stream": "stdout",
       "text": [
        " (3140, 2760)\n",
        "X dimensions="
       ]
      },
      {
       "output_type": "stream",
       "stream": "stdout",
       "text": [
        " (3140, 2570)\n",
        "X dimensions="
       ]
      },
      {
       "output_type": "stream",
       "stream": "stdout",
       "text": [
        " (3140, 2401)\n",
        "X dimensions="
       ]
      },
      {
       "output_type": "stream",
       "stream": "stdout",
       "text": [
        " (3140, 2258)\n",
        "X dimensions="
       ]
      },
      {
       "output_type": "stream",
       "stream": "stdout",
       "text": [
        " (3140, 2138)\n",
        "X dimensions="
       ]
      },
      {
       "output_type": "stream",
       "stream": "stdout",
       "text": [
        " (3140, 2037)\n",
        "X dimensions="
       ]
      },
      {
       "output_type": "stream",
       "stream": "stdout",
       "text": [
        " (3140, 1923)\n",
        "X dimensions="
       ]
      },
      {
       "output_type": "stream",
       "stream": "stdout",
       "text": [
        " (3140, 1848)\n",
        "X dimensions="
       ]
      },
      {
       "output_type": "stream",
       "stream": "stdout",
       "text": [
        " (3140, 1777)\n",
        "X dimensions="
       ]
      },
      {
       "output_type": "stream",
       "stream": "stdout",
       "text": [
        " (3140, 1699)\n",
        "X dimensions="
       ]
      },
      {
       "output_type": "stream",
       "stream": "stdout",
       "text": [
        " (3140, 1632)\n",
        "X dimensions="
       ]
      },
      {
       "output_type": "stream",
       "stream": "stdout",
       "text": [
        " (3140, 1571)\n"
       ]
      },
      {
       "metadata": {},
       "output_type": "display_data",
       "png": "[encoded data removed]",
       "text": [
        "<matplotlib.figure.Figure at 0x1096e38d0>"
       ]
      },
      {
       "output_type": "stream",
       "stream": "stdout",
       "text": [
        "GaussianNB classifier: compare how filtering rare words(mindf) affect accuracy\n",
        "X dimensions="
       ]
      },
      {
       "output_type": "stream",
       "stream": "stdout",
       "text": [
        " (3140, 11442)\n",
        "X dimensions="
       ]
      },
      {
       "output_type": "stream",
       "stream": "stdout",
       "text": [
        " (3140, 11442)\n",
        "X dimensions="
       ]
      },
      {
       "output_type": "stream",
       "stream": "stdout",
       "text": [
        " (3140, 6912)\n",
        "X dimensions="
       ]
      },
      {
       "output_type": "stream",
       "stream": "stdout",
       "text": [
        " (3140, 5186)\n",
        "X dimensions="
       ]
      },
      {
       "output_type": "stream",
       "stream": "stdout",
       "text": [
        " (3140, 4369)\n",
        "X dimensions="
       ]
      },
      {
       "output_type": "stream",
       "stream": "stdout",
       "text": [
        " (3140, 3767)\n",
        "X dimensions="
       ]
      },
      {
       "output_type": "stream",
       "stream": "stdout",
       "text": [
        " (3140, 3331)\n",
        "X dimensions="
       ]
      },
      {
       "output_type": "stream",
       "stream": "stdout",
       "text": [
        " (3140, 3009)\n",
        "X dimensions="
       ]
      },
      {
       "output_type": "stream",
       "stream": "stdout",
       "text": [
        " (3140, 2760)\n",
        "X dimensions="
       ]
      },
      {
       "output_type": "stream",
       "stream": "stdout",
       "text": [
        " (3140, 2570)\n",
        "X dimensions="
       ]
      },
      {
       "output_type": "stream",
       "stream": "stdout",
       "text": [
        " (3140, 2401)\n",
        "X dimensions="
       ]
      },
      {
       "output_type": "stream",
       "stream": "stdout",
       "text": [
        " (3140, 2258)\n",
        "X dimensions="
       ]
      },
      {
       "output_type": "stream",
       "stream": "stdout",
       "text": [
        " (3140, 2138)\n",
        "X dimensions="
       ]
      },
      {
       "output_type": "stream",
       "stream": "stdout",
       "text": [
        " (3140, 2037)\n",
        "X dimensions="
       ]
      },
      {
       "output_type": "stream",
       "stream": "stdout",
       "text": [
        " (3140, 1923)\n",
        "X dimensions="
       ]
      },
      {
       "output_type": "stream",
       "stream": "stdout",
       "text": [
        " (3140, 1848)\n",
        "X dimensions="
       ]
      },
      {
       "output_type": "stream",
       "stream": "stdout",
       "text": [
        " (3140, 1777)\n",
        "X dimensions="
       ]
      },
      {
       "output_type": "stream",
       "stream": "stdout",
       "text": [
        " (3140, 1699)\n",
        "X dimensions="
       ]
      },
      {
       "output_type": "stream",
       "stream": "stdout",
       "text": [
        " (3140, 1632)\n",
        "X dimensions="
       ]
      },
      {
       "output_type": "stream",
       "stream": "stdout",
       "text": [
        " (3140, 1571)\n"
       ]
      },
      {
       "metadata": {},
       "output_type": "display_data",
       "png": "[encoded data removed]",
       "text": [
        "<matplotlib.figure.Figure at 0x116acf4d0>"
       ]
      },
      {
       "output_type": "stream",
       "stream": "stdout",
       "text": [
        "compare C in logistic regression model:\n",
        "X dimensions="
       ]
      },
      {
       "output_type": "stream",
       "stream": "stdout",
       "text": [
        " (3140, 76666)\n"
       ]
      },
      {
       "metadata": {},
       "output_type": "display_data",
       "png": "[encoded data removed]",
       "text": [
        "<matplotlib.figure.Figure at 0x109a563d0>"
       ]
      },
      {
       "output_type": "stream",
       "stream": "stdout",
       "text": [
        "0.01 0.480892\n",
        "0.1 0.480892\n",
        "0.5 0.526752\n",
        "1 0.561465\n",
        "2 0.592038\n",
        "5 0.60414\n",
        "10 0.606688\n",
        "20 0.606051\n",
        "50 0.603822\n",
        "100 0.606688\n",
        "\n",
        "Running time is 693.001935959 seconds\n"
       ]
      }
     ],
     "prompt_number": 9
    },
    {
     "cell_type": "code",
     "collapsed": false,
     "input": [
      "price_range = ['25000-35000','>85000','0-15000','15000-25000','45000-55000','35000-45000','55000-85000']\n",
      "for r in price_range:\n",
      "    result = []\n",
      "    print r\n",
      "    for i in range(len(price_data)):\n",
      "        if r == price_data[i]:\n",
      "            for t in review_data[i].split():\n",
      "                result.append(t)\n",
      "    print Counter(result).most_common(10)\n",
      "\n",
      "        "
     ],
     "language": "python",
     "metadata": {},
     "outputs": [
      {
       "output_type": "stream",
       "stream": "stdout",
       "text": [
        "25000-35000\n",
        "[(u'the', 474), (u'and', 300), (u'I', 273), (u'a', 238), (u'to', 231), (u'is', 201), (u'in', 134), (u'of', 119), (u'it', 109), (u'my', 109)]\n",
        ">85000\n",
        "[(u'the', 9), (u'I', 7), (u'a', 5), (u'in', 3), (u'only', 2), (u'are', 2), (u'looking', 2), (u'BMW', 2), (u'Audi', 2), (u'Cayenne', 2)]\n",
        "0-15000\n",
        "[(u'the', 205), (u'and', 153), (u'a', 129), (u'I', 124), (u'is', 95), (u'to', 91), (u'of', 77), (u'for', 58), (u'it', 57), (u'car', 56)]\n",
        "15000-25000\n",
        "[(u'the', 94), (u'and', 47), (u'is', 47), (u'a', 45), (u'to', 36), (u'in', 31), (u'of', 28), (u'for', 26), (u'I', 24), (u'on', 18)]\n",
        "45000-55000\n",
        "[(u'the', 5653), (u'and', 3447), (u'a', 2867), (u'I', 2644), (u'to', 2369), (u'is', 2063), (u'in', 1372), (u'it', 1335), (u'of', 1327), (u'for', 1210)]"
       ]
      },
      {
       "output_type": "stream",
       "stream": "stdout",
       "text": [
        "\n",
        "35000-45000\n",
        "[(u'the', 7643), (u'and', 4864), (u'I', 4204), (u'a', 3996), (u'to', 3292), (u'is', 2837), (u'in', 1915), (u'it', 1909), (u'of', 1819), (u'for', 1634)]"
       ]
      },
      {
       "output_type": "stream",
       "stream": "stdout",
       "text": [
        "\n",
        "55000-85000\n",
        "[(u'the', 2295), (u'and', 1434), (u'a', 1171), (u'I', 954), (u'to', 936), (u'is', 788), (u'in', 552), (u'it', 545), (u'of', 493), (u'with', 471)]"
       ]
      },
      {
       "output_type": "stream",
       "stream": "stdout",
       "text": [
        "\n"
       ]
      }
     ],
     "prompt_number": 10
    },
    {
     "cell_type": "code",
     "collapsed": false,
     "input": [],
     "language": "python",
     "metadata": {},
     "outputs": []
    }
   ],
   "metadata": {}
  }
 ]
}