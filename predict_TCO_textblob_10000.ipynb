{
 "metadata": {
  "name": "",
  "signature": "sha256:9251604829897be084adbd78801c105f6a7b10fd8bd3620d77527ae52be3c89d"
 },
 "nbformat": 3,
 "nbformat_minor": 0,
 "worksheets": [
  {
   "cells": [
    {
     "cell_type": "code",
     "collapsed": false,
     "input": [
      "from textblob.classifiers import NaiveBayesClassifier\n",
      "from textblob import TextBlob\n",
      "from collections import Counter\n",
      "import math\n",
      "import glob\n",
      "import re\n",
      "import time\n",
      "\n",
      "start_time = time.time()\n",
      "filename = \"compact_suv\"\n",
      "\n",
      "def read_automobiles(filename):\n",
      "    \"\"\" Read a list of automobiles.\n",
      "    Args:\n",
      "      filename: The name of the text file containing automobiles make model year.\n",
      "    Returns:\n",
      "      A list of automobile make model year\n",
      "    \"\"\"\n",
      "    automobiles = []\n",
      "    with open(filename) as f:\n",
      "        lines = f.read().splitlines()\n",
      "        for item in lines:\n",
      "            automobiles.append(item)  \n",
      "    return automobiles\n",
      "\n",
      "autos = read_automobiles(filename+'.txt')\n",
      "test = []\n",
      "train = []\n",
      "print \"-------------------------------establishing initial training model--------------------------------\"\n",
      "\n",
      "for auto in autos:\n",
      "    filelist = []\n",
      "    filelist = glob.glob(filename + \"_review/\"+auto+\"/*.txt\")\n",
      "    tcofile = glob.glob(filename + \"_TCO/\" + filename + \"_TCO.txt\")\n",
      "    for fil in filelist:\n",
      "        with open(tcofile[0],'r') as file2:\n",
      "            with open(fil,'r') as file1:\n",
      "                price = 0\n",
      "                for line in file2:\n",
      "                    if line.split()[3] == fil.split(\"/\")[2][:9]:\n",
      "                        if float(line.split()[4]) >= 0 and float(line.split()[4])<10000:\n",
      "                            price = \"0-10000\"\n",
      "                        if float(line.split()[4]) >= 10000 and float(line.split()[4])<20000:\n",
      "                            price = \"10000-20000\"\n",
      "                        if float(line.split()[4]) >= 20000 and float(line.split()[4])<30000:\n",
      "                            price = \"20000-30000\"\n",
      "                        if float(line.split()[4]) >= 30000 and float(line.split()[4])<40000:\n",
      "                            price = \"30000-40000\"\n",
      "                        if float(line.split()[4]) >= 40000 and float(line.split()[4])<50000:\n",
      "                            price = \"40000-50000\"\n",
      "                        if float(line.split()[4]) >= 50000 and float(line.split()[4])<60000:\n",
      "                            price = \"50000-60000\"\n",
      "                        if float(line.split()[4]) >= 60000 and float(line.split()[4])<70000:\n",
      "                            price = \"60000-70000\"\n",
      "                        if float(line.split()[4]) >= 70000 and float(line.split()[4])<80000:\n",
      "                            price = \"70000-80000\"\n",
      "                        if float(line.split()[4]) >= 80000 and float(line.split()[4])<90000:\n",
      "                            price = \"80000-90000\"\n",
      "                        if float(line.split()[4]) >= 90000 and float(line.split()[4])<100000:\n",
      "                            price = \"90000-100000\"\n",
      "                        if float(line.split()[4]) >= 100000:\n",
      "                            price = \">100000\"\n",
      "                        reviews = file1.read().split('\\n------------------------------------------------------------------------------------------\\n')\n",
      "                        reviews = filter(None,reviews)\n",
      "                        if len(reviews)!=0:\n",
      "                            for i in range(0,1):\n",
      "                                train.append((reviews[i].replace(\"\\n\",\"\").decode('UTF-8'),\n",
      "                                  price))\n",
      "\n",
      "\n",
      "training_percent = 0.8\n",
      "\n",
      "\n",
      "for auto in autos:\n",
      "    print \"-------------------------------gethering test sample from \"+auto+\"--------------------------------\"\n",
      "    filelist = []\n",
      "\n",
      "    filelist = glob.glob(filename + \"_review/\"+auto+\"/*.txt\")\n",
      "    tcofile = glob.glob(filename + \"_TCO/\" + filename + \"_TCO.txt\")\n",
      "    for fil in filelist:\n",
      "        with open(tcofile[0],'r') as file2:\n",
      "            with open(fil,'r') as file1:\n",
      "                price = 0\n",
      "                for line in file2:\n",
      "                    if line.split()[3] == fil.split(\"/\")[2][:9]:\n",
      "                        if float(line.split()[4]) >= 0 and float(line.split()[4])<10000:\n",
      "                            price = \"0-10000\"\n",
      "                        if float(line.split()[4]) >= 10000 and float(line.split()[4])<20000:\n",
      "                            price = \"10000-20000\"\n",
      "                        if float(line.split()[4]) >= 20000 and float(line.split()[4])<30000:\n",
      "                            price = \"20000-30000\"\n",
      "                        if float(line.split()[4]) >= 30000 and float(line.split()[4])<40000:\n",
      "                            price = \"30000-40000\"\n",
      "                        if float(line.split()[4]) >= 40000 and float(line.split()[4])<50000:\n",
      "                            price = \"40000-50000\"\n",
      "                        if float(line.split()[4]) >= 50000 and float(line.split()[4])<60000:\n",
      "                            price = \"50000-60000\"\n",
      "                        if float(line.split()[4]) >= 60000 and float(line.split()[4])<70000:\n",
      "                            price = \"60000-70000\"\n",
      "                        if float(line.split()[4]) >= 70000 and float(line.split()[4])<80000:\n",
      "                            price = \"70000-80000\"\n",
      "                        if float(line.split()[4]) >= 80000 and float(line.split()[4])<90000:\n",
      "                            price = \"80000-90000\"\n",
      "                        if float(line.split()[4]) >= 90000 and float(line.split()[4])<100000:\n",
      "                            price = \"90000-100000\"\n",
      "                        if float(line.split()[4]) >= 100000:\n",
      "                            price = \">100000\"\n",
      "                        reviews = file1.read().split('\\n------------------------------------------------------------------------------------------\\n')\n",
      "                        reviews = filter(None,reviews)\n",
      "\n",
      "                        train_set = int(math.floor(len(reviews)*training_percent))\n",
      "                    \n",
      "                        for i in range(train_set,len(reviews)):\n",
      "                            if (reviews[i].replace(\"\\n\",\"\").decode('UTF-8'),price) not in train:\n",
      "                                test.append((reviews[i].replace(\"\\n\",\"\").decode('UTF-8'),\n",
      "                                  price))\n",
      "cl = NaiveBayesClassifier(train)\n",
      "cl.show_informative_features(10)\n",
      "print(\"Initial Accuracy: {0}\".format(cl.accuracy(test)))\n",
      "                            \n",
      "for auto in autos:\n",
      "    filelist = []\n",
      "    train = []\n",
      "    train_percent = 0.8\n",
      "    filelist = glob.glob(filename + \"_review/\"+auto+\"/*.txt\")\n",
      "    tcofile = glob.glob(filename + \"_TCO/\" + filename + \"_TCO.txt\")\n",
      "    for fil in filelist:\n",
      "        with open(tcofile[0],'r') as file2:\n",
      "            with open(fil,'r') as file1:\n",
      "                price = 0\n",
      "                for line in file2:\n",
      "                    if line.split()[3] == fil.split(\"/\")[2][:9]:\n",
      "                        if float(line.split()[4]) >= 0 and float(line.split()[4])<10000:\n",
      "                            price = \"0-10000\"\n",
      "                        if float(line.split()[4]) >= 10000 and float(line.split()[4])<20000:\n",
      "                            price = \"10000-20000\"\n",
      "                        if float(line.split()[4]) >= 20000 and float(line.split()[4])<30000:\n",
      "                            price = \"20000-30000\"\n",
      "                        if float(line.split()[4]) >= 30000 and float(line.split()[4])<40000:\n",
      "                            price = \"30000-40000\"\n",
      "                        if float(line.split()[4]) >= 40000 and float(line.split()[4])<50000:\n",
      "                            price = \"40000-50000\"\n",
      "                        if float(line.split()[4]) >= 50000 and float(line.split()[4])<60000:\n",
      "                            price = \"50000-60000\"\n",
      "                        if float(line.split()[4]) >= 60000 and float(line.split()[4])<70000:\n",
      "                            price = \"60000-70000\"\n",
      "                        if float(line.split()[4]) >= 70000 and float(line.split()[4])<80000:\n",
      "                            price = \"70000-80000\"\n",
      "                        if float(line.split()[4]) >= 80000 and float(line.split()[4])<90000:\n",
      "                            price = \"80000-90000\"\n",
      "                        if float(line.split()[4]) >= 90000 and float(line.split()[4])<100000:\n",
      "                            price = \"90000-100000\"\n",
      "                        if float(line.split()[4]) >= 100000:\n",
      "                            price = \">100000\"\n",
      "                        reviews = file1.read().split('\\n------------------------------------------------------------------------------------------\\n')\n",
      "                        reviews = filter(None,reviews)\n",
      "                        train_set = int(math.floor(len(reviews)*training_percent))\n",
      "                        if train_set is 0:\n",
      "                            for i in range(0,len(reviews)):\n",
      "                                train.append((reviews[i].replace(\"\\n\",\"\").decode('UTF-8'),\n",
      "                                  price))\n",
      "                        else:\n",
      "                            for i in range(0,train_set):\n",
      "                                train.append((reviews[i].replace(\"\\n\",\"\").decode('UTF-8'),\n",
      "                                  price))\n",
      "    print \"---------------------------------------------------feeding \"+auto+\" updateing-------------------------------------------\"                      \n",
      "    phase_time = time.time()\n",
      "    cl.update(train)\n",
      "    # Compute accuracy\n",
      "    print(\"Accuracy: {0}\".format(cl.accuracy(test)))\n",
      " \n",
      "    # Show 5 most informative features\n",
      "    cl.show_informative_features(10)\n",
      "    print \"\\n Feeding phase running time is %s second\"%(time.time()-phase_time)\n",
      "    \n",
      "print \"\\nRunning time is %s seconds\"%(time.time()-start_time)"
     ],
     "language": "python",
     "metadata": {},
     "outputs": [
      {
       "output_type": "stream",
       "stream": "stdout",
       "text": [
        "-------------------------------establishing initial training model--------------------------------\n",
        "-------------------------------gethering test sample from honda cr-v 2013--------------------------------"
       ]
      },
      {
       "output_type": "stream",
       "stream": "stdout",
       "text": [
        "\n",
        "-------------------------------gethering test sample from buick encore 2013--------------------------------\n",
        "-------------------------------gethering test sample from gmc terrain 2013--------------------------------\n",
        "-------------------------------gethering test sample from nissan rogue 2013--------------------------------\n",
        "-------------------------------gethering test sample from ford escape 2013--------------------------------\n",
        "-------------------------------gethering test sample from mazda cx-5 2013--------------------------------\n",
        "-------------------------------gethering test sample from subaru forester 2013--------------------------------\n",
        "-------------------------------gethering test sample from chevrolet equinox 2013--------------------------------\n",
        "-------------------------------gethering test sample from jeep cherokee 2013--------------------------------\n",
        "-------------------------------gethering test sample from kia sportage 2013--------------------------------\n",
        "-------------------------------gethering test sample from dodge journey 2013--------------------------------\n",
        "-------------------------------gethering test sample from volkswagen tiguan 2013--------------------------------\n",
        "-------------------------------gethering test sample from hyundai tucson 2013--------------------------------\n",
        "-------------------------------gethering test sample from mini cooper-countryman 2013--------------------------------\n",
        "-------------------------------gethering test sample from nissan juke 2013--------------------------------\n",
        "-------------------------------gethering test sample from jeep wrangler 2013--------------------------------\n",
        "-------------------------------gethering test sample from toyota rav4 2013--------------------------------\n",
        "-------------------------------gethering test sample from mitsubishi outlander-sport 2013--------------------------------\n",
        "-------------------------------gethering test sample from jeep compass 2013--------------------------------\n",
        "-------------------------------gethering test sample from jeep patriot 2013--------------------------------\n",
        "Most Informative Features"
       ]
      },
      {
       "output_type": "stream",
       "stream": "stdout",
       "text": [
        "\n",
        "          contains(CR-V) = True           30000- : 40000- =     23.1 : 1.0"
       ]
      },
      {
       "output_type": "stream",
       "stream": "stdout",
       "text": [
        "\n",
        "    contains(definitely) = True           30000- : 40000- =     13.8 : 1.0\n",
        "        contains(unique) = True           30000- : 40000- =     13.8 : 1.0\n",
        "        contains(bigger) = True           30000- : 40000- =     13.8 : 1.0\n",
        "  contains(disappointed) = True           30000- : 40000- =     13.8 : 1.0\n",
        "       contains(quieter) = True           30000- : 40000- =     13.8 : 1.0\n",
        "        contains(happen) = True           30000- : 40000- =     13.8 : 1.0\n",
        "          contains(poor) = True           30000- : 40000- =     13.8 : 1.0\n",
        "         contains(brand) = True           30000- : 40000- =     13.8 : 1.0\n",
        "         contains(metal) = True           30000- : 40000- =     13.8 : 1.0\n",
        "Initial Accuracy: 0.868131868132"
       ]
      },
      {
       "output_type": "stream",
       "stream": "stdout",
       "text": [
        "\n",
        "---------------------------------------------------feeding honda cr-v 2013 updateing-------------------------------------------\n",
        "Accuracy: 0.868131868132"
       ]
      },
      {
       "output_type": "stream",
       "stream": "stdout",
       "text": [
        "\n",
        "Most Informative Features\n",
        "          contains(high) = True           30000- : 40000- =     12.5 : 1.0"
       ]
      },
      {
       "output_type": "stream",
       "stream": "stdout",
       "text": [
        "\n",
        "       contains(reasons) = True           50000- : 40000- =     11.9 : 1.0\n",
        "        contains(longer) = True           50000- : 40000- =     11.9 : 1.0\n",
        "          contains(kids) = True           50000- : 40000- =     11.9 : 1.0\n",
        "            contains(13) = True           50000- : 40000- =     11.9 : 1.0\n",
        "        contains(Tiguan) = True           50000- : 40000- =     10.0 : 1.0\n",
        "          contains(sold) = True           50000- : 40000- =     10.0 : 1.0\n",
        "        contains(happen) = True           30000- : 40000- =      9.7 : 1.0\n",
        "          contains(rain) = True           30000- : 40000- =      9.7 : 1.0\n",
        "       contains(nothing) = True           30000- : 40000- =      9.7 : 1.0\n",
        "\n",
        " Feeding phase running time is 47.4443581104 second\n",
        "---------------------------------------------------feeding buick encore 2013 updateing-------------------------------------------\n",
        "Accuracy: 0.868131868132"
       ]
      },
      {
       "output_type": "stream",
       "stream": "stdout",
       "text": [
        "\n",
        "Most Informative Features\n",
        "          contains(high) = True           30000- : 40000- =     14.1 : 1.0"
       ]
      },
      {
       "output_type": "stream",
       "stream": "stdout",
       "text": [
        "\n",
        "       contains(without) = True           50000- : 40000- =     13.5 : 1.0\n",
        "       contains(reasons) = True           50000- : 40000- =     13.5 : 1.0\n",
        "        contains(longer) = True           50000- : 40000- =     13.5 : 1.0\n",
        "          contains(kids) = True           50000- : 40000- =     13.5 : 1.0\n",
        "            contains(13) = True           50000- : 40000- =     13.5 : 1.0\n",
        "        contains(Tiguan) = True           50000- : 40000- =     11.3 : 1.0\n",
        "          contains(sold) = True           50000- : 40000- =     11.3 : 1.0\n",
        "       contains(nothing) = True           30000- : 40000- =     11.0 : 1.0\n",
        "          contains(next) = True           30000- : 40000- =     11.0 : 1.0\n",
        "\n",
        " Feeding phase running time is 53.3114330769 second\n",
        "---------------------------------------------------feeding gmc terrain 2013 updateing-------------------------------------------\n",
        "Accuracy: 0.868131868132"
       ]
      },
      {
       "output_type": "stream",
       "stream": "stdout",
       "text": [
        "\n",
        "Most Informative Features\n",
        "        contains(longer) = True           50000- : 40000- =     18.5 : 1.0"
       ]
      },
      {
       "output_type": "stream",
       "stream": "stdout",
       "text": [
        "\n",
        "          contains(high) = True           30000- : 40000- =     14.9 : 1.0\n",
        "       contains(friends) = True           50000- : 40000- =     13.2 : 1.0\n",
        "    contains(researched) = True           50000- : 40000- =     13.2 : 1.0\n",
        "       contains(without) = True           50000- : 40000- =     13.2 : 1.0\n",
        "       contains(reasons) = True           50000- : 40000- =     13.2 : 1.0\n",
        "      contains(lighting) = True           50000- : 40000- =     13.2 : 1.0\n",
        "          contains(SUVs) = True           50000- : 40000- =     13.2 : 1.0\n",
        "           contains(V-6) = True           50000- : 40000- =     13.2 : 1.0\n",
        "       contains(work.It) = True           50000- : 40000- =     13.2 : 1.0\n",
        "\n",
        " Feeding phase running time is 57.5087869167 second\n",
        "---------------------------------------------------feeding nissan rogue 2013 updateing-------------------------------------------\n",
        "Accuracy: 0.868131868132"
       ]
      },
      {
       "output_type": "stream",
       "stream": "stdout",
       "text": [
        "\n",
        "Most Informative Features\n",
        "        contains(longer) = True           50000- : 40000- =     19.4 : 1.0"
       ]
      },
      {
       "output_type": "stream",
       "stream": "stdout",
       "text": [
        "\n",
        "          contains(high) = True           30000- : 40000- =     15.6 : 1.0\n",
        "       contains(friends) = True           50000- : 40000- =     13.9 : 1.0\n",
        "    contains(researched) = True           50000- : 40000- =     13.9 : 1.0\n",
        "       contains(without) = True           50000- : 40000- =     13.9 : 1.0\n",
        "       contains(reasons) = True           50000- : 40000- =     13.9 : 1.0\n",
        "      contains(lighting) = True           50000- : 40000- =     13.9 : 1.0\n",
        "          contains(SUVs) = True           50000- : 40000- =     13.9 : 1.0\n",
        "           contains(V-6) = True           50000- : 40000- =     13.9 : 1.0\n",
        "       contains(work.It) = True           50000- : 40000- =     13.9 : 1.0\n",
        "\n",
        " Feeding phase running time is 62.8336610794 second\n",
        "---------------------------------------------------feeding ford escape 2013 updateing-------------------------------------------\n",
        "Accuracy: 0.868131868132"
       ]
      },
      {
       "output_type": "stream",
       "stream": "stdout",
       "text": [
        "\n",
        "Most Informative Features\n",
        "        contains(longer) = True           50000- : 40000- =     26.6 : 1.0"
       ]
      },
      {
       "output_type": "stream",
       "stream": "stdout",
       "text": [
        "\n",
        "       contains(friends) = True           50000- : 40000- =     19.0 : 1.0\n",
        "    contains(researched) = True           50000- : 40000- =     19.0 : 1.0\n",
        "       contains(reasons) = True           50000- : 40000- =     19.0 : 1.0\n",
        "           contains(leg) = True           50000- : 40000- =     19.0 : 1.0\n",
        "      contains(lighting) = True           50000- : 40000- =     19.0 : 1.0\n",
        "       contains(October) = True           50000- : 40000- =     19.0 : 1.0\n",
        "           contains(V-6) = True           50000- : 40000- =     19.0 : 1.0\n",
        "           contains(fit) = True           50000- : 40000- =     19.0 : 1.0\n",
        "       contains(work.It) = True           50000- : 40000- =     19.0 : 1.0\n",
        "\n",
        " Feeding phase running time is 105.66317606 second\n",
        "---------------------------------------------------feeding mazda cx-5 2013 updateing-------------------------------------------\n",
        "Accuracy: 0.868131868132"
       ]
      },
      {
       "output_type": "stream",
       "stream": "stdout",
       "text": [
        "\n",
        "Most Informative Features\n",
        "           contains(red) = True           50000- : 40000- =     32.8 : 1.0"
       ]
      },
      {
       "output_type": "stream",
       "stream": "stdout",
       "text": [
        "\n",
        "           contains(leg) = True           50000- : 40000- =     23.4 : 1.0\n",
        "      contains(lighting) = True           50000- : 40000- =     23.4 : 1.0\n",
        "        contains(and/or) = True           50000- : 40000- =     23.4 : 1.0\n",
        "       contains(October) = True           50000- : 40000- =     23.4 : 1.0\n",
        "           contains(fit) = True           50000- : 40000- =     23.4 : 1.0\n",
        "       contains(work.It) = True           50000- : 40000- =     23.4 : 1.0\n",
        "          contains(kids) = True           50000- : 40000- =     23.4 : 1.0\n",
        "        contains(ride.I) = True           50000- : 40000- =     23.4 : 1.0\n",
        "       contains(keeping) = True           30000- : 40000- =     15.9 : 1.0\n",
        "\n",
        " Feeding phase running time is 137.105066061 second\n",
        "---------------------------------------------------feeding subaru forester 2013 updateing-------------------------------------------\n",
        "Accuracy: 0.868131868132"
       ]
      },
      {
       "output_type": "stream",
       "stream": "stdout",
       "text": [
        "\n",
        "Most Informative Features\n",
        "           contains(red) = True           50000- : 40000- =     34.1 : 1.0"
       ]
      },
      {
       "output_type": "stream",
       "stream": "stdout",
       "text": [
        "\n",
        "           contains(leg) = True           50000- : 40000- =     24.3 : 1.0\n",
        "      contains(lighting) = True           50000- : 40000- =     24.3 : 1.0\n",
        "        contains(and/or) = True           50000- : 40000- =     24.3 : 1.0\n",
        "       contains(October) = True           50000- : 40000- =     24.3 : 1.0\n",
        "           contains(fit) = True           50000- : 40000- =     24.3 : 1.0\n",
        "       contains(work.It) = True           50000- : 40000- =     24.3 : 1.0\n",
        "          contains(kids) = True           50000- : 40000- =     24.3 : 1.0\n",
        "        contains(ride.I) = True           50000- : 40000- =     24.3 : 1.0\n",
        "       contains(keeping) = True           30000- : 40000- =     16.5 : 1.0\n",
        "\n",
        " Feeding phase running time is 155.452943087 second\n",
        "---------------------------------------------------feeding chevrolet equinox 2013 updateing-------------------------------------------\n",
        "Accuracy: 0.868131868132"
       ]
      },
      {
       "output_type": "stream",
       "stream": "stdout",
       "text": [
        "\n",
        "Most Informative Features\n",
        "       contains(example) = True           50000- : 40000- =     35.1 : 1.0"
       ]
      },
      {
       "output_type": "stream",
       "stream": "stdout",
       "text": [
        "\n",
        "           contains(red) = True           50000- : 40000- =     35.1 : 1.0\n",
        "        contains(backup) = True           50000- : 40000- =     25.1 : 1.0\n",
        "         contains(known) = True           50000- : 40000- =     25.1 : 1.0\n",
        "      contains(lighting) = True           50000- : 40000- =     25.1 : 1.0\n",
        "       contains(beating) = True           50000- : 40000- =     25.1 : 1.0\n",
        "        contains(and/or) = True           50000- : 40000- =     25.1 : 1.0\n",
        "       contains(October) = True           50000- : 40000- =     25.1 : 1.0\n",
        "           contains(fit) = True           50000- : 40000- =     25.1 : 1.0\n",
        "       contains(work.It) = True           50000- : 40000- =     25.1 : 1.0\n",
        "\n",
        " Feeding phase running time is 164.942059994 second\n",
        "---------------------------------------------------feeding jeep cherokee 2013 updateing-------------------------------------------\n",
        "Accuracy: 0.868131868132"
       ]
      },
      {
       "output_type": "stream",
       "stream": "stdout",
       "text": [
        "\n",
        "Most Informative Features\n",
        "       contains(example) = True           50000- : 40000- =     35.1 : 1.0"
       ]
      },
      {
       "output_type": "stream",
       "stream": "stdout",
       "text": [
        "\n",
        "           contains(red) = True           50000- : 40000- =     35.1 : 1.0\n",
        "        contains(backup) = True           50000- : 40000- =     25.1 : 1.0\n",
        "         contains(known) = True           50000- : 40000- =     25.1 : 1.0\n",
        "      contains(lighting) = True           50000- : 40000- =     25.1 : 1.0\n",
        "       contains(beating) = True           50000- : 40000- =     25.1 : 1.0\n",
        "        contains(and/or) = True           50000- : 40000- =     25.1 : 1.0\n",
        "       contains(October) = True           50000- : 40000- =     25.1 : 1.0\n",
        "           contains(fit) = True           50000- : 40000- =     25.1 : 1.0\n",
        "       contains(work.It) = True           50000- : 40000- =     25.1 : 1.0\n",
        "\n",
        " Feeding phase running time is 167.610266924 second\n",
        "---------------------------------------------------feeding kia sportage 2013 updateing-------------------------------------------\n",
        "Accuracy: 0.868131868132"
       ]
      },
      {
       "output_type": "stream",
       "stream": "stdout",
       "text": [
        "\n",
        "Most Informative Features\n",
        "       contains(example) = True           50000- : 40000- =     33.9 : 1.0"
       ]
      },
      {
       "output_type": "stream",
       "stream": "stdout",
       "text": [
        "\n",
        "           contains(red) = True           50000- : 40000- =     33.9 : 1.0\n",
        "        contains(backup) = True           50000- : 40000- =     24.2 : 1.0\n",
        "         contains(known) = True           50000- : 40000- =     24.2 : 1.0\n",
        "      contains(lighting) = True           50000- : 40000- =     24.2 : 1.0\n",
        "       contains(beating) = True           50000- : 40000- =     24.2 : 1.0\n",
        "        contains(and/or) = True           50000- : 40000- =     24.2 : 1.0\n",
        "        contains(period) = True           50000- : 40000- =     24.2 : 1.0\n",
        "       contains(improve) = True           50000- : 40000- =     24.2 : 1.0\n",
        "       contains(October) = True           50000- : 40000- =     24.2 : 1.0\n",
        "\n",
        " Feeding phase running time is 170.6091609 second\n",
        "---------------------------------------------------feeding dodge journey 2013 updateing-------------------------------------------\n",
        "Accuracy: 0.868131868132"
       ]
      },
      {
       "output_type": "stream",
       "stream": "stdout",
       "text": [
        "\n",
        "Most Informative Features\n",
        "           contains(red) = True           50000- : 40000- =     39.9 : 1.0"
       ]
      },
      {
       "output_type": "stream",
       "stream": "stdout",
       "text": [
        "\n",
        "        contains(and/or) = True           50000- : 40000- =     31.1 : 1.0\n",
        "       contains(example) = True           50000- : 40000- =     31.1 : 1.0\n",
        "           contains(fit) = True           50000- : 40000- =     31.1 : 1.0\n",
        "         contains(16-17) = True           50000- : 40000- =     22.2 : 1.0\n",
        "         contains(known) = True           50000- : 40000- =     22.2 : 1.0\n",
        "      contains(lighting) = True           50000- : 40000- =     22.2 : 1.0\n",
        "       contains(beating) = True           50000- : 40000- =     22.2 : 1.0\n",
        "          contains(deep) = True           50000- : 40000- =     22.2 : 1.0\n",
        "        contains(period) = True           50000- : 40000- =     22.2 : 1.0\n",
        "\n",
        " Feeding phase running time is 177.6773839 second\n",
        "---------------------------------------------------feeding volkswagen tiguan 2013 updateing-------------------------------------------\n",
        "Accuracy: 0.868131868132"
       ]
      },
      {
       "output_type": "stream",
       "stream": "stdout",
       "text": [
        "\n",
        "Most Informative Features\n",
        "           contains(fit) = True           50000- : 40000- =     39.3 : 1.0"
       ]
      },
      {
       "output_type": "stream",
       "stream": "stdout",
       "text": [
        "\n",
        "        contains(and/or) = True           50000- : 40000- =     32.1 : 1.0\n",
        "       contains(example) = True           50000- : 40000- =     32.1 : 1.0\n",
        "           contains(red) = True           50000- : 40000- =     32.1 : 1.0\n",
        "       contains(keeping) = True           30000- : 40000- =     19.3 : 1.0\n",
        "       contains(reasons) = True           50000- : 40000- =     19.3 : 1.0\n",
        "        contains(backup) = True           50000- : 40000- =     17.8 : 1.0\n",
        "         contains(16-17) = True           50000- : 40000- =     17.8 : 1.0\n",
        "         contains(above) = True           50000- : 40000- =     17.8 : 1.0\n",
        "         contains(known) = True           50000- : 40000- =     17.8 : 1.0\n",
        "\n",
        " Feeding phase running time is 186.072777033 second\n",
        "---------------------------------------------------feeding hyundai tucson 2013 updateing-------------------------------------------\n",
        "Accuracy: 0.868131868132"
       ]
      },
      {
       "output_type": "stream",
       "stream": "stdout",
       "text": [
        "\n",
        "Most Informative Features\n",
        "           contains(fit) = True           50000- : 40000- =     39.9 : 1.0"
       ]
      },
      {
       "output_type": "stream",
       "stream": "stdout",
       "text": [
        "\n",
        "        contains(and/or) = True           50000- : 40000- =     32.6 : 1.0\n",
        "       contains(example) = True           50000- : 40000- =     32.6 : 1.0\n",
        "           contains(red) = True           50000- : 40000- =     32.6 : 1.0\n",
        "       contains(keeping) = True           30000- : 40000- =     19.6 : 1.0\n",
        "       contains(reasons) = True           50000- : 40000- =     19.6 : 1.0\n",
        "        contains(backup) = True           50000- : 40000- =     18.1 : 1.0\n",
        "         contains(16-17) = True           50000- : 40000- =     18.1 : 1.0\n",
        "         contains(above) = True           50000- : 40000- =     18.1 : 1.0\n",
        "         contains(known) = True           50000- : 40000- =     18.1 : 1.0\n",
        "\n",
        " Feeding phase running time is 191.127477884 second\n",
        "---------------------------------------------------feeding mini cooper-countryman 2013 updateing-------------------------------------------\n",
        "Accuracy: 0.868131868132"
       ]
      },
      {
       "output_type": "stream",
       "stream": "stdout",
       "text": [
        "\n",
        "Most Informative Features\n",
        "           contains(fit) = True           50000- : 40000- =     38.6 : 1.0"
       ]
      },
      {
       "output_type": "stream",
       "stream": "stdout",
       "text": [
        "\n",
        "        contains(and/or) = True           50000- : 40000- =     31.6 : 1.0\n",
        "       contains(example) = True           50000- : 40000- =     31.6 : 1.0\n",
        "           contains(red) = True           50000- : 40000- =     31.6 : 1.0\n",
        "       contains(keeping) = True           30000- : 40000- =     19.8 : 1.0\n",
        "       contains(reasons) = True           50000- : 40000- =     18.9 : 1.0\n",
        "         contains(exist) = True           50000- : 40000- =     17.5 : 1.0\n",
        "     contains(operating) = True           50000- : 40000- =     17.5 : 1.0\n",
        "        contains(picked) = True           50000- : 40000- =     17.5 : 1.0\n",
        "        contains(backup) = True           50000- : 40000- =     17.5 : 1.0\n",
        "\n",
        " Feeding phase running time is 199.94024682 second\n",
        "---------------------------------------------------feeding nissan juke 2013 updateing-------------------------------------------\n",
        "Accuracy: 0.868131868132"
       ]
      },
      {
       "output_type": "stream",
       "stream": "stdout",
       "text": [
        "\n",
        "Most Informative Features\n",
        "           contains(fit) = True           50000- : 40000- =     39.2 : 1.0"
       ]
      },
      {
       "output_type": "stream",
       "stream": "stdout",
       "text": [
        "\n",
        "        contains(and/or) = True           50000- : 40000- =     32.0 : 1.0\n",
        "       contains(example) = True           50000- : 40000- =     32.0 : 1.0\n",
        "           contains(red) = True           50000- : 40000- =     32.0 : 1.0\n",
        "       contains(keeping) = True           30000- : 40000- =     19.5 : 1.0\n",
        "       contains(reasons) = True           50000- : 40000- =     19.2 : 1.0\n",
        "         contains(exist) = True           50000- : 40000- =     17.8 : 1.0\n",
        "     contains(operating) = True           50000- : 40000- =     17.8 : 1.0\n",
        "        contains(picked) = True           50000- : 40000- =     17.8 : 1.0\n",
        "        contains(backup) = True           50000- : 40000- =     17.8 : 1.0\n",
        "\n",
        " Feeding phase running time is 206.300525904 second\n",
        "---------------------------------------------------feeding jeep wrangler 2013 updateing-------------------------------------------\n",
        "Accuracy: 0.868131868132"
       ]
      },
      {
       "output_type": "stream",
       "stream": "stdout",
       "text": [
        "\n",
        "Most Informative Features\n",
        "           contains(fit) = True           50000- : 40000- =     31.5 : 1.0"
       ]
      },
      {
       "output_type": "stream",
       "stream": "stdout",
       "text": [
        "\n",
        "        contains(and/or) = True           50000- : 40000- =     25.8 : 1.0\n",
        "       contains(example) = True           50000- : 40000- =     25.8 : 1.0\n",
        "           contains(red) = True           50000- : 40000- =     25.8 : 1.0\n",
        "       contains(reasons) = True           50000- : 40000- =     15.5 : 1.0\n",
        "          contains(kids) = True           50000- : 40000- =     15.5 : 1.0\n",
        "         contains(exist) = True           50000- : 40000- =     14.3 : 1.0\n",
        "     contains(operating) = True           50000- : 40000- =     14.3 : 1.0\n",
        "        contains(picked) = True           50000- : 40000- =     14.3 : 1.0\n",
        "        contains(backup) = True           50000- : 40000- =     14.3 : 1.0\n",
        "\n",
        " Feeding phase running time is 226.920548916 second\n",
        "---------------------------------------------------feeding toyota rav4 2013 updateing-------------------------------------------\n",
        "Accuracy: 0.868131868132"
       ]
      },
      {
       "output_type": "stream",
       "stream": "stdout",
       "text": [
        "\n",
        "Most Informative Features\n",
        "           contains(fit) = True           50000- : 40000- =     34.9 : 1.0"
       ]
      },
      {
       "output_type": "stream",
       "stream": "stdout",
       "text": [
        "\n",
        "        contains(and/or) = True           50000- : 40000- =     28.6 : 1.0\n",
        "       contains(example) = True           50000- : 40000- =     28.6 : 1.0\n",
        "           contains(red) = True           50000- : 40000- =     28.6 : 1.0\n",
        "       contains(reasons) = True           50000- : 40000- =     17.2 : 1.0\n",
        "          contains(kids) = True           50000- : 40000- =     17.2 : 1.0\n",
        "         contains(exist) = True           50000- : 40000- =     15.9 : 1.0\n",
        "     contains(operating) = True           50000- : 40000- =     15.9 : 1.0\n",
        "        contains(picked) = True           50000- : 40000- =     15.9 : 1.0\n",
        "        contains(backup) = True           50000- : 40000- =     15.9 : 1.0\n",
        "\n",
        " Feeding phase running time is 264.604287148 second\n",
        "---------------------------------------------------feeding mitsubishi outlander-sport 2013 updateing-------------------------------------------\n",
        "Accuracy: 0.868131868132"
       ]
      },
      {
       "output_type": "stream",
       "stream": "stdout",
       "text": [
        "\n",
        "Most Informative Features\n",
        "           contains(fit) = True           50000- : 40000- =     36.1 : 1.0"
       ]
      },
      {
       "output_type": "stream",
       "stream": "stdout",
       "text": [
        "\n",
        "        contains(and/or) = True           50000- : 40000- =     29.5 : 1.0\n",
        "       contains(example) = True           50000- : 40000- =     29.5 : 1.0\n",
        "           contains(red) = True           50000- : 40000- =     29.5 : 1.0\n",
        "       contains(reasons) = True           50000- : 40000- =     17.7 : 1.0\n",
        "         contains(exist) = True           50000- : 40000- =     16.4 : 1.0\n",
        "     contains(operating) = True           50000- : 40000- =     16.4 : 1.0\n",
        "        contains(picked) = True           50000- : 40000- =     16.4 : 1.0\n",
        "        contains(backup) = True           50000- : 40000- =     16.4 : 1.0\n",
        "        contains(record) = True           50000- : 40000- =     16.4 : 1.0\n",
        "\n",
        " Feeding phase running time is 280.52273798 second\n",
        "---------------------------------------------------feeding jeep compass 2013 updateing-------------------------------------------\n",
        "Accuracy: 0.868131868132"
       ]
      },
      {
       "output_type": "stream",
       "stream": "stdout",
       "text": [
        "\n",
        "Most Informative Features\n",
        "           contains(fit) = True           50000- : 40000- =     36.1 : 1.0"
       ]
      },
      {
       "output_type": "stream",
       "stream": "stdout",
       "text": [
        "\n",
        "        contains(and/or) = True           50000- : 40000- =     29.5 : 1.0\n",
        "       contains(example) = True           50000- : 40000- =     29.5 : 1.0\n",
        "           contains(red) = True           50000- : 40000- =     29.5 : 1.0\n",
        "       contains(reasons) = True           50000- : 40000- =     17.7 : 1.0\n",
        "         contains(exist) = True           50000- : 40000- =     16.4 : 1.0\n",
        "     contains(operating) = True           50000- : 40000- =     16.4 : 1.0\n",
        "        contains(picked) = True           50000- : 40000- =     16.4 : 1.0\n",
        "        contains(backup) = True           50000- : 40000- =     16.4 : 1.0\n",
        "        contains(record) = True           50000- : 40000- =     16.4 : 1.0\n",
        "\n",
        " Feeding phase running time is 290.950947046 second\n",
        "---------------------------------------------------feeding jeep patriot 2013 updateing-------------------------------------------\n",
        "Accuracy: 0.868131868132"
       ]
      },
      {
       "output_type": "stream",
       "stream": "stdout",
       "text": [
        "\n",
        "Most Informative Features\n",
        "           contains(fit) = True           50000- : 40000- =     36.4 : 1.0"
       ]
      },
      {
       "output_type": "stream",
       "stream": "stdout",
       "text": [
        "\n",
        "        contains(and/or) = True           50000- : 40000- =     29.8 : 1.0\n",
        "       contains(example) = True           50000- : 40000- =     29.8 : 1.0\n",
        "           contains(red) = True           50000- : 40000- =     29.8 : 1.0\n",
        "       contains(reasons) = True           50000- : 40000- =     17.9 : 1.0\n",
        "         contains(exist) = True           50000- : 40000- =     16.6 : 1.0\n",
        "     contains(operating) = True           50000- : 40000- =     16.6 : 1.0\n",
        "        contains(picked) = True           50000- : 40000- =     16.6 : 1.0\n",
        "        contains(backup) = True           50000- : 40000- =     16.6 : 1.0\n",
        "        contains(record) = True           50000- : 40000- =     16.6 : 1.0\n",
        "\n",
        " Feeding phase running time is 306.659439087 second\n",
        "\n",
        "Running time is 3487.432019 seconds\n"
       ]
      }
     ],
     "prompt_number": 1
    },
    {
     "cell_type": "code",
     "collapsed": false,
     "input": [],
     "language": "python",
     "metadata": {},
     "outputs": []
    }
   ],
   "metadata": {}
  }
 ]
}