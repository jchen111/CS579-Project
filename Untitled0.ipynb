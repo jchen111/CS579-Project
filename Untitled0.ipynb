{
 "metadata": {
  "name": "",
  "signature": "sha256:914fa9d6ed4f1bca6b174978d7536230ee0c4160506a716fb51c504ae09fbd56"
 },
 "nbformat": 3,
 "nbformat_minor": 0,
 "worksheets": [
  {
   "cells": [
    {
     "cell_type": "code",
     "collapsed": false,
     "input": [
      "from textblob.classifiers import NaiveBayesClassifier\n",
      "from textblob import TextBlob\n",
      "from collections import Counter\n",
      "import math\n",
      "import glob\n",
      "import re\n",
      "import time\n",
      "\n",
      "start_time = time.time()\n",
      "filename = \"full_size_pickups\"\n",
      "\n",
      "def read_automobiles(filename):\n",
      "    \"\"\" Read a list of automobiles.\n",
      "    Args:\n",
      "      filename: The name of the text file containing automobiles make model year.\n",
      "    Returns:\n",
      "      A list of automobile make model year\n",
      "    \"\"\"\n",
      "    automobiles = []\n",
      "    with open(filename) as f:\n",
      "        lines = f.read().splitlines()\n",
      "        for item in lines:\n",
      "            automobiles.append(item)  \n",
      "    return automobiles\n",
      "\n",
      "autos = read_automobiles(filename+'.txt')\n",
      "test = []\n",
      "train = [('''I'm at 5000 miles and at 4400 miles I took the new truck I purchased in October 2013 in to the Ford Dealership for rust issues.The inside (back side) of the chrome bumpers are showing corrosion, the air intake in the front bumper for the ecoboost models has an angled plate that is rusting and the factory painted (black) areas underneath are already showing rust.The dealer contacted Ford after taking photos and Ford responded it's normal wear and tear, no action taken on it.The running board is also starting to corrode where the driver mirrors drips down onto it due to the design.in heavy rain the turbo misfires and the service engine light blinks and all power was lost.''', '50000-55000'),('''The power steering has absolutely no \"On-Center\" feel to it. Its easy to meander out of a lane at freeway speeds when taking your eyes off the road to look at the Nav, operate the radio, etc. It gets worse in winding roads since there is no feedback from the steering, making it easy to exceed the truck's limits and lose control. I am not saying it's unsafe. just that one has to pay extra attention! I thought this was one of the major issues Toyota was going to improve on, with the new 2014 Tundra.''', '40000-45000'),('''Well I have owned this truck for almost 6 months and have had ZERO issues and one recall to check transmission line leaks and none found.\n",
      "My last truck was a 2013 Chevy Silverado and this truck is a far better vehicle! It drives better has a better turning radius and just has a better feel driving it. I have owned numerous other trucks Fords, Dodges (junk) and Toyota's and they do not equal this truck. I see other reviews that do not have good things to say but I really LIKE this truck! I tow a small bass boat and it pulls it great. The gas mileage is better than my 2013 Chevy but I have yet to hit the 22mpg highway. Hope this helps someone looking at this truck!''', '45000-50000'),('''I looked at dodge, ford and Chevrolet and choose the Chevrolet for price. I now have 700 miles on my truck with no mechanical issues or ride issues and is very comfortable and fun to drive. the only problem I have had is keeping the tire pressure up but that's because of the cold weather. I have plenty of power and great fuel economy with the 4-8 set up. the transmission works great and is very smooth, so smooth I don't even feel it shift but know its working great by watching the tachometer. Now Edmunds doesn't list my actual truck I bought. It's a 2014 crew cab Z71 LT 4X4 6'6'' box with the 5.3 motor. Have the 8'' touch screen love it. Great Truck!!!''', '55000-60000'),('''Overall I like the Tundra, have a 6\"lift on it and it looks nice. The turning radius is not quite what I would like it to be. Like someone else said, the carpet is a little thin, which means it will wear fast, if you don't put some liners in. The back seat is the roomiest I have ever seen (the kids like it better). We have had other Toyota's and have been pleased with the overall satisfaction. The stereo could be a little better, I like my music loud and its not loud enough, though the sound is good. Power booster maybe?''', '60000-65000'),('''Overall I like the Tundra, have a 6\"lift on it and it looks nice. The turning radius is not quite what I would like it to be. Like someone else said, the carpet is a little thin, which means it will wear fast, if you don't put some liners in. The back seat is the roomiest I have ever seen (the kids like it better). We have had other Toyota's and have been pleased with the overall satisfaction. The stereo could be a little better, I like my music loud and its not loud enough, though the sound is good. Power booster maybe?''', '65000-70000')]\n",
      "cl = NaiveBayesClassifier(train)\n",
      "training_percent = 0.8\n",
      "\n",
      "\n",
      "for auto in autos:\n",
      "    print \"-------------------------------gethering test sample from \"+auto+\"--------------------------------\"\n",
      "    filelist = []\n",
      "\n",
      "    filelist = glob.glob(filename + \"_review/\"+auto+\"/*.txt\")\n",
      "    tcofile = glob.glob(filename + \"_TCO/\" + filename + \"_TCO.txt\")\n",
      "    for fil in filelist:\n",
      "        with open(tcofile[0],'r') as file2:\n",
      "            with open(fil,'r') as file1:\n",
      "                price = 0\n",
      "                for line in file2:\n",
      "                    if line.split()[3] == fil.split(\"/\")[2][:9]:\n",
      "                        if float(line.split()[4]) >= 5000 and float(line.split()[4])<10000:\n",
      "                            price = \"5000-10000\"\n",
      "                        if float(line.split()[4]) >= 10000 and float(line.split()[4])<15000:\n",
      "                            price = \"10000-15000\"\n",
      "                        if float(line.split()[4]) >= 15000 and float(line.split()[4])<20000:\n",
      "                            price = \"15000-20000\"\n",
      "                        if float(line.split()[4]) >= 20000 and float(line.split()[4])<25000:\n",
      "                            price = \"20000-25000\"\n",
      "                        if float(line.split()[4]) >= 25000 and float(line.split()[4])<30000:\n",
      "                            price = \"25000-30000\"\n",
      "                        if float(line.split()[4]) >= 30000 and float(line.split()[4])<35000:\n",
      "                            price = \"30000-35000\"\n",
      "                        if float(line.split()[4]) >= 35000 and float(line.split()[4])<40000:\n",
      "                            price = \"35000-40000\"\n",
      "                        if float(line.split()[4]) >= 40000 and float(line.split()[4])<45000:\n",
      "                            price = \"40000-45000\"\n",
      "                        if float(line.split()[4]) >= 45000 and float(line.split()[4])<50000:\n",
      "                            price = \"45000-50000\"\n",
      "                        if float(line.split()[4]) >= 50000 and float(line.split()[4])<55000:\n",
      "                            price = \"50000-55000\"\n",
      "                        if float(line.split()[4]) >= 55000 and float(line.split()[4])<60000:\n",
      "                            price = \"55000-60000\"\n",
      "                        if float(line.split()[4]) >= 60000 and float(line.split()[4])<65000:\n",
      "                            price = \"60000-65000\"\n",
      "                        if float(line.split()[4]) >= 65000 and float(line.split()[4])<70000:\n",
      "                            price = \"65000-70000\"\n",
      "                        if float(line.split()[4]) >= 70000 and float(line.split()[4])<75000:\n",
      "                            price = \"70000-75000\"\n",
      "                        if float(line.split()[4]) >= 75000 and float(line.split()[4])<80000:\n",
      "                            price = \"75000-80000\"\n",
      "                        if float(line.split()[4]) >= 80000 and float(line.split()[4])<85000:\n",
      "                            price = \"80000-85000\"\n",
      "                        if float(line.split()[4]) >= 85000 and float(line.split()[4])<90000:\n",
      "                            price = \"85000-90000\"\n",
      "                        if float(line.split()[4]) >= 90000 and float(line.split()[4])<95000:\n",
      "                            price = \"90000-95000\"\n",
      "                        if float(line.split()[4]) >= 95000 and float(line.split()[4])<100000:\n",
      "                            price = \"95000-100000\"\n",
      "                        if float(line.split()[4]) >= 100000:\n",
      "                            price = \">100000\"\n",
      "                        reviews = file1.read().split('\\n------------------------------------------------------------------------------------------\\n')\n",
      "                        reviews = filter(None,reviews)\n",
      "                        train_set = int(math.floor(len(reviews)*training_percent))\n",
      "                    \n",
      "                        for i in range(train_set,len(reviews)):\n",
      "                            test.append((reviews[i].replace(\"\\n\",\"\").decode('UTF-8'),\n",
      "                                  price))\n",
      "\n",
      "for auto in autos:\n",
      "    filelist = []\n",
      "    train = []\n",
      "    train_percent = 0.8\n",
      "    filelist = glob.glob(filename + \"_review/\"+auto+\"/*.txt\")\n",
      "    tcofile = glob.glob(filename + \"_TCO/\" + filename + \"_TCO.txt\")\n",
      "    for fil in filelist:\n",
      "        with open(tcofile[0],'r') as file2:\n",
      "            with open(fil,'r') as file1:\n",
      "                price = 0\n",
      "                for line in file2:\n",
      "                    if line.split()[3] == fil.split(\"/\")[2][:9]:\n",
      "                        if float(line.split()[4]) >= 5000 and float(line.split()[4])<10000:\n",
      "                            price = \"5000-10000\"\n",
      "                        if float(line.split()[4]) >= 10000 and float(line.split()[4])<15000:\n",
      "                            price = \"10000-15000\"\n",
      "                        if float(line.split()[4]) >= 15000 and float(line.split()[4])<20000:\n",
      "                            price = \"15000-20000\"\n",
      "                        if float(line.split()[4]) >= 20000 and float(line.split()[4])<25000:\n",
      "                            price = \"20000-25000\"\n",
      "                        if float(line.split()[4]) >= 25000 and float(line.split()[4])<30000:\n",
      "                            price = \"25000-30000\"\n",
      "                        if float(line.split()[4]) >= 30000 and float(line.split()[4])<35000:\n",
      "                            price = \"30000-35000\"\n",
      "                        if float(line.split()[4]) >= 35000 and float(line.split()[4])<40000:\n",
      "                            price = \"35000-40000\"\n",
      "                        if float(line.split()[4]) >= 40000 and float(line.split()[4])<45000:\n",
      "                            price = \"40000-45000\"\n",
      "                        if float(line.split()[4]) >= 45000 and float(line.split()[4])<50000:\n",
      "                            price = \"45000-50000\"\n",
      "                        if float(line.split()[4]) >= 50000 and float(line.split()[4])<55000:\n",
      "                            price = \"50000-55000\"\n",
      "                        if float(line.split()[4]) >= 55000 and float(line.split()[4])<60000:\n",
      "                            price = \"55000-60000\"\n",
      "                        if float(line.split()[4]) >= 60000 and float(line.split()[4])<65000:\n",
      "                            price = \"60000-65000\"\n",
      "                        if float(line.split()[4]) >= 65000 and float(line.split()[4])<70000:\n",
      "                            price = \"65000-70000\"\n",
      "                        if float(line.split()[4]) >= 70000 and float(line.split()[4])<75000:\n",
      "                            price = \"70000-75000\"\n",
      "                        if float(line.split()[4]) >= 75000 and float(line.split()[4])<80000:\n",
      "                            price = \"75000-80000\"\n",
      "                        if float(line.split()[4]) >= 80000 and float(line.split()[4])<85000:\n",
      "                            price = \"80000-85000\"\n",
      "                        if float(line.split()[4]) >= 85000 and float(line.split()[4])<90000:\n",
      "                            price = \"85000-90000\"\n",
      "                        if float(line.split()[4]) >= 90000 and float(line.split()[4])<95000:\n",
      "                            price = \"90000-95000\"\n",
      "                        if float(line.split()[4]) >= 95000 and float(line.split()[4])<100000:\n",
      "                            price = \"95000-100000\"\n",
      "                        if float(line.split()[4]) >= 100000:\n",
      "                            price = \">100000\"\n",
      "                        reviews = file1.read().split('\\n------------------------------------------------------------------------------------------\\n')\n",
      "                        reviews = filter(None,reviews)\n",
      "                        train_set = int(math.floor(len(reviews)*training_percent))\n",
      "                        if train_set is 0:\n",
      "                            for i in range(0,len(reviews)):\n",
      "                                train.append((reviews[i].replace(\"\\n\",\"\").decode('UTF-8'),\n",
      "                                  price))\n",
      "                        else:\n",
      "                            for i in range(0,train_set):\n",
      "                                train.append((reviews[i].replace(\"\\n\",\"\").decode('UTF-8'),\n",
      "                                  price))\n",
      "    print \"---------------------------------------------------feeding \"+auto+\" updateing-------------------------------------------\"                      \n",
      "    cl.update(train)\n",
      "    # Compute accuracy\n",
      "    print(\"Accuracy: {0}\".format(cl.accuracy(test)))\n",
      " \n",
      "    # Show 5 most informative features\n",
      "    cl.show_informative_features(10)\n",
      "    \n",
      "print \"\\nRunning time is %s seconds\"%(time.time()-start_time)"
     ],
     "language": "python",
     "metadata": {},
     "outputs": [
      {
       "output_type": "stream",
       "stream": "stdout",
       "text": [
        "-------------------------------gethering test sample from Chevrolet Silverado-1500 2014--------------------------------\n",
        "-------------------------------gethering test sample from Ram 1500 2014--------------------------------\n",
        "-------------------------------gethering test sample from GMC Sierra-1500 2014--------------------------------\n",
        "-------------------------------gethering test sample from Ford F-150 2014--------------------------------\n",
        "-------------------------------gethering test sample from Toyota Tundra 2014--------------------------------\n",
        "-------------------------------gethering test sample from Nissan Titan 2014--------------------------------\n",
        "-------------------------------gethering test sample from Chevrolet Silverado-1500 2013--------------------------------\n",
        "-------------------------------gethering test sample from Ram 1500 2013--------------------------------\n",
        "-------------------------------gethering test sample from Ford F-150 2013--------------------------------\n",
        "-------------------------------gethering test sample from Nissan Titan 2013--------------------------------\n",
        "---------------------------------------------------feeding Chevrolet Silverado-1500 2014 updateing-------------------------------------------\n",
        "Accuracy: 0.475609756098"
       ]
      },
      {
       "output_type": "stream",
       "stream": "stdout",
       "text": [
        "\n",
        "Most Informative Features\n",
        "       contains(someone) = True           60000- : 55000- =     13.5 : 1.0\n",
        "        contains(Toyota) = True           60000- : 55000- =     13.5 : 1.0\n",
        "           contains(put) = True           60000- : 55000- =     13.5 : 1.0\n",
        "          contains(kids) = True           60000- : 55000- =     13.5 : 1.0\n",
        "          contains(ever) = True           60000- : 55000- =     13.5 : 1.0\n",
        "        contains(enough) = True           60000- : 55000- =     13.5 : 1.0\n",
        "            contains(We) = True           60000- : 55000- =     13.5 : 1.0\n",
        "          contains(thin) = True           60000- : 55000- =     13.5 : 1.0\n",
        "          contains(Like) = True           60000- : 55000- =     13.5 : 1.0\n",
        "          contains(loud) = True           60000- : 55000- =     13.5 : 1.0\n",
        "---------------------------------------------------feeding Ram 1500 2014 updateing-------------------------------------------\n",
        "Accuracy: 0.536585365854"
       ]
      },
      {
       "output_type": "stream",
       "stream": "stdout",
       "text": [
        "\n",
        "Most Informative Features\n",
        "       contains(someone) = True           65000- : 55000- =     15.5 : 1.0"
       ]
      },
      {
       "output_type": "stream",
       "stream": "stdout",
       "text": [
        "\n",
        "           contains(put) = True           65000- : 55000- =     15.5 : 1.0\n",
        "          contains(kids) = True           65000- : 55000- =     15.5 : 1.0\n",
        "          contains(ever) = True           65000- : 55000- =     15.5 : 1.0\n",
        "        contains(enough) = True           65000- : 55000- =     15.5 : 1.0\n",
        "            contains(We) = True           65000- : 55000- =     15.5 : 1.0\n",
        "          contains(thin) = True           65000- : 55000- =     15.5 : 1.0\n",
        "          contains(Like) = True           65000- : 55000- =     15.5 : 1.0\n",
        "          contains(loud) = True           65000- : 55000- =     15.5 : 1.0\n",
        "        contains(little) = True           65000- : 55000- =     15.5 : 1.0\n",
        "---------------------------------------------------feeding GMC Sierra-1500 2014 updateing-------------------------------------------\n",
        "Accuracy: 0.634146341463"
       ]
      },
      {
       "output_type": "stream",
       "stream": "stdout",
       "text": [
        "\n",
        "Most Informative Features\n",
        "         contains(Power) = True           65000- : 50000- =     18.0 : 1.0"
       ]
      },
      {
       "output_type": "stream",
       "stream": "stdout",
       "text": [
        "\n",
        "          contains(wear) = True           65000- : 50000- =     18.0 : 1.0\n",
        "            contains(We) = True           65000- : 50000- =     18.0 : 1.0\n",
        "         contains(quite) = True           65000- : 50000- =     18.0 : 1.0\n",
        "       contains(someone) = True           65000- : 55000- =     17.5 : 1.0\n",
        "           contains(put) = True           65000- : 55000- =     17.5 : 1.0\n",
        "          contains(kids) = True           65000- : 55000- =     17.5 : 1.0\n",
        "        contains(enough) = True           65000- : 55000- =     17.5 : 1.0\n",
        "          contains(thin) = True           65000- : 55000- =     17.5 : 1.0\n",
        "          contains(loud) = True           65000- : 55000- =     17.5 : 1.0\n",
        "---------------------------------------------------feeding Ford F-150 2014 updateing-------------------------------------------\n",
        "Accuracy: 0.621951219512"
       ]
      },
      {
       "output_type": "stream",
       "stream": "stdout",
       "text": [
        "\n",
        "Most Informative Features\n",
        "       contains(someone) = True           65000- : 55000- =     18.0 : 1.0"
       ]
      },
      {
       "output_type": "stream",
       "stream": "stdout",
       "text": [
        "\n",
        "           contains(put) = True           65000- : 55000- =     18.0 : 1.0\n",
        "          contains(kids) = True           65000- : 55000- =     18.0 : 1.0\n",
        "         contains(Power) = True           65000- : 50000- =     18.0 : 1.0\n",
        "        contains(enough) = True           65000- : 55000- =     18.0 : 1.0\n",
        "          contains(wear) = True           65000- : 50000- =     18.0 : 1.0\n",
        "            contains(We) = True           65000- : 55000- =     18.0 : 1.0\n",
        "          contains(thin) = True           65000- : 55000- =     18.0 : 1.0\n",
        "         contains(quite) = True           65000- : 50000- =     18.0 : 1.0\n",
        "          contains(loud) = True           65000- : 55000- =     18.0 : 1.0\n",
        "---------------------------------------------------feeding Toyota Tundra 2014 updateing-------------------------------------------\n",
        "Accuracy: 0.670731707317"
       ]
      },
      {
       "output_type": "stream",
       "stream": "stdout",
       "text": [
        "\n",
        "Most Informative Features\n",
        "             contains(I) = False          70000- : 50000- =     19.0 : 1.0"
       ]
      },
      {
       "output_type": "stream",
       "stream": "stdout",
       "text": [
        "\n",
        "          contains(lane) = True           65000- : 55000- =     14.7 : 1.0\n",
        "       contains(highest) = True           65000- : 55000- =     14.7 : 1.0\n",
        "          contains(Good) = True           65000- : 55000- =     14.7 : 1.0\n",
        "          contains(thin) = True           65000- : 55000- =     14.7 : 1.0\n",
        "         contains(Great) = True           70000- : 55000- =     13.2 : 1.0\n",
        "         contains(front) = True           65000- : 50000- =     12.7 : 1.0\n",
        "      contains(switches) = True           65000- : 50000- =     12.7 : 1.0\n",
        "          contains(line) = True           65000- : 50000- =     12.7 : 1.0\n",
        "       contains(trailer) = True           65000- : 50000- =     12.7 : 1.0\n",
        "---------------------------------------------------feeding Nissan Titan 2014 updateing-------------------------------------------\n",
        "Accuracy: 0.682926829268"
       ]
      },
      {
       "output_type": "stream",
       "stream": "stdout",
       "text": [
        "\n",
        "Most Informative Features\n",
        "             contains(I) = False          70000- : 50000- =     19.0 : 1.0"
       ]
      },
      {
       "output_type": "stream",
       "stream": "stdout",
       "text": [
        "\n",
        "          contains(lane) = True           65000- : 55000- =     14.7 : 1.0\n",
        "       contains(highest) = True           65000- : 55000- =     14.7 : 1.0\n",
        "          contains(Good) = True           65000- : 55000- =     14.7 : 1.0\n",
        "          contains(thin) = True           65000- : 55000- =     14.7 : 1.0\n",
        "         contains(Great) = True           70000- : 55000- =     13.2 : 1.0\n",
        "         contains(front) = True           65000- : 50000- =     12.7 : 1.0\n",
        "      contains(switches) = True           65000- : 50000- =     12.7 : 1.0\n",
        "          contains(line) = True           65000- : 50000- =     12.7 : 1.0\n",
        "       contains(trailer) = True           65000- : 50000- =     12.7 : 1.0\n",
        "---------------------------------------------------feeding Chevrolet Silverado-1500 2013 updateing-------------------------------------------\n",
        "Accuracy: 0.69512195122"
       ]
      },
      {
       "output_type": "stream",
       "stream": "stdout",
       "text": [
        "\n",
        "Most Informative Features\n",
        "             contains(I) = False          70000- : 50000- =     19.5 : 1.0"
       ]
      },
      {
       "output_type": "stream",
       "stream": "stdout",
       "text": [
        "\n",
        "          contains(lane) = True           65000- : 55000- =     15.0 : 1.0\n",
        "       contains(highest) = True           65000- : 55000- =     15.0 : 1.0\n",
        "          contains(Good) = True           65000- : 55000- =     15.0 : 1.0\n",
        "          contains(thin) = True           65000- : 55000- =     15.0 : 1.0\n",
        "         contains(Great) = True           70000- : 55000- =     13.5 : 1.0\n",
        "         contains(front) = True           65000- : 50000- =     13.0 : 1.0\n",
        "      contains(switches) = True           65000- : 50000- =     13.0 : 1.0\n",
        "          contains(line) = True           65000- : 50000- =     13.0 : 1.0\n",
        "       contains(trailer) = True           65000- : 50000- =     13.0 : 1.0\n",
        "---------------------------------------------------feeding Ram 1500 2013 updateing-------------------------------------------\n",
        "Accuracy: 0.731707317073"
       ]
      },
      {
       "output_type": "stream",
       "stream": "stdout",
       "text": [
        "\n",
        "Most Informative Features\n",
        "           contains(fun) = True           70000- : 50000- =     20.5 : 1.0"
       ]
      },
      {
       "output_type": "stream",
       "stream": "stdout",
       "text": [
        "\n",
        "             contains(I) = False          70000- : 50000- =     20.5 : 1.0\n",
        "          contains(lane) = True           65000- : 55000- =     16.3 : 1.0\n",
        "       contains(highest) = True           65000- : 55000- =     16.3 : 1.0\n",
        "          contains(Good) = True           65000- : 55000- =     16.3 : 1.0\n",
        "          contains(thin) = True           65000- : 55000- =     16.3 : 1.0\n",
        "           contains(add) = True           65000- : 55000- =     16.3 : 1.0\n",
        "       contains(missing) = True           65000- : 55000- =     16.3 : 1.0\n",
        "         contains(Great) = True           70000- : 55000- =     14.7 : 1.0\n",
        "         contains(front) = True           65000- : 50000- =     13.7 : 1.0\n",
        "---------------------------------------------------feeding Ford F-150 2013 updateing-------------------------------------------\n",
        "Accuracy: 0.743902439024"
       ]
      },
      {
       "output_type": "stream",
       "stream": "stdout",
       "text": [
        "\n",
        "Most Informative Features\n",
        "           contains(fun) = True           70000- : 50000- =     23.0 : 1.0"
       ]
      },
      {
       "output_type": "stream",
       "stream": "stdout",
       "text": [
        "\n",
        "             contains(I) = False          70000- : 50000- =     23.0 : 1.0\n",
        "         contains(Great) = True           70000- : 55000- =     15.3 : 1.0\n",
        "          contains(lane) = True           65000- : 55000- =     14.2 : 1.0\n",
        "          contains(Good) = True           65000- : 55000- =     14.2 : 1.0\n",
        "          contains(thin) = True           65000- : 55000- =     14.2 : 1.0\n",
        "           contains(add) = True           65000- : 55000- =     14.2 : 1.0\n",
        "       contains(highest) = True           65000- : 55000- =     14.2 : 1.0\n",
        "       contains(missing) = True           65000- : 55000- =     14.2 : 1.0\n",
        "           contains(guy) = True           40000- : 50000- =     13.8 : 1.0\n",
        "---------------------------------------------------feeding Nissan Titan 2013 updateing-------------------------------------------\n",
        "Accuracy: 0.743902439024"
       ]
      },
      {
       "output_type": "stream",
       "stream": "stdout",
       "text": [
        "\n",
        "Most Informative Features\n",
        "           contains(fun) = True           70000- : 50000- =     23.0 : 1.0"
       ]
      },
      {
       "output_type": "stream",
       "stream": "stdout",
       "text": [
        "\n",
        "             contains(I) = False          70000- : 50000- =     23.0 : 1.0\n",
        "         contains(Great) = True           70000- : 55000- =     15.3 : 1.0\n",
        "          contains(lane) = True           65000- : 55000- =     14.2 : 1.0\n",
        "          contains(Good) = True           65000- : 55000- =     14.2 : 1.0\n",
        "          contains(thin) = True           65000- : 55000- =     14.2 : 1.0\n",
        "           contains(add) = True           65000- : 55000- =     14.2 : 1.0\n",
        "       contains(highest) = True           65000- : 55000- =     14.2 : 1.0\n",
        "       contains(missing) = True           65000- : 55000- =     14.2 : 1.0\n",
        "           contains(guy) = True           40000- : 50000- =     13.8 : 1.0\n",
        "\n",
        "Running time is 430.131453037 seconds\n"
       ]
      }
     ],
     "prompt_number": 1
    },
    {
     "cell_type": "code",
     "collapsed": false,
     "input": [],
     "language": "python",
     "metadata": {},
     "outputs": []
    }
   ],
   "metadata": {}
  }
 ]
}