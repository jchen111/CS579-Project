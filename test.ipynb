{
 "metadata": {
  "name": "",
  "signature": "sha256:2f424d96dc061c498d557da17b1819de74fe3e72e7d640e3fdbf51e55195b5e1"
 },
 "nbformat": 3,
 "nbformat_minor": 0,
 "worksheets": [
  {
   "cells": [
    {
     "cell_type": "code",
     "collapsed": false,
     "input": [
      "from edmunds.edmunds import Edmunds\n",
      "import os\n",
      "import time\n",
      "api = Edmunds('k7nhme5yf7xem53u43wrcuhp')\n",
      "response_styleid = api.make_call('/api/vehicle/v2/toyota/tacoma/2013/styles')\n",
      "for i in range(0,len(response_styleid['styles'])):\n",
      "    print response_styleid['styles'][i]\n",
      "print '------'\n",
      "\n",
      "# time.sleep(1)\n",
      "# response_styleid = api.make_call('/api/vehicle/v2/kia/optima/2014/styles')\n",
      "# for i in range(0,len(response_styleid['styles'])):\n",
      "#     print response_styleid['styles'][i]['id']\n",
      "# print '------'\n",
      "    \n",
      "# for i in range(0,len(response_styleid['styles'])):\n",
      "#     print response_styleid['styles'][i]['submodel']['niceName'].encode('UTF-8')\n",
      "#     if response_styleid['styles'][i]['submodel']['niceName'].encode('UTF-8') == 'hybrid':\n",
      "#         print response_styleid['styles'][i]['id']\n",
      "#         time.sleep(1)\n",
      "#         response_TCO = api.make_call('/v1/api/tco/newtruecosttoownbystyleidandzip/'+str(response_styleid['styles'][i]['id'])+'/60616')\n",
      "#         print response_TCO['value']\n",
      "#         time.sleep(1)\n",
      "#         response_review = api.make_call('/api/vehiclereviews/v2/styles/'+str(response_styleid['styles'][i]['id']))\n",
      "#         print response_review\n",
      "#         for i in range(0,len(response_review['reviews'])):\n",
      "#              print response_review['reviews'][i]['text']\n"
     ],
     "language": "python",
     "metadata": {},
     "outputs": [
      {
       "output_type": "stream",
       "stream": "stdout",
       "text": [
        "{u'trim': u'V6', u'name': u'V6 4dr Double Cab 4WD 5.0 ft. SB (4.0L 6cyl 6M)', u'make': {u'id': 200003381, u'niceName': u'toyota', u'name': u'Toyota'}, u'id': 200431840, u'year': {u'id': 200431825, u'year': 2013}, u'model': {u'id': u'Toyota_Tacoma', u'niceName': u'tacoma', u'name': u'Tacoma'}, u'submodel': {u'body': u'Double Cab', u'modelName': u'Tacoma Double Cab', u'niceName': u'double-cab'}}\n",
        "{u'trim': u'Base', u'name': u'4dr Access Cab 4WD 6.1 ft. SB (2.7L 4cyl 5M)', u'make': {u'id': 200003381, u'niceName': u'toyota', u'name': u'Toyota'}, u'id': 200431843, u'year': {u'id': 200431825, u'year': 2013}, u'model': {u'id': u'Toyota_Tacoma', u'niceName': u'tacoma', u'name': u'Tacoma'}, u'submodel': {u'body': u'Access Cab', u'modelName': u'Tacoma Access Cab', u'niceName': u'access-cab'}}\n",
        "{u'trim': u'Base', u'name': u'4dr Access Cab 4WD 6.1 ft. SB (2.7L 4cyl 4A)', u'make': {u'id': 200003381, u'niceName': u'toyota', u'name': u'Toyota'}, u'id': 200431844, u'year': {u'id': 200431825, u'year': 2013}, u'model': {u'id': u'Toyota_Tacoma', u'niceName': u'tacoma', u'name': u'Tacoma'}, u'submodel': {u'body': u'Access Cab', u'modelName': u'Tacoma Access Cab', u'niceName': u'access-cab'}}\n",
        "{u'trim': u'PreRunner', u'name': u'PreRunner 4dr Double Cab 5.0 ft. SB (2.7L 4cyl 4A)', u'make': {u'id': 200003381, u'niceName': u'toyota', u'name': u'Toyota'}, u'id': 200431834, u'year': {u'id': 200431825, u'year': 2013}, u'model': {u'id': u'Toyota_Tacoma', u'niceName': u'tacoma', u'name': u'Tacoma'}, u'submodel': {u'body': u'Double Cab', u'modelName': u'Tacoma Double Cab', u'niceName': u'double-cab'}}\n",
        "{u'trim': u'Base', u'name': u'4dr Double Cab 5.0 ft. SB (2.7L 4cyl 4A)', u'make': {u'id': 200003381, u'niceName': u'toyota', u'name': u'Toyota'}, u'id': 200431829, u'year': {u'id': 200431825, u'year': 2013}, u'model': {u'id': u'Toyota_Tacoma', u'niceName': u'tacoma', u'name': u'Tacoma'}, u'submodel': {u'body': u'Double Cab', u'modelName': u'Tacoma Double Cab', u'niceName': u'double-cab'}}\n",
        "{u'trim': u'V6', u'name': u'V6 4dr Double Cab 4WD 5.0 ft. SB (4.0L 6cyl 5A)', u'make': {u'id': 200003381, u'niceName': u'toyota', u'name': u'Toyota'}, u'id': 200431841, u'year': {u'id': 200431825, u'year': 2013}, u'model': {u'id': u'Toyota_Tacoma', u'niceName': u'tacoma', u'name': u'Tacoma'}, u'submodel': {u'body': u'Double Cab', u'modelName': u'Tacoma Double Cab', u'niceName': u'double-cab'}}\n",
        "{u'trim': u'PreRunner', u'name': u'PreRunner 4dr Access Cab 6.1 ft. SB (2.7L 4cyl 4A)', u'make': {u'id': 200003381, u'niceName': u'toyota', u'name': u'Toyota'}, u'id': 200431832, u'year': {u'id': 200431825, u'year': 2013}, u'model': {u'id': u'Toyota_Tacoma', u'niceName': u'tacoma', u'name': u'Tacoma'}, u'submodel': {u'body': u'Access Cab', u'modelName': u'Tacoma Access Cab', u'niceName': u'access-cab'}}\n",
        "{u'trim': u'Base', u'name': u'2dr Regular Cab 4WD 6.1 ft. SB (2.7L 4cyl 4A)', u'make': {u'id': 200003381, u'niceName': u'toyota', u'name': u'Toyota'}, u'id': 200431839, u'year': {u'id': 200431825, u'year': 2013}, u'model': {u'id': u'Toyota_Tacoma', u'niceName': u'tacoma', u'name': u'Tacoma'}, u'submodel': {u'body': u'Regular Cab', u'modelName': u'Tacoma Regular Cab', u'niceName': u'regular-cab'}}\n",
        "{u'trim': u'Base', u'name': u'4dr Access Cab 6.1 ft. SB (2.7L 4cyl 5M)', u'make': {u'id': 200003381, u'niceName': u'toyota', u'name': u'Toyota'}, u'id': 200431830, u'year': {u'id': 200431825, u'year': 2013}, u'model': {u'id': u'Toyota_Tacoma', u'niceName': u'tacoma', u'name': u'Tacoma'}, u'submodel': {u'body': u'Access Cab', u'modelName': u'Tacoma Access Cab', u'niceName': u'access-cab'}}\n",
        "{u'trim': u'V6', u'name': u'V6 4dr Access Cab 4WD 6.1 ft. SB (4.0L 6cyl 6M)', u'make': {u'id': 200003381, u'niceName': u'toyota', u'name': u'Toyota'}, u'id': 200431845, u'year': {u'id': 200431825, u'year': 2013}, u'model': {u'id': u'Toyota_Tacoma', u'niceName': u'tacoma', u'name': u'Tacoma'}, u'submodel': {u'body': u'Access Cab', u'modelName': u'Tacoma Access Cab', u'niceName': u'access-cab'}}\n",
        "{u'trim': u'PreRunner V6', u'name': u'PreRunner V6 4dr Double Cab 6.1 ft. SB (4.0L 6cyl 5A)', u'make': {u'id': 200003381, u'niceName': u'toyota', u'name': u'Toyota'}, u'id': 200431836, u'year': {u'id': 200431825, u'year': 2013}, u'model': {u'id': u'Toyota_Tacoma', u'niceName': u'tacoma', u'name': u'Tacoma'}, u'submodel': {u'body': u'Double Cab', u'modelName': u'Tacoma Double Cab', u'niceName': u'double-cab'}}\n",
        "{u'trim': u'Base', u'name': u'2dr Regular Cab 4WD 6.1 ft. SB (2.7L 4cyl 5M)', u'make': {u'id': 200003381, u'niceName': u'toyota', u'name': u'Toyota'}, u'id': 200431838, u'year': {u'id': 200431825, u'year': 2013}, u'model': {u'id': u'Toyota_Tacoma', u'niceName': u'tacoma', u'name': u'Tacoma'}, u'submodel': {u'body': u'Regular Cab', u'modelName': u'Tacoma Regular Cab', u'niceName': u'regular-cab'}}\n",
        "{u'trim': u'V6', u'name': u'V6 4dr Access Cab 4WD 6.1 ft. SB (4.0L 6cyl 5A)', u'make': {u'id': 200003381, u'niceName': u'toyota', u'name': u'Toyota'}, u'id': 200431847, u'year': {u'id': 200431825, u'year': 2013}, u'model': {u'id': u'Toyota_Tacoma', u'niceName': u'tacoma', u'name': u'Tacoma'}, u'submodel': {u'body': u'Access Cab', u'modelName': u'Tacoma Access Cab', u'niceName': u'access-cab'}}\n",
        "{u'trim': u'V6', u'name': u'V6 4dr Double Cab 4WD 6.1 ft. SB (4.0L 6cyl 5A)', u'make': {u'id': 200003381, u'niceName': u'toyota', u'name': u'Toyota'}, u'id': 200438853, u'year': {u'id': 200431825, u'year': 2013}, u'model': {u'id': u'Toyota_Tacoma', u'niceName': u'tacoma', u'name': u'Tacoma'}, u'submodel': {u'body': u'Double Cab', u'modelName': u'Tacoma Double Cab', u'niceName': u'double-cab'}}\n",
        "{u'trim': u'Base', u'name': u'2dr Regular Cab 6.1 ft. SB (2.7L 4cyl 5M)', u'make': {u'id': 200003381, u'niceName': u'toyota', u'name': u'Toyota'}, u'id': 200431827, u'year': {u'id': 200431825, u'year': 2013}, u'model': {u'id': u'Toyota_Tacoma', u'niceName': u'tacoma', u'name': u'Tacoma'}, u'submodel': {u'body': u'Regular Cab', u'modelName': u'Tacoma Regular Cab', u'niceName': u'regular-cab'}}\n",
        "{u'trim': u'Base', u'name': u'2dr Regular Cab 6.1 ft. SB (2.7L 4cyl 4A)', u'make': {u'id': 200003381, u'niceName': u'toyota', u'name': u'Toyota'}, u'id': 200431828, u'year': {u'id': 200431825, u'year': 2013}, u'model': {u'id': u'Toyota_Tacoma', u'niceName': u'tacoma', u'name': u'Tacoma'}, u'submodel': {u'body': u'Regular Cab', u'modelName': u'Tacoma Regular Cab', u'niceName': u'regular-cab'}}\n",
        "{u'trim': u'X-Runner V6', u'name': u'X-Runner V6 4dr Access Cab 6.1 ft. SB (4.0L 6cyl 6M)', u'make': {u'id': 200003381, u'niceName': u'toyota', u'name': u'Toyota'}, u'id': 200431837, u'year': {u'id': 200431825, u'year': 2013}, u'model': {u'id': u'Toyota_Tacoma', u'niceName': u'tacoma', u'name': u'Tacoma'}, u'submodel': {u'body': u'Access Cab', u'modelName': u'Tacoma Access Cab', u'niceName': u'access-cab'}}\n",
        "{u'trim': u'Base', u'name': u'4dr Access Cab 6.1 ft. SB (2.7L 4cyl 4A)', u'make': {u'id': 200003381, u'niceName': u'toyota', u'name': u'Toyota'}, u'id': 200431831, u'year': {u'id': 200431825, u'year': 2013}, u'model': {u'id': u'Toyota_Tacoma', u'niceName': u'tacoma', u'name': u'Tacoma'}, u'submodel': {u'body': u'Access Cab', u'modelName': u'Tacoma Access Cab', u'niceName': u'access-cab'}}\n",
        "{u'trim': u'PreRunner V6', u'name': u'PreRunner V6 4dr Double Cab 5.0 ft. SB (4.0L 6cyl 5A)', u'make': {u'id': 200003381, u'niceName': u'toyota', u'name': u'Toyota'}, u'id': 200431835, u'year': {u'id': 200431825, u'year': 2013}, u'model': {u'id': u'Toyota_Tacoma', u'niceName': u'tacoma', u'name': u'Tacoma'}, u'submodel': {u'body': u'Double Cab', u'modelName': u'Tacoma Double Cab', u'niceName': u'double-cab'}}\n",
        "{u'trim': u'PreRunner V6', u'name': u'PreRunner V6 4dr Access Cab 6.1 ft. SB (4.0L 6cyl 5A)', u'make': {u'id': 200003381, u'niceName': u'toyota', u'name': u'Toyota'}, u'id': 200431833, u'year': {u'id': 200431825, u'year': 2013}, u'model': {u'id': u'Toyota_Tacoma', u'niceName': u'tacoma', u'name': u'Tacoma'}, u'submodel': {u'body': u'Access Cab', u'modelName': u'Tacoma Access Cab', u'niceName': u'access-cab'}}\n",
        "------\n"
       ]
      }
     ],
     "prompt_number": 8
    },
    {
     "cell_type": "code",
     "collapsed": false,
     "input": [],
     "language": "python",
     "metadata": {},
     "outputs": []
    }
   ],
   "metadata": {}
  }
 ]
}