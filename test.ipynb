{
 "metadata": {
  "name": "",
  "signature": "sha256:bd40db8995b74b263c5767146b2416776796b218eaa3a96e43baf79bb888095c"
 },
 "nbformat": 3,
 "nbformat_minor": 0,
 "worksheets": [
  {
   "cells": [
    {
     "cell_type": "code",
     "collapsed": false,
     "input": [
      "from edmunds.edmunds import Edmunds\n",
      "import os\n",
      "import time\n",
      "api = Edmunds('k7nhme5yf7xem53u43wrcuhp')\n",
      "response_styleid = api.make_call('/api/vehicle/v2/ford/c-max-hybrid/2014/styles')\n",
      "print response_styleid\n",
      "# response_TCO = api.make_call('/v1/api/tco/newtruecosttoownbystyleidandzip/200476050/60616')\n",
      "# print response_TCO['value']\n",
      "# response_review = api.make_call('/api/vehiclereviews/v2/volkswagen/beetle/2014')\n",
      "# for i in range(0,len(response_review['reviews'])):\n",
      "#     print response_review['reviews'][i]['text']\n"
     ],
     "language": "python",
     "metadata": {},
     "outputs": [
      {
       "output_type": "stream",
       "stream": "stdout",
       "text": [
        "{u'styles': [{u'trim': u'SE', u'name': u'SE 4dr Wagon (2.0L 4cyl gas/electric hybrid CVT)', u'make': {u'id': 200005143, u'niceName': u'ford', u'name': u'Ford'}, u'id': 200493259, u'year': {u'id': 200493257, u'year': 2014}, u'model': {u'id': u'Ford_C_Max_Hybrid', u'niceName': u'c-max-hybrid', u'name': u'C-Max Hybrid'}, u'submodel': {u'body': u'Wagon', u'modelName': u'C-Max Hybrid Wagon', u'niceName': u'wagon'}}, {u'trim': u'SEL', u'name': u'SEL 4dr Wagon (2.0L 4cyl gas/electric hybrid CVT)', u'make': {u'id': 200005143, u'niceName': u'ford', u'name': u'Ford'}, u'id': 200493258, u'year': {u'id': 200493257, u'year': 2014}, u'model': {u'id': u'Ford_C_Max_Hybrid', u'niceName': u'c-max-hybrid', u'name': u'C-Max Hybrid'}, u'submodel': {u'body': u'Wagon', u'modelName': u'C-Max Hybrid Wagon', u'niceName': u'wagon'}}], u'stylesCount': 2}\n"
       ]
      }
     ],
     "prompt_number": 51
    },
    {
     "cell_type": "code",
     "collapsed": false,
     "input": [],
     "language": "python",
     "metadata": {},
     "outputs": []
    }
   ],
   "metadata": {}
  }
 ]
}