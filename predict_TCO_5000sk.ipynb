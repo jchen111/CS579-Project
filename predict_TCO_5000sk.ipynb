{
 "metadata": {
  "name": "",
  "signature": "sha256:4e1841fe13dee239a4fb157994f26cd9e39586849d5c7a3aa89b1bd4d0606575"
 },
 "nbformat": 3,
 "nbformat_minor": 0,
 "worksheets": [
  {
   "cells": [
    {
     "cell_type": "code",
     "collapsed": false,
     "input": [
      "from sklearn.feature_extraction.text import TfidfVectorizer\n",
      "from sklearn.feature_extraction.text import CountVectorizer\n",
      "from sklearn.cross_validation import cross_val_score\n",
      "from sklearn.cross_validation import KFold\n",
      "from sklearn.linear_model import LogisticRegression\n",
      "from collections import Counter\n",
      "from sklearn.grid_search import GridSearchCV\n",
      "from sklearn.pipeline import Pipeline\n",
      "from pprint import pprint\n",
      "\n",
      "import matplotlib.pyplot as plt\n",
      "import numpy as np\n",
      "import math\n",
      "import glob\n",
      "import re\n",
      "import time\n",
      "\n",
      "start_time = time.time()\n",
      "filename = \"cars\"\n",
      "\n",
      "def read_automobiles(filename):\n",
      "    \"\"\" Read a list of automobiles.\n",
      "    Args:\n",
      "      filename: The name of the text file containing automobiles make model year.\n",
      "    Returns:\n",
      "      A list of automobile make model year\n",
      "    \"\"\"\n",
      "    automobiles = []\n",
      "    with open(filename) as f:\n",
      "        lines = f.read().splitlines()\n",
      "        for item in lines:\n",
      "            automobiles.append(item)  \n",
      "    return automobiles\n",
      "\n",
      "autos = read_automobiles(filename+'.txt')\n",
      "review_data = [] #X\n",
      "price_data = [] #y\n",
      "\n",
      "#collect data\n",
      "for auto in autos:\n",
      "    filelist = []\n",
      "    filelist = glob.glob(filename + \"_review/\"+auto+\"/*.txt\")\n",
      "    tcofile = glob.glob(filename + \"_TCO/\" + filename + \"_TCO.txt\")\n",
      "    for fil in filelist:\n",
      "        with open(tcofile[0],'r') as file2:\n",
      "            with open(fil,'r') as file1:\n",
      "                price = 0\n",
      "                for line in file2:\n",
      "                    if line.split()[3] == fil.split(\"/\")[2][:9]:\n",
      "                        if float(line.split()[4]) >= 0 and float(line.split()[4])<5000:\n",
      "                            price = \"0-5000\"\n",
      "                        if float(line.split()[4]) >= 5000 and float(line.split()[4])<10000:\n",
      "                            price = \"5000-10000\"\n",
      "                        if float(line.split()[4]) >= 10000 and float(line.split()[4])<15000:\n",
      "                            price = \"10000-15000\"\n",
      "                        if float(line.split()[4]) >= 15000 and float(line.split()[4])<20000:\n",
      "                            price = \"15000-20000\"\n",
      "                        if float(line.split()[4]) >= 20000 and float(line.split()[4])<25000:\n",
      "                            price = \"20000-25000\"\n",
      "                        if float(line.split()[4]) >= 25000 and float(line.split()[4])<30000:\n",
      "                            price = \"25000-30000\"\n",
      "                        if float(line.split()[4]) >= 30000 and float(line.split()[4])<35000:\n",
      "                            price = \"30000-35000\"\n",
      "                        if float(line.split()[4]) >= 35000 and float(line.split()[4])<40000:\n",
      "                            price = \"35000-40000\"\n",
      "                        if float(line.split()[4]) >= 40000 and float(line.split()[4])<45000:\n",
      "                            price = \"40000-45000\"\n",
      "                        if float(line.split()[4]) >= 45000 and float(line.split()[4])<50000:\n",
      "                            price = \"45000-50000\"\n",
      "                        if float(line.split()[4]) >= 50000 and float(line.split()[4])<55000:\n",
      "                            price = \"50000-55000\"\n",
      "                        if float(line.split()[4]) >= 55000 and float(line.split()[4])<60000:\n",
      "                            price = \"55000-60000\"    \n",
      "                        if float(line.split()[4]) >= 60000 and float(line.split()[4])<65000:\n",
      "                            price = \"60000-65000\"\n",
      "                        if float(line.split()[4]) >= 65000 and float(line.split()[4])<70000:\n",
      "                            price = \"65000-70000\"   \n",
      "                        if float(line.split()[4]) >= 70000 and float(line.split()[4])<75000:\n",
      "                            price = \"70000-75000\"\n",
      "                        if float(line.split()[4]) >= 75000 and float(line.split()[4])<80000:\n",
      "                            price = \"75000-80000\"\n",
      "                        if float(line.split()[4]) >= 80000 and float(line.split()[4])<85000:\n",
      "                            price = \"80000-85000\"\n",
      "                        if float(line.split()[4]) >= 85000 and float(line.split()[4])<90000:\n",
      "                            price = \"85000-90000\"    \n",
      "                        if float(line.split()[4]) >= 90000 and float(line.split()[4])<95000:\n",
      "                            price = \"90000-95000\"\n",
      "                        if float(line.split()[4]) >= 95000 and float(line.split()[4])<100000:\n",
      "                            price = \"95000-10000\"\n",
      "                        if float(line.split()[4]) >= 100000:\n",
      "                            price = \">100000\"\n",
      "#                         num = int(float(line.split()[4]))\n",
      "#                         price = 5500*(num/5500)\n",
      "                        reviews = file1.read().split('\\n------------------------------------------------------------------------------------------\\n')\n",
      "                        reviews = filter(None,reviews)\n",
      "                        for i in range(0,len(reviews)):\n",
      "                            review_data.append(reviews[i].replace(\"\\n\",\"\").decode('UTF-8'))\n",
      "                            price_data.append(price)\n",
      "                            \n",
      "print 'price labels:', Counter(price_data).items()\n",
      "\n",
      "def tokenize(reviews,vectorizer):\n",
      "    X = vectorizer.fit_transform(reviews)\n",
      "    print 'X dimensions=', X.shape\n",
      "    return X\n",
      "\n",
      "X = tokenize(review_data, TfidfVectorizer())\n",
      "print 'vector y dimensions:%d'%len(price_data)\n",
      "\n",
      "def do_cv(X, y, nfolds=10):\n",
      "    cv = KFold(len(y), nfolds)\n",
      "    return np.mean(cross_val_score(LogisticRegression(), X, y, cv=cv))\n",
      "\n",
      "print 'cross validation accuarcy:%.10f'%do_cv(X, price_data)\n",
      "print 'compare different preprocessing decisions(min_df):'\n",
      "# print do_cv(tokenize(review_data, TfidfVectorizer()), price_data)\n",
      "# print do_cv(tokenize(review_data, TfidfVectorizer(min_df=10)), price_data)\n",
      "\n",
      "#how filtering rare words affect accuracy\n",
      "def compare_mindf(reviews, y):\n",
      "    accuracies = []\n",
      "    for freq in range(20):\n",
      "        accuracies.append(do_cv(tokenize(reviews, TfidfVectorizer(min_df=freq)), y))\n",
      "    plt.figure()\n",
      "    plt.plot(accuracies, 'bo-')\n",
      "    plt.xlabel('mindf')\n",
      "    plt.ylabel('accuracy')\n",
      "    plt.show()\n",
      "    \n",
      "compare_mindf(review_data,price_data)\n",
      "\n",
      "print 'compare different preprocessing decisions(ngrams):'\n",
      "def compare_ngrams(reviews, y):\n",
      "    accuracies = []\n",
      "    ngrams = [(1,1), (1,2), (2,2), (1,3), (2,3), (3,3),(3,4),(4,4)]\n",
      "    for ngram in ngrams:\n",
      "        print ngram\n",
      "        accuracies.append(do_cv(tokenize(reviews, TfidfVectorizer(min_df=2, ngram_range=ngram)), y))\n",
      "    plt.figure()\n",
      "    plt.plot(accuracies, 'bo-')\n",
      "    plt.xticks(range(len(ngrams)), ngrams)\n",
      "    plt.xlabel('ngrams')\n",
      "    plt.ylabel('accuracy')\n",
      "    plt.show()\n",
      "   \n",
      "compare_ngrams(review_data, price_data)\n",
      "\n",
      "print 'compare different preprocessing decisions(binary/freq):'\n",
      "\n",
      "def compare_binary(reviews, y):\n",
      "    accuracies = []\n",
      "    choices = [True, False]\n",
      "    for choice in choices:\n",
      "        print choice\n",
      "        accuracies.append(do_cv(tokenize(reviews, TfidfVectorizer(binary=choice, min_df=2, ngram_range=(1,3))), y))\n",
      "    plt.figure()\n",
      "    plt.plot(accuracies, 'bo-')\n",
      "    plt.xticks([0,1], [str(c) for c in choices])\n",
      "    plt.xlabel('binary')\n",
      "    plt.ylabel('accuracy')\n",
      "    plt.show()\n",
      "        \n",
      "compare_binary(review_data, price_data)\n",
      "\n",
      "print 'compare different preprocessing decisions(idf):'\n",
      "def compare_idf(reviews, y):\n",
      "    accuracies = []\n",
      "    choices = [True, False]\n",
      "    for choice in choices:\n",
      "        print choice\n",
      "        accuracies.append(do_cv(tokenize(reviews, TfidfVectorizer(use_idf=choice, binary=True, min_df=2, ngram_range=(1,3))), y))\n",
      "    plt.figure()\n",
      "    plt.plot(accuracies, 'bo-')\n",
      "    plt.xticks([0,1], [str(c) for c in choices])\n",
      "    plt.xlabel('binary')\n",
      "    plt.ylabel('use idf?')\n",
      "    plt.show()\n",
      "        \n",
      "compare_idf(review_data, price_data)\n",
      "\n",
      "print 'compare different preprocessing decisions(filtering common words affect):'\n",
      "def compare_maxdf(reviews, y):\n",
      "    accuracies = []\n",
      "    maxdfs = [1., .1, .05, .04, .03, .02, .01,.005,.001]\n",
      "    for freq in maxdfs:\n",
      "        print freq\n",
      "        accuracies.append(do_cv(tokenize(reviews, TfidfVectorizer(max_df=freq)), y))\n",
      "    plt.figure()\n",
      "    plt.plot(maxdfs, accuracies, 'bo-')\n",
      "    plt.xlabel('maxdf (fraction)')\n",
      "    plt.ylabel('accuracy')\n",
      "    plt.show()\n",
      "        \n",
      "compare_maxdf(review_data, price_data)\n",
      "\n",
      "print 'GridSearch on all parameters:'\n",
      "pipeline = Pipeline([\n",
      "    ('vect', TfidfVectorizer()),\n",
      "    ('clf', LogisticRegression()),\n",
      "])\n",
      "\n",
      "parameters = {\n",
      "    'vect__min_df': (1, 2, 3, 4, 5),\n",
      "    'vect__ngram_range': ((1, 1), (1, 2), (1, 3),(3, 4),(4, 4)),  # unigrams or bigrams or trigrams\n",
      "    'vect__use_idf': (True, False),\n",
      "}\n",
      "grid_search = GridSearchCV(pipeline, parameters, verbose=1, cv=KFold(len(price_data), 10))\n",
      "print \"Performing grid search...\"\n",
      "print \"pipeline:\", [name for name, _ in pipeline.steps]\n",
      "print \"parameters:\"\n",
      "pprint(parameters)\n",
      "grid_search.fit(review_data, price_data)\n",
      "print \"done.\"\n",
      "\n",
      "print(\"Best accuarcy: %0.3f\" % grid_search.best_score_)\n",
      "print(\"Best parameters set:\")\n",
      "best_parameters = grid_search.best_estimator_.get_params()\n",
      "for param_name in sorted(parameters.keys()):\n",
      "    print(\"\\t%s: %r\" % (param_name, best_parameters[param_name]))\n",
      "    \n",
      "print \"\\nRunning time is %s seconds\"%(time.time()-start_time)"
     ],
     "language": "python",
     "metadata": {},
     "outputs": [
      {
       "output_type": "stream",
       "stream": "stdout",
       "text": [
        "price labels: [('25000-30000', 8), (0, 1), ('45000-50000', 699), ('70000-75000', 8), ('75000-80000', 2), ('80000-85000', 6), ('>100000', 16), ('55000-60000', 298), ('10000-15000', 44), ('65000-70000', 76), ('5000-10000', 4), ('20000-25000', 12), ('85000-90000', 3), ('30000-35000', 76), ('60000-65000', 180), ('15000-20000', 9), ('40000-45000', 888), ('35000-40000', 632), ('50000-55000', 550)]\n",
        "X dimensions="
       ]
      },
      {
       "output_type": "stream",
       "stream": "stdout",
       "text": [
        " (3512, 11845)\n",
        "vector y dimensions:3512\n",
        "cross validation accuarcy:0.3251578283"
       ]
      },
      {
       "output_type": "stream",
       "stream": "stdout",
       "text": [
        "\n",
        "compare different preprocessing decisions(min_df):\n",
        "X dimensions="
       ]
      },
      {
       "output_type": "stream",
       "stream": "stdout",
       "text": [
        " (3512, 11845)\n",
        "X dimensions="
       ]
      },
      {
       "output_type": "stream",
       "stream": "stdout",
       "text": [
        " (3512, 11845)\n",
        "X dimensions="
       ]
      },
      {
       "output_type": "stream",
       "stream": "stdout",
       "text": [
        " (3512, 7479)\n",
        "X dimensions="
       ]
      },
      {
       "output_type": "stream",
       "stream": "stdout",
       "text": [
        " (3512, 5579)\n",
        "X dimensions="
       ]
      },
      {
       "output_type": "stream",
       "stream": "stdout",
       "text": [
        " (3512, 4586)\n",
        "X dimensions="
       ]
      },
      {
       "output_type": "stream",
       "stream": "stdout",
       "text": [
        " (3512, 4018)\n",
        "X dimensions="
       ]
      },
      {
       "output_type": "stream",
       "stream": "stdout",
       "text": [
        " (3512, 3583)\n",
        "X dimensions="
       ]
      },
      {
       "output_type": "stream",
       "stream": "stdout",
       "text": [
        " (3512, 3218)\n",
        "X dimensions="
       ]
      },
      {
       "output_type": "stream",
       "stream": "stdout",
       "text": [
        " (3512, 2953)\n",
        "X dimensions="
       ]
      },
      {
       "output_type": "stream",
       "stream": "stdout",
       "text": [
        " (3512, 2750)\n",
        "X dimensions="
       ]
      },
      {
       "output_type": "stream",
       "stream": "stdout",
       "text": [
        " (3512, 2567)\n",
        "X dimensions="
       ]
      },
      {
       "output_type": "stream",
       "stream": "stdout",
       "text": [
        " (3512, 2435)\n",
        "X dimensions="
       ]
      },
      {
       "output_type": "stream",
       "stream": "stdout",
       "text": [
        " (3512, 2305)\n",
        "X dimensions="
       ]
      },
      {
       "output_type": "stream",
       "stream": "stdout",
       "text": [
        " (3512, 2189)\n",
        "X dimensions="
       ]
      },
      {
       "output_type": "stream",
       "stream": "stdout",
       "text": [
        " (3512, 2101)\n",
        "X dimensions="
       ]
      },
      {
       "output_type": "stream",
       "stream": "stdout",
       "text": [
        " (3512, 2001)\n",
        "X dimensions="
       ]
      },
      {
       "output_type": "stream",
       "stream": "stdout",
       "text": [
        " (3512, 1913)\n",
        "X dimensions="
       ]
      },
      {
       "output_type": "stream",
       "stream": "stdout",
       "text": [
        " (3512, 1840)\n",
        "X dimensions="
       ]
      },
      {
       "output_type": "stream",
       "stream": "stdout",
       "text": [
        " (3512, 1759)\n",
        "X dimensions="
       ]
      },
      {
       "output_type": "stream",
       "stream": "stdout",
       "text": [
        " (3512, 1697)\n"
       ]
      },
      {
       "metadata": {},
       "output_type": "display_data",
       "png": "[encoded data removed]",
       "text": [
        "<matplotlib.figure.Figure at 0x104112d90>"
       ]
      },
      {
       "output_type": "stream",
       "stream": "stdout",
       "text": [
        "compare different preprocessing decisions(ngrams):\n",
        "(1, 1)\n",
        "X dimensions="
       ]
      },
      {
       "output_type": "stream",
       "stream": "stdout",
       "text": [
        " (3512, 7479)\n",
        "(1, 2)"
       ]
      },
      {
       "output_type": "stream",
       "stream": "stdout",
       "text": [
        "\n",
        "X dimensions="
       ]
      },
      {
       "output_type": "stream",
       "stream": "stdout",
       "text": [
        " (3512, 54618)\n",
        "(2, 2)"
       ]
      },
      {
       "output_type": "stream",
       "stream": "stdout",
       "text": [
        "\n",
        "X dimensions="
       ]
      },
      {
       "output_type": "stream",
       "stream": "stdout",
       "text": [
        " (3512, 47139)\n",
        "(1, 3)"
       ]
      },
      {
       "output_type": "stream",
       "stream": "stdout",
       "text": [
        "\n",
        "X dimensions="
       ]
      },
      {
       "output_type": "stream",
       "stream": "stdout",
       "text": [
        " (3512, 115747)\n",
        "(2, 3)"
       ]
      },
      {
       "output_type": "stream",
       "stream": "stdout",
       "text": [
        "\n",
        "X dimensions="
       ]
      },
      {
       "output_type": "stream",
       "stream": "stdout",
       "text": [
        " (3512, 108268)\n",
        "(3, 3)"
       ]
      },
      {
       "output_type": "stream",
       "stream": "stdout",
       "text": [
        "\n",
        "X dimensions="
       ]
      },
      {
       "output_type": "stream",
       "stream": "stdout",
       "text": [
        " (3512, 61129)\n",
        "(3, 4)"
       ]
      },
      {
       "output_type": "stream",
       "stream": "stdout",
       "text": [
        "\n",
        "X dimensions="
       ]
      },
      {
       "output_type": "stream",
       "stream": "stdout",
       "text": [
        " (3512, 118656)\n",
        "(4, 4)"
       ]
      },
      {
       "output_type": "stream",
       "stream": "stdout",
       "text": [
        "\n",
        "X dimensions="
       ]
      },
      {
       "output_type": "stream",
       "stream": "stdout",
       "text": [
        " (3512, 57527)\n"
       ]
      },
      {
       "metadata": {},
       "output_type": "display_data",
       "png": "[encoded data removed]",
       "text": [
        "<matplotlib.figure.Figure at 0x10841a390>"
       ]
      },
      {
       "output_type": "stream",
       "stream": "stdout",
       "text": [
        "compare different preprocessing decisions(binary/freq):\n",
        "True\n",
        "X dimensions="
       ]
      },
      {
       "output_type": "stream",
       "stream": "stdout",
       "text": [
        " (3512, 115747)\n",
        "False"
       ]
      },
      {
       "output_type": "stream",
       "stream": "stdout",
       "text": [
        "\n",
        "X dimensions="
       ]
      },
      {
       "output_type": "stream",
       "stream": "stdout",
       "text": [
        " (3512, 115747)\n"
       ]
      },
      {
       "metadata": {},
       "output_type": "display_data",
       "png": "[encoded data removed]",
       "text": [
        "<matplotlib.figure.Figure at 0x10983fd50>"
       ]
      },
      {
       "output_type": "stream",
       "stream": "stdout",
       "text": [
        "compare different preprocessing decisions(idf):\n",
        "True\n",
        "X dimensions="
       ]
      },
      {
       "output_type": "stream",
       "stream": "stdout",
       "text": [
        " (3512, 115747)\n",
        "False"
       ]
      },
      {
       "output_type": "stream",
       "stream": "stdout",
       "text": [
        "\n",
        "X dimensions="
       ]
      },
      {
       "output_type": "stream",
       "stream": "stdout",
       "text": [
        " (3512, 115747)\n"
       ]
      },
      {
       "metadata": {},
       "output_type": "display_data",
       "png": "[encoded data removed]",
       "text": [
        "<matplotlib.figure.Figure at 0x10412cd10>"
       ]
      },
      {
       "output_type": "stream",
       "stream": "stdout",
       "text": [
        "compare different preprocessing decisions(filtering common words affect):\n",
        "1.0\n",
        "X dimensions="
       ]
      },
      {
       "output_type": "stream",
       "stream": "stdout",
       "text": [
        " (3512, 11845)\n",
        "0.1"
       ]
      },
      {
       "output_type": "stream",
       "stream": "stdout",
       "text": [
        "\n",
        "X dimensions="
       ]
      },
      {
       "output_type": "stream",
       "stream": "stdout",
       "text": [
        " (3512, 11723)\n",
        "0.05"
       ]
      },
      {
       "output_type": "stream",
       "stream": "stdout",
       "text": [
        "\n",
        "X dimensions="
       ]
      },
      {
       "output_type": "stream",
       "stream": "stdout",
       "text": [
        " (3512, 11573)\n",
        "0.04"
       ]
      },
      {
       "output_type": "stream",
       "stream": "stdout",
       "text": [
        "\n",
        "X dimensions="
       ]
      },
      {
       "output_type": "stream",
       "stream": "stdout",
       "text": [
        " (3512, 11518)\n",
        "0.03"
       ]
      },
      {
       "output_type": "stream",
       "stream": "stdout",
       "text": [
        "\n",
        "X dimensions="
       ]
      },
      {
       "output_type": "stream",
       "stream": "stdout",
       "text": [
        " (3512, 11407)\n",
        "0.02"
       ]
      },
      {
       "output_type": "stream",
       "stream": "stdout",
       "text": [
        "\n",
        "X dimensions="
       ]
      },
      {
       "output_type": "stream",
       "stream": "stdout",
       "text": [
        " (3512, 11218)\n",
        "0.01"
       ]
      },
      {
       "output_type": "stream",
       "stream": "stdout",
       "text": [
        "\n",
        "X dimensions="
       ]
      },
      {
       "output_type": "stream",
       "stream": "stdout",
       "text": [
        " (3512, 10787)\n",
        "0.005"
       ]
      },
      {
       "output_type": "stream",
       "stream": "stdout",
       "text": [
        "\n",
        "X dimensions="
       ]
      },
      {
       "output_type": "stream",
       "stream": "stdout",
       "text": [
        " (3512, 10086)\n",
        "0.001"
       ]
      },
      {
       "output_type": "stream",
       "stream": "stdout",
       "text": [
        "\n",
        "X dimensions="
       ]
      },
      {
       "output_type": "stream",
       "stream": "stdout",
       "text": [
        " (3512, 7259)\n"
       ]
      },
      {
       "metadata": {},
       "output_type": "display_data",
       "png": "[encoded data removed]",
       "text": [
        "<matplotlib.figure.Figure at 0x10ce1e890>"
       ]
      },
      {
       "output_type": "stream",
       "stream": "stderr",
       "text": [
        "[Parallel(n_jobs=1)]: Done   1 jobs       | elapsed:    0.8s\n",
        "[Parallel(n_jobs=1)]: Done  50 jobs       | elapsed:  2.9min\n"
       ]
      },
      {
       "output_type": "stream",
       "stream": "stderr",
       "text": [
        "[Parallel(n_jobs=1)]: Done 200 jobs       | elapsed: 14.1min\n",
        "[Parallel(n_jobs=1)]: Done 400 out of 400 | elapsed: 23.6min finished\n"
       ]
      },
      {
       "output_type": "stream",
       "stream": "stdout",
       "text": [
        "GridSearch on all parameters:\n",
        "Performing grid search...\n",
        "pipeline: ['vect', 'clf']\n",
        "parameters:\n",
        "{'vect__min_df': (1, 2, 3, 4),\n",
        " 'vect__ngram_range': ((1, 1), (1, 2), (1, 3), (3, 4), (4, 4)),\n",
        " 'vect__use_idf': (True, False)}\n",
        "Fitting 10 folds for each of 40 candidates, totalling 400 fits\n",
        "done."
       ]
      },
      {
       "output_type": "stream",
       "stream": "stdout",
       "text": [
        "\n",
        "Best accuarcy: 0.349\n",
        "Best parameters set:\n",
        "\tvect__min_df: 1\n",
        "\tvect__ngram_range: (3, 4)\n",
        "\tvect__use_idf: True\n",
        "\n",
        "Running time is 1738.76781702 seconds\n"
       ]
      }
     ],
     "prompt_number": 1
    },
    {
     "cell_type": "code",
     "collapsed": false,
     "input": [],
     "language": "python",
     "metadata": {},
     "outputs": [],
     "prompt_number": 3
    },
    {
     "cell_type": "code",
     "collapsed": false,
     "input": [],
     "language": "python",
     "metadata": {},
     "outputs": []
    }
   ],
   "metadata": {}
  }
 ]
}