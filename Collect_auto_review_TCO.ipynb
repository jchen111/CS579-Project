{
 "metadata": {
  "name": "",
  "signature": "sha256:04681303070f80cbdc9ba145e1807da4e335dd689e5d294ff1b3c9f51b184169"
 },
 "nbformat": 3,
 "nbformat_minor": 0,
 "worksheets": [
  {
   "cells": [
    {
     "cell_type": "code",
     "collapsed": false,
     "input": [
      "from edmunds.edmunds import Edmunds\n",
      "import os\n",
      "import time\n",
      "api = Edmunds('j4kwzr7556hma2un4vucq3pm')\n",
      "filename = 'hybrid_suv13'\n",
      "\n",
      "def read_automobiles(filename):\n",
      "    \"\"\" Read a list of automobiles.\n",
      "    Args:\n",
      "      filename: The name of the text file containing automobiles make model year.\n",
      "    Returns:\n",
      "      A list of automobile make model year\n",
      "    \"\"\"\n",
      "    automobiles = []\n",
      "    with open(filename) as f:\n",
      "        lines = f.read().splitlines()\n",
      "        for item in lines:\n",
      "            automobiles.append(item)  \n",
      "    return automobiles\n",
      "\n",
      "def get_styleId(automobiles):\n",
      "    stylesId = []\n",
      "    response_styleid = api.make_call('/api/vehicle/v2/'+automobiles.split()[0]+'/'+automobiles.split()[1]+'/'+automobiles.split()[2]+'/styles')\n",
      "    print 'There are %d styles for %s'%(len(response_styleid['styles']),automobiles)\n",
      "    print '--------------------------------------------------------------------------------------------'\n",
      "    for i in range(0,len(response_styleid['styles'])):\n",
      "        if response_styleid['styles'][i]['submodel']['niceName'].encode('UTF-8') == 'hybrid':#just for hybrid identification\n",
      "            stylesId.append(response_styleid['styles'][i]['id'])#just for hybrid identification\n",
      "    \n",
      "    return stylesId\n",
      "\n",
      "def get_textreview(stylesId,auto):\n",
      "    for item in stylesId:\n",
      "        response_review = api.make_call('/api/vehiclereviews/v2/styles/'+str(item))\n",
      "        time.sleep(1)\n",
      "        response_TCO = api.make_call('/v1/api/tco/newtruecosttoownbystyleidandzip/'+str(item)+'/60616')\n",
      "        time.sleep(2)\n",
      "        if response_review.keys()[2].encode('UTF-8') != 'errorType':\n",
      "            print 'There are %d reviews for styleid %s'%(len(response_review['reviews']),str(item))\n",
      "            print '--------------------------------------------------------------------------------------------'\n",
      "            textreview = []\n",
      "            for i in range(0,len(response_review['reviews'])):\n",
      "                print response_review['reviews'][i]['text']\n",
      "                print '--------------------------------------------------------------------------------------------'\n",
      "                textreview.append(response_review['reviews'][i]['text'].encode('UTF-8'))\n",
      "                textreview.append('\\n------------------------------------------------------------------------------------------\\n')\n",
      "            with open('/Users/xiaoyanglv/Project/'+filename+'_review/'+auto+'/'+str(item)+'_'+auto+'.txt','a') as f1:\n",
      "                line = f1.writelines(textreview)\n",
      "            if response_TCO.keys()[0].encode('UTF-8') != 'error':\n",
      "                time.sleep(2)\n",
      "                with open('/Users/xiaoyanglv/Project/'+filename+'_TCO/'+filename+'_TCO'+'.txt','a') as f2:\n",
      "                    line = f2.writelines(auto+' '+str(item)+' '+str(response_TCO['value'])+'\\n')\n",
      "            else:\n",
      "                print 'There is no TCO available for %s\\n'%str(item)\n",
      "        else:\n",
      "            print 'There are no reviews for styleid %s'%(str(item))\n",
      "\n",
      "autos = read_automobiles(filename+'.txt')\n",
      "for auto in autos:\n",
      "    if not os.path.exists('/Users/xiaoyanglv/Project/'+filename+'_review/'+auto):\n",
      "        os.makedirs('/Users/xiaoyanglv/Project/'+filename+'_review/'+auto)\n",
      "    if not os.path.exists('/Users/xiaoyanglv/Project/'+filename+'_TCO/'):\n",
      "        os.makedirs('/Users/xiaoyanglv/Project/'+filename+'_TCO/')\n",
      "    print '------------------------------------------'+auto+'--------------------------------------------------\\n'\n",
      "    stylesId = get_styleId(auto)\n",
      "    get_textreview(stylesId,auto)"
     ],
     "language": "python",
     "metadata": {},
     "outputs": [
      {
       "output_type": "stream",
       "stream": "stdout",
       "text": [
        "------------------------------------------lexus rx-450h 2013--------------------------------------------------\n",
        "\n",
        "There are 2 styles for lexus rx-450h 2013"
       ]
      },
      {
       "output_type": "stream",
       "stream": "stdout",
       "text": [
        "\n",
        "--------------------------------------------------------------------------------------------\n",
        "------------------------------------------porsche cayenne 2013--------------------------------------------------\n",
        "\n",
        "There are 7 styles for porsche cayenne 2013"
       ]
      },
      {
       "output_type": "stream",
       "stream": "stdout",
       "text": [
        "\n",
        "--------------------------------------------------------------------------------------------\n",
        "There are no reviews for styleid 200427036"
       ]
      },
      {
       "output_type": "stream",
       "stream": "stdout",
       "text": [
        "\n",
        "------------------------------------------volkswagen touareg 2013--------------------------------------------------\n",
        "\n",
        "There are 9 styles for volkswagen touareg 2013"
       ]
      },
      {
       "output_type": "stream",
       "stream": "stdout",
       "text": [
        "\n",
        "--------------------------------------------------------------------------------------------\n",
        "There are no reviews for styleid 200436467"
       ]
      },
      {
       "output_type": "stream",
       "stream": "stdout",
       "text": [
        "\n",
        "------------------------------------------subaru xv-crosstrek 2013--------------------------------------------------\n",
        "\n",
        "There are 3 styles for subaru xv-crosstrek 2013"
       ]
      },
      {
       "output_type": "stream",
       "stream": "stdout",
       "text": [
        "\n",
        "--------------------------------------------------------------------------------------------\n",
        "------------------------------------------toyota highlander 2013--------------------------------------------------\n",
        "\n",
        "There are 10 styles for toyota highlander 2013"
       ]
      },
      {
       "output_type": "stream",
       "stream": "stdout",
       "text": [
        "\n",
        "--------------------------------------------------------------------------------------------\n",
        "------------------------------------------nissan pathfinder 2013--------------------------------------------------\n",
        "\n",
        "There are 8 styles for nissan pathfinder 2013"
       ]
      },
      {
       "output_type": "stream",
       "stream": "stdout",
       "text": [
        "\n",
        "--------------------------------------------------------------------------------------------\n"
       ]
      }
     ],
     "prompt_number": 9
    },
    {
     "cell_type": "code",
     "collapsed": false,
     "input": [],
     "language": "python",
     "metadata": {},
     "outputs": []
    }
   ],
   "metadata": {}
  }
 ]
}