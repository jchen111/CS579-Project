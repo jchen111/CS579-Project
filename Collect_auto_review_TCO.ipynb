{
 "metadata": {
  "name": "",
  "signature": "sha256:1543917dc537a5c30e5a08efd4e262bb22235a931138d9902e8ab068999f3210"
 },
 "nbformat": 3,
 "nbformat_minor": 0,
 "worksheets": [
  {
   "cells": [
    {
     "cell_type": "code",
     "collapsed": false,
     "input": [
      "from edmunds.edmunds import Edmunds\n",
      "import os\n",
      "import time\n",
      "api = Edmunds('k7nhme5yf7xem53u43wrcuhp')\n",
      "filename = 'wagons'\n",
      "\n",
      "def read_automobiles(filename):\n",
      "    \"\"\" Read a list of automobiles.\n",
      "    Args:\n",
      "      filename: The name of the text file containing automobiles make model year.\n",
      "    Returns:\n",
      "      A list of automobile make model year\n",
      "    \"\"\"\n",
      "    automobiles = []\n",
      "    with open(filename) as f:\n",
      "        lines = f.read().splitlines()\n",
      "        for item in lines:\n",
      "            automobiles.append(item)  \n",
      "    return automobiles\n",
      "\n",
      "def get_styleId(automobiles):\n",
      "    stylesId = []\n",
      "    response_styleid = api.make_call('/api/vehicle/v2/'+automobiles.split()[0]+'/'+automobiles.split()[1]+'/'+automobiles.split()[2]+'/styles')\n",
      "    print 'There are %d styles for %s'%(len(response_styleid['styles']),automobiles)\n",
      "    print '--------------------------------------------------------------------------------------------'\n",
      "    for i in range(0,len(response_styleid['styles'])):\n",
      "        stylesId.append(response_styleid['styles'][i]['id'])\n",
      "    \n",
      "    return stylesId\n",
      "\n",
      "def get_textreview(stylesId,auto):\n",
      "    for item in stylesId:\n",
      "        response_review = api.make_call('/api/vehiclereviews/v2/styles/'+str(item))\n",
      "        time.sleep(1)\n",
      "        response_TCO = api.make_call('/v1/api/tco/newtruecosttoownbystyleidandzip/'+str(item)+'/60616')\n",
      "        time.sleep(2)\n",
      "        if response_review.keys()[2].encode('UTF-8') != 'errorType':\n",
      "            print 'There are %d reviews for styleid %s'%(len(response_review['reviews']),str(item))\n",
      "            print '--------------------------------------------------------------------------------------------'\n",
      "            textreview = []\n",
      "            for i in range(0,len(response_review['reviews'])):\n",
      "                print response_review['reviews'][i]['text']\n",
      "                print '--------------------------------------------------------------------------------------------'\n",
      "                textreview.append(response_review['reviews'][i]['text'].encode('UTF-8'))\n",
      "                textreview.append('\\n------------------------------------------------------------------------------------------\\n')\n",
      "            with open('/Users/jiaqichen/Project/'+filename+'_review/'+auto+'/'+str(item)+'_'+auto+'.txt','a') as f1:\n",
      "                line = f1.writelines(textreview)\n",
      "            if response_TCO.keys()[0].encode('UTF-8') != 'error':\n",
      "                time.sleep(2)\n",
      "                with open('/Users/jiaqichen/Project/'+filename+'_TCO/'+filename+'_TCO'+'.txt','a') as f2:\n",
      "                    line = f2.writelines(auto+' '+str(item)+' '+str(response_TCO['value'])+'\\n')\n",
      "            else:\n",
      "                print 'There is no TCO available for %s\\n'%str(item)\n",
      "        else:\n",
      "            print 'There are no reviews for styleid %s'%(str(item))\n",
      "\n",
      "autos = read_automobiles(filename+'.txt')\n",
      "for auto in autos:\n",
      "    if not os.path.exists('/Users/jiaqichen/Project/'+filename+'_review/'+auto):\n",
      "        os.makedirs('/Users/jiaqichen/Project/'+filename+'_review/'+auto)\n",
      "    if not os.path.exists('/Users/jiaqichen/Project/'+filename+'_TCO/'):\n",
      "        os.makedirs('/Users/jiaqichen/Project/'+filename+'_TCO/')\n",
      "    print '------------------------------------------'+auto+'--------------------------------------------------\\n'\n",
      "    stylesId = get_styleId(auto)\n",
      "    get_textreview(stylesId,auto)"
     ],
     "language": "python",
     "metadata": {},
     "outputs": [
      {
       "output_type": "stream",
       "stream": "stdout",
       "text": [
        "------------------------------------------subaru outback 2014--------------------------------------------------\n",
        "\n",
        "There are 11 styles for subaru outback 2014"
       ]
      },
      {
       "output_type": "stream",
       "stream": "stdout",
       "text": [
        "\n",
        "--------------------------------------------------------------------------------------------\n",
        "There are 1 reviews for styleid 200471871"
       ]
      },
      {
       "output_type": "stream",
       "stream": "stdout",
       "text": [
        "\n",
        "--------------------------------------------------------------------------------------------\n",
        "I bought a 2014 Outback 2.5i Premium 6 speed a year ago, now I have little over 13000 miles on it. I can say this is the best car I have owned and for the money we paid, you cannot get anything with all the equipment it has for such a price. Subaru\u00c2\u0092s AWD system was a sell point, since I do not want any FWD cars anymore: I am sick of replacing boots and front axles. This Outback is extremely spacious, comfortable, and reliable. It handles very well on any terrain, snow or rain, sand or pavement. The finish and quality of the car is very good, I may not have ash wood like a luxury car, nor do I have Napa leather, but I did not pay three times what I paid to get them. \n",
        "--------------------------------------------------------------------------------------------\n",
        "There are no reviews for styleid 200471876"
       ]
      },
      {
       "output_type": "stream",
       "stream": "stdout",
       "text": [
        "\n",
        "There are 2 reviews for styleid 200471872"
       ]
      },
      {
       "output_type": "stream",
       "stream": "stdout",
       "text": [
        "\n",
        "--------------------------------------------------------------------------------------------\n",
        "i did lots of research looking for a car that combined practical space, versatile in all weather conditions, cross-over aspects, a sense of adventure but confidence....something different from the hundreds of dreary over-sized SUV's out there. always knew Subaru were renowned in the AWD adventure/sport category but was surprised by how versatile the Outback is. \n",
        "--------------------------------------------------------------------------------------------\n",
        "always liked the idea of an adventure vehicle like the Outback something fun and versatile. i had no idea how captivating it would be. perfect ride height, super-stable all wheel drive (almost invincible in the snow), adequate power, great space and rugged looks. my wife and i fight to drive it and may have to get another as second family car. we are outdoor fans and love the rook rails and easy level load bay and space.\n",
        "--------------------------------------------------------------------------------------------\n",
        "There are 2 reviews for styleid 200471870"
       ]
      },
      {
       "output_type": "stream",
       "stream": "stdout",
       "text": [
        "\n",
        "--------------------------------------------------------------------------------------------\n",
        "I have been shopping the compact midsize crossover segment forever and have driven a fair number of the contenders in test drives or rentals. I finally pulled the trigger on an Outback 2.5i Limited.\n",
        "The Outback may seem big, but it's very close to CR-V and RAV4 in size. It's an inch or two less tall and about 8 inches longer than cute-ute crossovers, with about 2 inches more in wheelbase. I think this gives the car a much more composed ride. Maneuverability is awesome.\n",
        "Subarus have character that many cars lack. The 2.5i 4-cyl boxer is very reasonable in terms of power delivery, but it isn't your garden-variety 4 cylinder...it's quite smooth in operation though, especially w/CVT.\n",
        "--------------------------------------------------------------------------------------------\n",
        "On December 30, 2013, I purchased a new Subaru from Ciocca Subaru in Wescosville.\n",
        "In that short period of time, I have accumulated 2100 miles and have found the vehicle to be responsive and well-mannered in city and highway driving. The ride and handling for a vehicle of this size is excellent. Seats are firm and the cabin is relatively quiet. Interior materials seem to be of good quality. I appreciate the convenience of the winter package which incudes all-weather winter mats and a large rubber cargo mat w/ cargo net. As recommended, I check the oil every 400 miles and have no noticable consumption as the dipstick indicator still shows as full. Decent fuel mileage 23 city/30+ highway. \n",
        "--------------------------------------------------------------------------------------------\n",
        "There are no reviews for styleid 200471866"
       ]
      },
      {
       "output_type": "stream",
       "stream": "stdout",
       "text": [
        "\n",
        "There are no reviews for styleid 200471874"
       ]
      },
      {
       "output_type": "stream",
       "stream": "stdout",
       "text": [
        "\n",
        "There are 2 reviews for styleid 200471875"
       ]
      },
      {
       "output_type": "stream",
       "stream": "stdout",
       "text": [
        "\n",
        "--------------------------------------------------------------------------------------------\n",
        "I have had my subaru Outback fro two months and I honestly never thought I would like it so much.\n",
        "I went for it mainly for the value and comfort.\n",
        "it really is a fun car to drive and has great gas mileage.\n",
        "I never even concidered a Subaru, my wife talked me into looking at them.\n",
        "the only issue i have found is that the control for the radio are a bit hard to reach while your driving and the sound system is just OK.\n",
        "\n",
        "--------------------------------------------------------------------------------------------\n",
        "Our 1998 Outback served us well so we went for the 2014.\n",
        "The test drive was a 3700 mi trip to southern Baja & back.\n",
        "It performed well, including on some pretty rough\n",
        "desert roads. It's not a luxury car, not a sports car, but so far it seems to\n",
        "be a solid mid-range car suited to a wide range of uses and conditions.\n",
        "\n",
        "--------------------------------------------------------------------------------------------\n",
        "There are 4 reviews for styleid 200471869"
       ]
      },
      {
       "output_type": "stream",
       "stream": "stdout",
       "text": [
        "\n",
        "--------------------------------------------------------------------------------------------\n",
        "Sold my BMW 330xi and got my new Outback 3.6R Limited.\n",
        "I've gone from the \"ultimate driving machine\" (which drove great, but didn't have a lot of room for people and stuff, didn't have a lot of ground clearance, and was getting very expensive to maintain) to the \"ultimate do absolutely everything pretty well\" machine.\n",
        "Tons of room for its exterior size.\n",
        "Plenty of power.\n",
        "Nice ride.\n",
        "Great value. Well built.\n",
        "Amenities are pretty good for this price point.\n",
        "While I miss a bit of how the old car drives when pushed hard on a curvy road, on all other points, I prefer the Subaru.\n",
        "--------------------------------------------------------------------------------------------\n",
        "Waited until I had my car a couple of months to post a review. Looked around at every midsize crossover, from BMW X1, X3, Infiniti, Acura, Honda, Toyota and Volvo for months to find something that met the needs of city driving and parking while also comfortable enough for a road trip. After 4 BMW's this was quite a change, I've been so impressed with my Outback!\n",
        "It does everything well, and the 3.6R has plenty of get up and go when needed.\n",
        "The Limited has all the creature comforts, excellent visibility and the car has that safe, solid feel to it in all kinds of driving conditions, including the rare snowstorm in Atlanta! \n",
        "--------------------------------------------------------------------------------------------\n",
        "I have my 3.6R 6 weeks now, and love it. I sold my Sporty coup AUDI TT and Safari van when bought this one. so far I'm loving it! the combination of having sporty car like and be able to have so much room for passengers and cargo, make it my favorite car. I test drove so many other SUVs and crossovers when I came to the point that outback is the best choice for me. AUDI Q5 was closest option for performance and handling, but it had less cargo and passenger space and $18000 more money.\n",
        "--------------------------------------------------------------------------------------------\n",
        "Have been driving my 2014 6 cyl. Outback for 5 weeks now and have put almost 3000 miles on it. I cannot praise this little car enough. Glad my husband talked me into the 6 cylinder, It's getting 22 mpg around town ( suburban metro Washington DC ) and on our trip to South Carolina\n",
        "a whopping 31 mpg. It's so much more fun to drive than my 1999 Yukon, and almost as comfortable on a long trip. Love it! My 6'4\" husband even has plenty of head and leg room!\n",
        "--------------------------------------------------------------------------------------------\n",
        "There are 5 reviews for styleid 200471868"
       ]
      },
      {
       "output_type": "stream",
       "stream": "stdout",
       "text": [
        "\n",
        "--------------------------------------------------------------------------------------------\n",
        "After shifting into drive, the transmission waits a beat (about 1 long second) and then shifts.\n",
        "When the car is in drive, the fuel delivery and/or timing surges periodically.\n",
        "Both make for a jerky drive.\n",
        "\n",
        "The gas pedal is VERY touchy.\n",
        "The gas pedal must be pressed very lightly at first, so as not to give passengers whiplash on start-up from a stop.\n",
        "\n",
        "For short drivers (5'-5'4\")\n",
        "the headrest can be uncomfortable.\n",
        "Instead of a flat surface, it bulges out and tips forward, pushing the driver's head into a chin downward position.\n",
        "It is not tilt adjustable.\n",
        "\n",
        "Eyesight is helpful,\n",
        "however, it once stopped the car on a highway when the car in front moved left to make a left turn.\n",
        "\n",
        "--------------------------------------------------------------------------------------------\n",
        "I know that this model will be replaced this summer with a newer version, but I love it and needed a replacement for my previous Outback. The car has plenty of room, comfortable seats, and handles snow and other bad weather with ease. \n",
        "I chose the Eyesight feature and found it excellent. The newer version should be even better. It has the capability of stopping accidents, and controls your cruise control to ensure that you are following the vehicle ahead of you at a safe distance even when they slow down.\n",
        "The car can carry most things a homeowner would want either on the roof rack, or in the back with the rear seats folding flat.\n",
        "\n",
        "--------------------------------------------------------------------------------------------\n",
        "My first Subaru was a 2006 Outback 3.0R LL Bean model, and my second is the 2014 Outback Limited 2.5 with the CVT.\n",
        "They are nothing alike, and and I like each of them for different reasons, but they do have one thing in common.\n",
        "Both came out on top of after an exhaustive comparison of other brands.\n",
        "Frankly, I prefer the 06 because it was a much more engaging car to drive.\n",
        "However, the new model was more of a sensible purchase.\n",
        "It's significantly larger and more flexible, gets much better mileage, and has more bells and whistles.\n",
        "I heavily considered a Mazda CX-5, Subaru Forester, and also an Audi Q5 and Volvo XC70. I can afford the last two but it was hard to justify their prices. \n",
        "--------------------------------------------------------------------------------------------\n",
        "Shopped around a lot, but was won over by the Outback's push-button park brake (wife has physical issues with pull-ups), its interior refinement, its reputation for reliability, its snow-handling prowess (BIG plus). Dealer couldn't have been happier to give a great trade in value and shave 2,500 off MSRP. It has SUV abilities, but drives like a car, and does not jiggle like a tall SUV. We are an empty nest couple in our 60s, who live on a farm in PA, and we need the perfect blend of on-road manners with the guts to get up and down a challenging driveway. It is a relief to find such a vehicle after fighting the SUV wars for decades. Should've done this years ago.\n",
        "--------------------------------------------------------------------------------------------\n",
        "This vehicle fits my lifestyle right now.\n",
        "We sometimes take long trips, and the interior comfort of this vehicle is excellent.\n",
        "It is also handy for those occasional do-it-yourself projects that require a large hatch/trunk area.\n",
        "\n",
        "Mostly, though, the vehicle (car/wagon/baby SUV?) is fun to drive.\n",
        "I feel sorry when I have to turn the engine off.\n",
        "I especially enjoy the EyeSight features, including adaptive cruise control.\n",
        "\n",
        "This is my first Subaru and I hope to be able to gift the vehicle to my child at high school graduation in five years.\n",
        "--------------------------------------------------------------------------------------------\n",
        "There are 3 reviews for styleid 200471867"
       ]
      },
      {
       "output_type": "stream",
       "stream": "stdout",
       "text": [
        "\n",
        "--------------------------------------------------------------------------------------------\n",
        "I traded in my 04 Highlander for the Outback, primarily because I needed a small SUV type vehicle that would get better gas mileage, and be comfortable on trips etc.\n",
        "This Outback met all my expectations.\n",
        "The seats are very comfortable, gas mileage is better now that the engine is broken in and the Chicago weather is warming.\n",
        "I get about 27MPG in mixed suburban/highway driving with the 2.5 engine.\n",
        "I noticed that the mileage suffers when the engine is cold (runs richer) and can take some time to warm up on real cold days.\n",
        "Constant short trips will kill gas mileage, fyi.\n",
        "\n",
        "\n",
        "Engine has plenty of pep which was an initial concern and I was impressed on how quiet and refined it is.\n",
        "--------------------------------------------------------------------------------------------\n",
        "The winter has arrived along with half a foot of snow, ice, and -20 wind chills - a perfect time to see what my new (just a month old) Subaru is made of.\n",
        " \n",
        "\n",
        "Happy to report that it's more than up to the challenge. Drove it this AM through ice covered hills and it held its own nicely. Even at the intersections,\n",
        "where I used to sometimes slide around in my previous vehicle (Honda CRV), the Outback holds steady. And, it's fun to drive!\n",
        "--------------------------------------------------------------------------------------------\n",
        "I really like this car, I've been looking into it for the last couple of years. All of the merits fit what I've wanted it for. Lots of room, reasonable gas mileage, car-like handling, off-pavement ability...\n",
        "\n",
        "This car gets it done, after the first couple of weeks getting adjusted to sitting up higher than what i traded in, (2013 Buick Regal GS) I took it on a road trip 400 miles each direction and was very happy with it's comfort for the trip. The seats are great,supportive yet soft while not creating circulation hot spots over long periods, the driver lumbar support is actually very, very good as well.\n",
        "--------------------------------------------------------------------------------------------\n",
        "There are no reviews for styleid 200471873"
       ]
      },
      {
       "output_type": "stream",
       "stream": "stdout",
       "text": [
        "\n",
        "------------------------------------------volkswagen jetta-sportwagen 2014--------------------------------------------------\n",
        "\n",
        "There are 14 styles for volkswagen jetta-sportwagen 2014"
       ]
      },
      {
       "output_type": "stream",
       "stream": "stdout",
       "text": [
        "\n",
        "--------------------------------------------------------------------------------------------\n",
        "There are no reviews for styleid 200485019"
       ]
      },
      {
       "output_type": "stream",
       "stream": "stdout",
       "text": [
        "\n",
        "There are no reviews for styleid 200485011"
       ]
      },
      {
       "output_type": "stream",
       "stream": "stdout",
       "text": [
        "\n",
        "There are no reviews for styleid 200485007"
       ]
      },
      {
       "output_type": "stream",
       "stream": "stdout",
       "text": [
        "\n",
        "There are 1 reviews for styleid 200485020"
       ]
      },
      {
       "output_type": "stream",
       "stream": "stdout",
       "text": [
        "\n",
        "--------------------------------------------------------------------------------------------\n",
        "Bought this car because we needed something reasonably priced, great mileage, that can haul things around.\n",
        "First VW we have owned, we have owned BMW, Acura, Honda.\n",
        "Very happy so far with the purchase.\n",
        "Excellent driving, very good mileage (over 40 mpg....), plenty big, love the manual, and the turbo diesel.\n",
        "--------------------------------------------------------------------------------------------\n",
        "There are no reviews for styleid 200485015"
       ]
      },
      {
       "output_type": "stream",
       "stream": "stdout",
       "text": [
        "\n",
        "There are no reviews for styleid 200485012"
       ]
      },
      {
       "output_type": "stream",
       "stream": "stdout",
       "text": [
        "\n",
        "There are no reviews for styleid 200485008"
       ]
      },
      {
       "output_type": "stream",
       "stream": "stdout",
       "text": [
        "\n",
        "There are no reviews for styleid 200485016"
       ]
      },
      {
       "output_type": "stream",
       "stream": "stdout",
       "text": [
        "\n",
        "There are no reviews for styleid 200485017"
       ]
      },
      {
       "output_type": "stream",
       "stream": "stdout",
       "text": [
        "\n",
        "There are no reviews for styleid 200485009"
       ]
      },
      {
       "output_type": "stream",
       "stream": "stdout",
       "text": [
        "\n",
        "There are no reviews for styleid 200485018"
       ]
      },
      {
       "output_type": "stream",
       "stream": "stdout",
       "text": [
        "\n",
        "There are 1 reviews for styleid 200485013"
       ]
      },
      {
       "output_type": "stream",
       "stream": "stdout",
       "text": [
        "\n",
        "--------------------------------------------------------------------------------------------\n",
        "This car is the \"compromise\" for those who want decent gas milage and a wagon without breaking the bank. Be prepared to be uncomfortable in the small, hard seats as get your 40 MPG. And it is LOUD, a noise that music can not drown out. Oh well...gotta give to get.\n",
        "--------------------------------------------------------------------------------------------\n",
        "There are no reviews for styleid 200485010"
       ]
      },
      {
       "output_type": "stream",
       "stream": "stdout",
       "text": [
        "\n",
        "There are 1 reviews for styleid 200485014"
       ]
      },
      {
       "output_type": "stream",
       "stream": "stdout",
       "text": [
        "\n",
        "--------------------------------------------------------------------------------------------\n",
        "We looked for the a SportWagen TDI for a while. We usually buy a 1 or 2 year old car to avoid the initial hit from driving it off the lot. There just aren't many of those out there, and those that were out there were almost as much as new. These cars tend to last, and their owners hold on to them. So we bought new. \r\n",
        "\r\n",
        "\n",
        "--------------------------------------------------------------------------------------------\n",
        "------------------------------------------acura tsx-sport-wagon 2014--------------------------------------------------\n"
       ]
      },
      {
       "output_type": "stream",
       "stream": "stdout",
       "text": [
        "\n",
        "There are 2 styles for acura tsx-sport-wagon 2014"
       ]
      },
      {
       "output_type": "stream",
       "stream": "stdout",
       "text": [
        "\n",
        "--------------------------------------------------------------------------------------------\n",
        "There are no reviews for styleid 200673756"
       ]
      },
      {
       "output_type": "stream",
       "stream": "stdout",
       "text": [
        "\n",
        "There are no reviews for styleid 200673757"
       ]
      },
      {
       "output_type": "stream",
       "stream": "stdout",
       "text": [
        "\n",
        "------------------------------------------toyota prius-v 2014--------------------------------------------------\n",
        "\n",
        "There are 3 styles for toyota prius-v 2014"
       ]
      },
      {
       "output_type": "stream",
       "stream": "stdout",
       "text": [
        "\n",
        "--------------------------------------------------------------------------------------------\n",
        "There are no reviews for styleid 200490608"
       ]
      },
      {
       "output_type": "stream",
       "stream": "stdout",
       "text": [
        "\n",
        "There are no reviews for styleid 200490606"
       ]
      },
      {
       "output_type": "stream",
       "stream": "stdout",
       "text": [
        "\n",
        "There are no reviews for styleid 200490607"
       ]
      },
      {
       "output_type": "stream",
       "stream": "stdout",
       "text": [
        "\n",
        "------------------------------------------audi allroad 2014--------------------------------------------------\n",
        "\n",
        "There are 1 styles for audi allroad 2014"
       ]
      },
      {
       "output_type": "stream",
       "stream": "stdout",
       "text": [
        "\n",
        "--------------------------------------------------------------------------------------------\n",
        "There are 1 reviews for styleid 200477672"
       ]
      },
      {
       "output_type": "stream",
       "stream": "stdout",
       "text": [
        "\n",
        "--------------------------------------------------------------------------------------------\n",
        "To begin with, I am a SUV refugee. I have lived in the Colorado mountains near Denver and got stuck driving SUV's to have snow clearance so that my vehicle wouldn't be turned into a snowplow at the wrong times. But I did need the space to haul road bicycles inside the vehicle in the summer during rainy weather along with baggage. Also needed power for climbing the mountains and good gas mileage for driving long distances without living in a gas station. This Allroad does it all with ease and style. This reminds me of my first Allroad of years past but this is truly a starship in comparison. Love this car and the handling is great compared to a SUV which is its true competition.\n",
        "--------------------------------------------------------------------------------------------\n",
        "------------------------------------------ford c-max-hybrid 2014--------------------------------------------------\n"
       ]
      },
      {
       "output_type": "stream",
       "stream": "stdout",
       "text": [
        "\n",
        "There are 2 styles for ford c-max-hybrid 2014"
       ]
      },
      {
       "output_type": "stream",
       "stream": "stdout",
       "text": [
        "\n",
        "--------------------------------------------------------------------------------------------\n",
        "There are 2 reviews for styleid 200493259"
       ]
      },
      {
       "output_type": "stream",
       "stream": "stdout",
       "text": [
        "\n",
        "--------------------------------------------------------------------------------------------\n",
        "Very happy with the car after 2200 miles and averaging 44 MPG in a mix of highway and city during my normal commute.\n",
        "Think of the car as a mini-minvan - some cargo capacity (not a ton without dropping the back seat) but a solid commuter vehicle.\n",
        "Will run on electric power up to about 65 MPH.\n",
        "Cute efficiency monitor to train you on best MPG.\n",
        "Driving over 70 will run engine all the time for lowest MPG.\n",
        "Definitely shop for the base SE model - much better deal and the manual cloth seats work just fine.\n",
        "I avoided the MyTouch radio and glad I did.\n",
        "Replaced an Escape hybrid so I knew about driving a hybrid but no problems with learning how to keep it on electric often.\n",
        "--------------------------------------------------------------------------------------------\n",
        "I've had the C-Max for 3 month, and it's *great*. I'm above 52 MPG in my little commutes around our generally flat Southwest town -- have not taken it on freeway or long trips. It's very comfortable for the driver and passenger (not sure about that back seat), is zippy when it needs to be, and it's nice being elevated like a mini-SUV. I don't use the Sync system except for my MP3 player which sounds good. I'm spooked by the refuse-to-start reviews...and the other day the battery was dead! I just returned from a month-long trip, so I'm hoping that's the cause...and Ford is working on the issue judging by the forum posts at fordcmaxhybridforum.com...but still!!!\n",
        "--------------------------------------------------------------------------------------------\n",
        "There are no reviews for styleid 200493258"
       ]
      },
      {
       "output_type": "stream",
       "stream": "stdout",
       "text": [
        "\n",
        "------------------------------------------honda crosstour 2014--------------------------------------------------\n",
        "\n",
        "There are 8 styles for honda crosstour 2014"
       ]
      },
      {
       "output_type": "stream",
       "stream": "stdout",
       "text": [
        "\n",
        "--------------------------------------------------------------------------------------------\n",
        "There are 1 reviews for styleid 200491358"
       ]
      },
      {
       "output_type": "stream",
       "stream": "stdout",
       "text": [
        "\n",
        "--------------------------------------------------------------------------------------------\n",
        "The Accord suffix was dropped after a slight re-design in 2013, but the genetic relation to Honda's best selling sedan remains strong. Fit, finish, and quality, are excellent! The Crosstour is more like a \"Super Accord\" that has a beefier structure and higher road clearance. The suspension was raised to mimic a small SUV, but don't get it confused with an off-road vehicle. I'm sure the raised height will aid in deep snow and muddy country roads, but don't try to drive over a hefty log blocking your path. The rear hatch compartment with fold down seats will allow you to transport larger items but less room for extra passengers.  Rear cargo room with the seats up is good, but not remarkable.\n",
        "--------------------------------------------------------------------------------------------\n",
        "There are no reviews for styleid 200491354"
       ]
      },
      {
       "output_type": "stream",
       "stream": "stdout",
       "text": [
        "\n",
        "There are no reviews for styleid 200491357"
       ]
      },
      {
       "output_type": "stream",
       "stream": "stdout",
       "text": [
        "\n",
        "There are no reviews for styleid 200491353"
       ]
      },
      {
       "output_type": "stream",
       "stream": "stdout",
       "text": [
        "\n",
        "There are no reviews for styleid 200491359"
       ]
      },
      {
       "output_type": "stream",
       "stream": "stdout",
       "text": [
        "\n",
        "There are no reviews for styleid 200491356"
       ]
      },
      {
       "output_type": "stream",
       "stream": "stdout",
       "text": [
        "\n",
        "There are no reviews for styleid 200491360"
       ]
      },
      {
       "output_type": "stream",
       "stream": "stdout",
       "text": [
        "\n",
        "There are no reviews for styleid 200491355"
       ]
      },
      {
       "output_type": "stream",
       "stream": "stdout",
       "text": [
        "\n",
        "------------------------------------------volvo xc70 2014--------------------------------------------------\n",
        "\n",
        "There are 2 styles for volvo xc70 2014"
       ]
      },
      {
       "output_type": "stream",
       "stream": "stdout",
       "text": [
        "\n",
        "--------------------------------------------------------------------------------------------\n",
        "There are no reviews for styleid 200483723"
       ]
      },
      {
       "output_type": "stream",
       "stream": "stdout",
       "text": [
        "\n",
        "There are 2 reviews for styleid 200483722"
       ]
      },
      {
       "output_type": "stream",
       "stream": "stdout",
       "text": [
        "\n",
        "--------------------------------------------------------------------------------------------\n",
        "I just turned in a 2011 Subaru Forester at lease-end, which I liked, for the 2014 Volvo XC70 (T6 turbo, AWD), which I now have driven 2,000 miles.\n",
        "There are pros and cons to both--the Subaru was a simpler car with less gizmos to go wrong, and in 3 years, nothing broke. It was also very fun to drive-- very responsive steering. But for long trips, I like the Volvo better-- in fact I am less tired after a long freeway trip because of the excellent driving position, superior visibility, great road-holding feel (it feels like it drives itself when going 75 MPH), great seats, blind-spot monitoring system, and a superior audio sound system. The cabin is also very quiet, and AC is powerful. \n",
        "--------------------------------------------------------------------------------------------\n",
        "My wife drives an 2010 XC60.\n",
        "I\n",
        "have always enjoyed it.\n",
        "Shopping for a car for me took me down\n",
        "a wide variety of paths.\n",
        " BMW and MBs Audi, Lexus and more.\n",
        "I wanted a fun, economical and safe car being a grandfather of 4.\n",
        "My old wagon was a 2010 chipped Passat.\n",
        " Enjoyed it, but just didn't feel safe and secure.\n",
        "\n",
        "\n",
        "After much research I ordered a 2014 T6 with the platinum package.\n",
        " Again more research.\n",
        "Had the Polestar installed.\n",
        " Can you say WOW.\n",
        "If you want a fun car that gets low 20s on the highway.\n",
        " You just won't believe how well this car drives.\n",
        "It will surprise you.\n",
        " Seats are most comfortable\n",
        "of any car period.\n",
        "Any price and brand.\n",
        "I tried them all! I am 6 ft 2.\n",
        "250\n",
        "--------------------------------------------------------------------------------------------\n",
        "------------------------------------------ford c-max-energi 2014--------------------------------------------------\n"
       ]
      },
      {
       "output_type": "stream",
       "stream": "stdout",
       "text": [
        "\n",
        "There are 1 styles for ford c-max-energi 2014"
       ]
      },
      {
       "output_type": "stream",
       "stream": "stdout",
       "text": [
        "\n",
        "--------------------------------------------------------------------------------------------\n",
        "There are 1 reviews for styleid 200493193"
       ]
      },
      {
       "output_type": "stream",
       "stream": "stdout",
       "text": [
        "\n",
        "--------------------------------------------------------------------------------------------\n",
        "This is our first hybrid car. I wish we hadn't waited so long. The car just makes perfect sense, and what a way to say \"screw Big Oil!\"\r\n",
        "We've only had the car about two weeks, and we are already very impressed. Ford did a great job with it. My fiancee drives it to work everyday, about 42 miles round trip. Our terrain is rural back roads, open highway and a bit hilly--great for mild hypermiling. He gets to work in all EV mode and regens a couple miles, and a few miles back toward home before entering hybrid mode. If he could plug in at work, we would rarely ever have to get gas. As it is, I expect we will need to get gas once a month. Wow.. This seems crazy! Very happy overall!\r\n",
        "\r\n",
        "\n",
        "--------------------------------------------------------------------------------------------\n"
       ]
      }
     ],
     "prompt_number": 15
    },
    {
     "cell_type": "code",
     "collapsed": false,
     "input": [],
     "language": "python",
     "metadata": {},
     "outputs": []
    }
   ],
   "metadata": {}
  }
 ]
}